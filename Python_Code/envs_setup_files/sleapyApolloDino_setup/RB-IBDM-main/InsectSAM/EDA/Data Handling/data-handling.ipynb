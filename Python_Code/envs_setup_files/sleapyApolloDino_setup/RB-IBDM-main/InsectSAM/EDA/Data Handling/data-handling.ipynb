{
 "cells": [
  {
   "cell_type": "markdown",
   "metadata": {},
   "source": [
    "# Clean DIOPSIS dataset\n",
    "Automatically move all .jpg files smaller than 1KB to a `unusable_data` folder from the DIOPSIS annotated dataset.\n",
    "\n",
    "Data preparation for [Label Studio](https://github.com/HumanSignal/label-studio) / [Segment Anything Meta AI](https://github.com/facebookresearch/segment-anything) mask generation and image segmentation."
   ]
  },
  {
   "cell_type": "code",
   "execution_count": 1,
   "metadata": {},
   "outputs": [],
   "source": [
    "# Import necessary libraries\n",
    "import os\n",
    "import shutil"
   ]
  },
  {
   "cell_type": "code",
   "execution_count": 3,
   "metadata": {},
   "outputs": [],
   "source": [
    "# Specify the directory to search for .jpg files\n",
    "source_directory = r'C:\\Users\\rolingni\\Desktop\\Test\\Diopsis_photo_2024_06_17/'\n",
    "destination_directory = os.path.join(source_directory, 'unusable_data')\n",
    "\n",
    "# Create the destination directory if it doesn't exist\n",
    "if not os.path.exists(destination_directory):\n",
    "    os.makedirs(destination_directory)\n",
    "\n",
    "# Function to move .jpg files smaller than 1KB\n",
    "def move_small_images(source, destination):\n",
    "    # List all files in the source directory\n",
    "    for file_name in os.listdir(source):\n",
    "        # Check if the file is a .jpg image\n",
    "        if file_name.endswith('.jpg'):\n",
    "            file_path = os.path.join(source, file_name)\n",
    "            \n",
    "            # Check if the file size is smaller than 1KB\n",
    "            if os.path.getsize(file_path) < 1024:  # 1KB = 1024 bytes\n",
    "                # Move the file to the destination directory\n",
    "                shutil.move(file_path, os.path.join(destination, file_name))\n",
    "                print(f'Moved: {file_name}')\n",
    "\n",
    "# Run the function to move the small .jpg files\n",
    "move_small_images(source_directory, destination_directory)"
   ]
  },
  {
   "cell_type": "code",
   "execution_count": null,
   "metadata": {},
   "outputs": [],
   "source": []
  }
 ],
 "metadata": {
  "kernelspec": {
   "display_name": "Python 3 (ipykernel)",
   "language": "python",
   "name": "python3"
  },
  "language_info": {
   "codemirror_mode": {
    "name": "ipython",
    "version": 3
   },
   "file_extension": ".py",
   "mimetype": "text/x-python",
   "name": "python",
   "nbconvert_exporter": "python",
   "pygments_lexer": "ipython3",
   "version": "3.12.3"
  }
 },
 "nbformat": 4,
 "nbformat_minor": 4
}
