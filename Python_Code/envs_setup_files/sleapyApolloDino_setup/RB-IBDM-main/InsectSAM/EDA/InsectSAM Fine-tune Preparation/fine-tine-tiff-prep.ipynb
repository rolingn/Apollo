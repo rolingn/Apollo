{
 "cells": [
  {
   "cell_type": "markdown",
   "metadata": {},
   "source": [
    "# JPG to TIFF conversion using Python\n",
    "Preparation for `segment-anything` finetune on custom dataset."
   ]
  },
  {
   "cell_type": "code",
   "execution_count": 4,
   "metadata": {},
   "outputs": [
    {
     "name": "stdout",
     "output_type": "stream",
     "text": [
      "Total images: 273\n",
      "Images processed to .tiff: 273\n"
     ]
    }
   ],
   "source": [
    "from PIL import Image\n",
    "import os\n",
    "\n",
    "input_dir = \"/Users/martintomov/Desktop/diopsis_public_classification_clean/images_clean_prep\"\n",
    "\n",
    "output_dir = \"/Users/martintomov/Desktop/diopsis_public_classification_clean/images_clean_tiff\"\n",
    "\n",
    "# Ensure the output directory exists\n",
    "os.makedirs(output_dir, exist_ok=True)\n",
    "\n",
    "# Initialize counter\n",
    "total_images = 0\n",
    "processed_images = 0\n",
    "\n",
    "# Iterate through each image file in the input directory\n",
    "for filename in os.listdir(input_dir):\n",
    "    # Check if the file is a .jpg or .png file\n",
    "    if filename.endswith(\".jpg\") or filename.endswith(\".png\"):\n",
    "        total_images += 1\n",
    "        # Open the image file\n",
    "        img = Image.open(os.path.join(input_dir, filename))\n",
    "        \n",
    "        # Convert the image to TIFF format and save it\n",
    "        output_filename = os.path.splitext(filename)[0] + \".tiff\"\n",
    "        img.save(os.path.join(output_dir, output_filename), format=\"TIFF\")\n",
    "        \n",
    "        processed_images += 1\n",
    "\n",
    "# Print the total number of images processed\n",
    "print(f\"Total images: {total_images}\")\n",
    "print(f\"Images processed to .tiff: {processed_images}\")"
   ]
  },
  {
   "cell_type": "code",
   "execution_count": 5,
   "metadata": {},
   "outputs": [],
   "source": [
    "import random\n",
    "\n",
    "# Get a list of all TIFF files in the output directory\n",
    "tiff_files = [file for file in os.listdir(output_dir) if file.endswith(\".tiff\")]\n",
    "\n",
    "# Shuffle the list of TIFF files in random order\n",
    "random.shuffle(tiff_files)\n",
    "\n",
    "# Rename the TIFF files with sequential numbers\n",
    "for i, filename in enumerate(tiff_files, start=1):\n",
    "    new_filename = f\"{i}.tiff\"\n",
    "    os.rename(os.path.join(output_dir, filename), os.path.join(output_dir, new_filename))"
   ]
  },
  {
   "cell_type": "markdown",
   "metadata": {},
   "source": [
    "# TIFF Generated masks renaming for better data version control management\n",
    "Preparation for `segment-anything` finetune on custom dataset."
   ]
  },
  {
   "cell_type": "code",
   "execution_count": 2,
   "metadata": {},
   "outputs": [],
   "source": [
    "import os\n",
    "\n",
    "def rename_images(folder_path):\n",
    "    # List all files in the folder\n",
    "    files = os.listdir(folder_path)\n",
    "    # Filter only the .tiff files starting with 'mask_'\n",
    "    tiff_files = [file for file in files if file.endswith('.tiff') and file.startswith('mask_')]\n",
    "    # Sort the files based on the numbers after 'mask_'\n",
    "    tiff_files.sort(key=lambda x: int(x.split('_')[1].split('.')[0]))\n",
    "    # Iterate through the sorted files and rename them sequentially\n",
    "    for index, file in enumerate(tiff_files, start=1):\n",
    "        # Generate the new filename\n",
    "        new_filename = f\"{index}.tiff\"\n",
    "        # Construct the full path of the old and new filenames\n",
    "        old_file_path = os.path.join(folder_path, file)\n",
    "        new_file_path = os.path.join(folder_path, new_filename)\n",
    "        # Rename the file\n",
    "        os.rename(old_file_path, new_file_path)\n",
    "\n",
    "folder_path = \"/Users/martintomov/Desktop/diopsis_public_classification_clean/tiff_masks_generated\"\n",
    "# Call the function to rename the images\n",
    "rename_images(folder_path)"
   ]
  },
  {
   "cell_type": "markdown",
   "metadata": {},
   "source": [
    "# .TIFF images to .TIF folder"
   ]
  },
  {
   "cell_type": "code",
   "execution_count": 4,
   "metadata": {},
   "outputs": [
    {
     "name": "stdout",
     "output_type": "stream",
     "text": [
      "All TIFF files in '/Users/martintomov/Desktop/diopsis_public_classification_clean/240_imgs+240_masks_for_sam fine-tune/img_masks_tiff' have been converted to '/Users/martintomov/Desktop/diopsis_public_classification_clean/240_imgs+240_masks_for_sam fine-tune/img_masks.tif'.\n"
     ]
    }
   ],
   "source": [
    "import os\n",
    "from PIL import Image\n",
    "\n",
    "def convert_tiff_folder_to_tif(folder_path, output_path):\n",
    "    # Get a list of all TIFF files in the folder\n",
    "    tiff_files = [f for f in os.listdir(folder_path) if f.endswith('.tiff') or f.endswith('.tif')]\n",
    "\n",
    "    if not tiff_files:\n",
    "        print(\"No TIFF files found in the specified folder.\")\n",
    "        return\n",
    "\n",
    "    # Create a list to store images\n",
    "    images = []\n",
    "\n",
    "    # Open each TIFF file and append it to the images list\n",
    "    for tiff_file in tiff_files:\n",
    "        image_path = os.path.join(folder_path, tiff_file)\n",
    "        image = Image.open(image_path)\n",
    "        images.append(image)\n",
    "\n",
    "    # Save all images as a multi-page TIFF file\n",
    "    images[0].save(output_path, save_all=True, append_images=images[1:])\n",
    "\n",
    "    print(f\"All TIFF files in '{folder_path}' have been converted to '{output_path}'.\")\n",
    "\n",
    "folder_path = \"/Users/martintomov/Desktop/diopsis_public_classification_clean/240_imgs+240_masks_for_sam fine-tune/img_masks_tiff\"\n",
    "output_path = \"/Users/martintomov/Desktop/diopsis_public_classification_clean/240_imgs+240_masks_for_sam fine-tune/img_masks.tif\"\n",
    "convert_tiff_folder_to_tif(folder_path, output_path)"
   ]
  }
 ],
 "metadata": {
  "kernelspec": {
   "display_name": "Python 3",
   "language": "python",
   "name": "python3"
  },
  "language_info": {
   "codemirror_mode": {
    "name": "ipython",
    "version": 3
   },
   "file_extension": ".py",
   "mimetype": "text/x-python",
   "name": "python",
   "nbconvert_exporter": "python",
   "pygments_lexer": "ipython3",
   "version": "3.8.18"
  }
 },
 "nbformat": 4,
 "nbformat_minor": 2
}
