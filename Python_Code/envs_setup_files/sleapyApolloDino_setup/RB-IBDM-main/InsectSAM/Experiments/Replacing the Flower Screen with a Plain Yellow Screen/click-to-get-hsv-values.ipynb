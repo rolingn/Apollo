{
 "cells": [
  {
   "cell_type": "markdown",
   "metadata": {},
   "source": [
    "# OpenCV code that allows you to click on the image and get HSV values of that point. "
   ]
  },
  {
   "cell_type": "code",
   "execution_count": 1,
   "metadata": {},
   "outputs": [
    {
     "name": "stdout",
     "output_type": "stream",
     "text": [
      "HSV Values at ( 89 ,  405 ) - [ 39 157 174]\n"
     ]
    }
   ],
   "source": [
    "import cv2\n",
    "import numpy as np\n",
    "\n",
    "def get_hsv_values(event, x, y, flags, param):\n",
    "    if event == cv2.EVENT_LBUTTONDOWN:\n",
    "        hsv_value = hsv[y, x]\n",
    "        print(\"HSV Values at (\", x, \", \", y, \") -\", hsv_value)\n",
    "\n",
    "# Load the image\n",
    "image = cv2.imread('./data/flower-day-1.jpeg')\n",
    "\n",
    "# Check if the image is loaded successfully\n",
    "if image is None:\n",
    "    print(\"Failed to load the image\")\n",
    "else:\n",
    "    # Convert the image to HSV\n",
    "    hsv = cv2.cvtColor(image, cv2.COLOR_BGR2HSV)\n",
    "\n",
    "    # Create a window and set the mouse callback function\n",
    "    cv2.namedWindow('image')\n",
    "    cv2.setMouseCallback('image', get_hsv_values)\n",
    "\n",
    "    # Display the image\n",
    "    while True:\n",
    "        cv2.imshow('image', image)\n",
    "        if cv2.waitKey(20) & 0xFF == 27:  # exit on ESC\n",
    "            break\n",
    "\n",
    "    cv2.destroyAllWindows()\n",
    "image = cv2.imread('./data/flower-day-1.jpeg')\n",
    "hsv = cv2.cvtColor(image, cv2.COLOR_BGR2HSV)\n",
    "\n",
    "# Create a window and set the mouse callback function\n",
    "cv2.namedWindow('image')\n",
    "cv2.setMouseCallback('image', get_hsv_values)\n",
    "\n",
    "# Display the image\n",
    "while True:\n",
    "    cv2.imshow('image', image)\n",
    "    if cv2.waitKey(20) & 0xFF == 27:  # exit on ESC\n",
    "        break\n",
    "\n",
    "cv2.destroyAllWindows()"
   ]
  }
 ],
 "metadata": {
  "kernelspec": {
   "display_name": "Python 3",
   "language": "python",
   "name": "python3"
  },
  "language_info": {
   "codemirror_mode": {
    "name": "ipython",
    "version": 3
   },
   "file_extension": ".py",
   "mimetype": "text/x-python",
   "name": "python",
   "nbconvert_exporter": "python",
   "pygments_lexer": "ipython3",
   "version": "3.8.18"
  }
 },
 "nbformat": 4,
 "nbformat_minor": 2
}
