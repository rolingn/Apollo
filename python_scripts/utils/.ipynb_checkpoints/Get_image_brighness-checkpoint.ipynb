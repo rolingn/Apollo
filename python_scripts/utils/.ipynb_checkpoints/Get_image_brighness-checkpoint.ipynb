{
 "cells": [
  {
   "cell_type": "code",
   "execution_count": 8,
   "id": "6dc79beb-8c34-4bf6-ad03-0f3422fe9861",
   "metadata": {},
   "outputs": [],
   "source": [
    "import os\n",
    "import cv2\n",
    "import numpy as np\n",
    "import pandas as pd\n",
    "from datetime import datetime\n",
    "from tqdm import tqdm"
   ]
  },
  {
   "cell_type": "code",
   "execution_count": 9,
   "id": "876d8b4b-6796-4fe4-912e-398c2542400c",
   "metadata": {},
   "outputs": [],
   "source": [
    "def extract_brightness(image_path):\n",
    "    \"\"\"Compute the average brightness of an image.\"\"\"\n",
    "    image = cv2.imread(image_path, cv2.IMREAD_GRAYSCALE)  # Load in grayscale\n",
    "    if image is None:\n",
    "        return None\n",
    "    return np.mean(image)\n",
    "\n",
    "def parse_datetime_from_filename(filename):\n",
    "    \"\"\"Extracts date and time from a filename in the format YYYYMMDDHHMMSS.jpg.\"\"\"\n",
    "    try:\n",
    "        datetime_obj = datetime.strptime(filename[:14], \"%Y%m%d%H%M%S\")\n",
    "        return datetime_obj.strftime(\"%Y-%m-%d %H:%M:%S\")  # Format for easy use in R\n",
    "    except ValueError:\n",
    "        return None\n",
    "\n",
    "def process_images_in_folder(input_folder, output_csv):\n",
    "    \"\"\"Processes all images in subfolders, extracts brightness, and saves to CSV.\"\"\"\n",
    "    data = []\n",
    "    \n",
    "    # Collect all image files first for progress bar\n",
    "    image_files = []\n",
    "    for root, _, files in os.walk(input_folder):\n",
    "        for file in files:\n",
    "            if file.lower().endswith(('.png', '.jpg', '.jpeg')):\n",
    "                image_files.append((root, file))\n",
    "    \n",
    "    for root, file in tqdm(image_files, desc=\"Processing images\"):\n",
    "        image_path = os.path.join(root, file)\n",
    "        brightness = extract_brightness(image_path)\n",
    "        datetime_str = parse_datetime_from_filename(file)\n",
    "        \n",
    "        if brightness is not None and datetime_str is not None:\n",
    "            data.append([file, datetime_str, brightness])\n",
    "    \n",
    "    df = pd.DataFrame(data, columns=[\"Filename\", \"Datetime\", \"Brightness\"])\n",
    "    df.to_csv(output_csv, index=False)\n",
    "    print(f\"CSV saved at {output_csv}\")"
   ]
  },
  {
   "cell_type": "code",
   "execution_count": 12,
   "id": "9a0f9cd0-3ea0-43b9-8ccd-5d6b26fc54e6",
   "metadata": {},
   "outputs": [
    {
     "name": "stderr",
     "output_type": "stream",
     "text": [
      "Premature end of JPEG file██▌              | 7350/30446 [02:27<07:41, 50.00it/s]\n",
      "Premature end of JPEG file███▋             | 9168/30446 [03:03<07:33, 46.92it/s]\n",
      "Premature end of JPEG file████▍           | 10837/30446 [03:37<06:41, 48.88it/s]\n",
      "Premature end of JPEG file████▊           | 11484/30446 [03:49<06:17, 50.16it/s]\n",
      "Premature end of JPEG file\n",
      "Premature end of JPEG file███████▎        | 15686/30446 [05:11<05:07, 48.00it/s]\n",
      "Premature end of JPEG file██████████▏     | 20564/30446 [06:52<03:13, 51.04it/s]\n",
      "Premature end of JPEG file█████████████▍  | 26124/30446 [08:47<01:28, 49.07it/s]\n",
      "Processing images: 100%|██████████████████| 30446/30446 [10:16<00:00, 49.39it/s]\n"
     ]
    },
    {
     "name": "stdout",
     "output_type": "stream",
     "text": [
      "CSV saved at /Volumes/Apollo/Diopsis_Cameras/RESULTS_2024/image_brightnesses/Weiss_up.csv\n"
     ]
    }
   ],
   "source": [
    "# Example usage:\n",
    "input_folder = \"/Volumes/Apollo/Diopsis_Cameras/RESULTS_2024/Images_RAW_and_analyzed/387_Jatz_mid/DIOPSIS-387/photos\"  # Change this to your image folder path\n",
    "output_csv = \"/Volumes/Apollo/Diopsis_Cameras/RESULTS_2024/image_brightnesses/Jatz_mid.csv\"  # Change this to your desired CSV path\n",
    "process_images_in_folder(input_folder, output_csv)"
   ]
  },
  {
   "cell_type": "code",
   "execution_count": null,
   "id": "6dc3d990-a6aa-4d77-b1b8-285c488d5479",
   "metadata": {},
   "outputs": [],
   "source": []
  }
 ],
 "metadata": {
  "kernelspec": {
   "display_name": "Python 3 (ipykernel)",
   "language": "python",
   "name": "python3"
  },
  "language_info": {
   "codemirror_mode": {
    "name": "ipython",
    "version": 3
   },
   "file_extension": ".py",
   "mimetype": "text/x-python",
   "name": "python",
   "nbconvert_exporter": "python",
   "pygments_lexer": "ipython3",
   "version": "3.12.4"
  }
 },
 "nbformat": 4,
 "nbformat_minor": 5
}
