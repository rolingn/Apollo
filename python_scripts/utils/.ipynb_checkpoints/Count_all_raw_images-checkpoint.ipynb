{
 "cells": [
  {
   "cell_type": "code",
   "execution_count": 11,
   "id": "29fdf1e2-e585-4d66-93f6-62d63f28180f",
   "metadata": {},
   "outputs": [
    {
     "name": "stdout",
     "output_type": "stream",
     "text": [
      "Total .jpg files found: 11991\n"
     ]
    }
   ],
   "source": [
    "import os\n",
    "\n",
    "# Define the input folder\n",
    "input_folder = '/Volumes/Apollo/Diopsis_Cameras/RESULTS_2024/Images_RAW_and_analyzed/421_Jatz_low/DIOPSIS-421'\n",
    "\n",
    "# Start inside the 'photos' subfolder\n",
    "photos_folder = os.path.join(input_folder, 'photos')\n",
    "\n",
    "# Initialize counter\n",
    "jpg_count = 0\n",
    "\n",
    "# Walk through all subfolders\n",
    "for root, dirs, files in os.walk(photos_folder):\n",
    "    jpg_count += sum(file.lower().endswith('.jpg') for file in files)\n",
    "\n",
    "# Output the count\n",
    "print(f\"Total .jpg files found: {jpg_count}\")"
   ]
  },
  {
   "cell_type": "code",
   "execution_count": 17,
   "id": "3842d640-e410-4642-964f-7c24c5e8647d",
   "metadata": {},
   "outputs": [
    {
     "name": "stdout",
     "output_type": "stream",
     "text": [
      "207364\n"
     ]
    }
   ],
   "source": [
    "grand_total = 793 + 24468 + 21050 + 30446 + 27944 + 27966 + 30719 + 25712 + 6275 + 11991\n",
    "print(grand_total)"
   ]
  },
  {
   "cell_type": "code",
   "execution_count": 14,
   "id": "1276a1c4-b03c-4f97-a961-66b9a01fcdec",
   "metadata": {},
   "outputs": [
    {
     "name": "stdout",
     "output_type": "stream",
     "text": [
      "75964\n"
     ]
    }
   ],
   "source": [
    "Weissfluhjoch_total = 24468 + 21050 + 30446\n",
    "print(Weissfluhjoch_total)"
   ]
  },
  {
   "cell_type": "code",
   "execution_count": 18,
   "id": "c295d73c-9075-4cc2-9f49-22666e352745",
   "metadata": {},
   "outputs": [
    {
     "name": "stdout",
     "output_type": "stream",
     "text": [
      "57224\n"
     ]
    }
   ],
   "source": [
    "Monstein_total = 793 + 30719 + 25712\n",
    "print(Monstein_total)"
   ]
  },
  {
   "cell_type": "code",
   "execution_count": 16,
   "id": "a15e7f67-5258-4f9b-b6a7-9510ee130e3b",
   "metadata": {},
   "outputs": [
    {
     "name": "stdout",
     "output_type": "stream",
     "text": [
      "74176\n"
     ]
    }
   ],
   "source": [
    "Jatzhorn_total = 27944 + 27966 + 6275 + 11991\n",
    "print(Jatzhorn_total)"
   ]
  },
  {
   "cell_type": "code",
   "execution_count": 9,
   "id": "41625646-3b39-4a0d-ac3d-005da107a957",
   "metadata": {},
   "outputs": [
    {
     "name": "stdout",
     "output_type": "stream",
     "text": [
      "Total .jpg files between 20240723 and 20240918: 13372\n"
     ]
    }
   ],
   "source": [
    "import os\n",
    "\n",
    "from datetime import datetime\n",
    "\n",
    "# Define the input folder\n",
    "input_folder = '/Volumes/Apollo/Diopsis_Cameras/RESULTS_2024/Images_RAW_and_analyzed/421_Jatz_low/Jatzhorn_lower'\n",
    "photos_folder = os.path.join(input_folder, 'photos')\n",
    "\n",
    "# Define date range (as integers for comparison)\n",
    "start_date = 20240723\n",
    "end_date = 20240918\n",
    "\n",
    "jpg_count = 0\n",
    "\n",
    "for root, dirs, files in os.walk(photos_folder):\n",
    "    # Extract the last part of the path (the subfolder name)\n",
    "    folder_name = os.path.basename(root)\n",
    "\n",
    "    # Check if folder name is a valid date in yyyymmdd format\n",
    "    if folder_name.isdigit() and len(folder_name) == 8:\n",
    "        folder_date = int(folder_name)\n",
    "        if start_date <= folder_date <= end_date:\n",
    "            jpg_count += sum(file.lower().endswith('.jpg') for file in files)\n",
    "\n",
    "print(f\"Total .jpg files between {start_date} and {end_date}: {jpg_count}\")"
   ]
  },
  {
   "cell_type": "code",
   "execution_count": 10,
   "id": "eff09eab-a979-44a5-8e08-33564bdee2ca",
   "metadata": {},
   "outputs": [
    {
     "name": "stdout",
     "output_type": "stream",
     "text": [
      "167032\n"
     ]
    }
   ],
   "source": [
    "active_total = 793 + 16862 + 20858 + 22404 + 20425 + 22989 + 25326 + 24003 + 13372\n",
    "print(active_total)"
   ]
  },
  {
   "cell_type": "code",
   "execution_count": null,
   "id": "d18f9371-f8e2-4956-a901-1cf4f8b45f58",
   "metadata": {},
   "outputs": [],
   "source": []
  }
 ],
 "metadata": {
  "kernelspec": {
   "display_name": "Python 3 (ipykernel)",
   "language": "python",
   "name": "python3"
  },
  "language_info": {
   "codemirror_mode": {
    "name": "ipython",
    "version": 3
   },
   "file_extension": ".py",
   "mimetype": "text/x-python",
   "name": "python",
   "nbconvert_exporter": "python",
   "pygments_lexer": "ipython3",
   "version": "3.12.4"
  }
 },
 "nbformat": 4,
 "nbformat_minor": 5
}
