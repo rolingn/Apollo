{
 "cells": [
  {
   "cell_type": "code",
   "execution_count": 15,
   "id": "8c9e54bb-8ad1-43ab-9d3b-671cc7332af3",
   "metadata": {},
   "outputs": [],
   "source": [
    "import cv2\n",
    "from PIL import Image\n",
    "import os"
   ]
  },
  {
   "cell_type": "code",
   "execution_count": 19,
   "id": "3bc955e9-f79d-4548-a9d2-e7a08072a14c",
   "metadata": {},
   "outputs": [
    {
     "name": "stdout",
     "output_type": "stream",
     "text": [
      "Help on package cv2:\n",
      "\n",
      "NAME\n",
      "    cv2 - OpenCV Python binary extension loader\n",
      "\n",
      "PACKAGE CONTENTS\n",
      "    config\n",
      "    config-3\n",
      "    cv2\n",
      "    data (package)\n",
      "    gapi (package)\n",
      "    load_config_py2\n",
      "    load_config_py3\n",
      "    mat_wrapper (package)\n",
      "    misc (package)\n",
      "    typing (package)\n",
      "    utils (package)\n",
      "    version\n",
      "\n",
      "SUBMODULES\n",
      "    Error\n",
      "    aruco\n",
      "    barcode\n",
      "    cuda\n",
      "    detail\n",
      "    dnn\n",
      "    fisheye\n",
      "    flann\n",
      "    ipp\n",
      "    ml\n",
      "    ocl\n",
      "    ogl\n",
      "    parallel\n",
      "    samples\n",
      "    segmentation\n",
      "    videoio_registry\n",
      "\n",
      "DATA\n",
      "    __all__ = []\n",
      "\n",
      "VERSION\n",
      "    4.9.0\n",
      "\n",
      "FILE\n",
      "    c:\\users\\rolingni\\appdata\\local\\anaconda3\\envs\\insectdetectsam\\lib\\site-packages\\cv2\\__init__.py\n",
      "\n",
      "\n"
     ]
    }
   ],
   "source": [
    "help(cv2)"
   ]
  },
  {
   "cell_type": "code",
   "execution_count": 16,
   "id": "cff5507c-acce-4252-824c-9e3ad56852e0",
   "metadata": {},
   "outputs": [],
   "source": [
    "def load_cropped_images_into_video(image_folder,  fps=30, resize = False):\n",
    "    images = [img for img in os.listdir(image_folder) if img.endswith(\".jpg\")]\n",
    "    images.sort()  # Ensure the images are in the correct order\n",
    "    output_video_path = r\"C:\\Users\\rolingni\\AppData\\Local\\anaconda3\\envs\\sleap\\temp_video.mp4\"\n",
    "\n",
    "    if not images:\n",
    "        print(\"No images found in the folder.\")\n",
    "        return\n",
    "\n",
    "    # Read the first image to get the dimensions\n",
    "    height = 185\n",
    "    width = 167\n",
    "\n",
    "    # Define the codec and create VideoWriter object\n",
    "    fourcc = cv2.VideoWriter_fourcc(*'mp4v')  # You can use other codecs like 'XVID'\n",
    "    video = cv2.VideoWriter(output_video_path, fourcc, fps, (width, height))\n",
    "\n",
    "    for image in images:\n",
    "        frame = cv2.imread(os.path.join(image_folder, image))\n",
    "        if resize:\n",
    "            frame = cv2.resize(frame, (width, height))  # Resize to ensure all frames have the same dimensions\n",
    "        video.write(frame)\n",
    "\n",
    "    video.release()\n",
    "    return output_video_path"
   ]
  },
  {
   "cell_type": "code",
   "execution_count": 17,
   "id": "1e1e3868-86cd-4036-a212-78ee074dade5",
   "metadata": {},
   "outputs": [],
   "source": [
    "video = load_cropped_images_into_video(r'C:\\Users\\rolingni\\Pictures\\mit_nacht_1')"
   ]
  },
  {
   "cell_type": "code",
   "execution_count": 18,
   "id": "5601e3cd-96cb-441c-8f7d-4f309b76e2ba",
   "metadata": {},
   "outputs": [
    {
     "ename": "AttributeError",
     "evalue": "module 'cv2' has no attribute 'TrackerKCF_create'",
     "output_type": "error",
     "traceback": [
      "\u001b[1;31m---------------------------------------------------------------------------\u001b[0m",
      "\u001b[1;31mAttributeError\u001b[0m                            Traceback (most recent call last)",
      "Cell \u001b[1;32mIn[18], line 2\u001b[0m\n\u001b[0;32m      1\u001b[0m \u001b[38;5;66;03m# Initialize the tracker\u001b[39;00m\n\u001b[1;32m----> 2\u001b[0m tracker \u001b[38;5;241m=\u001b[39m \u001b[43mcv2\u001b[49m\u001b[38;5;241;43m.\u001b[39;49m\u001b[43mTrackerKCF_create\u001b[49m()\n\u001b[0;32m      4\u001b[0m \u001b[38;5;66;03m# Read the first frame of the video\u001b[39;00m\n\u001b[0;32m      5\u001b[0m video \u001b[38;5;241m=\u001b[39m cv2\u001b[38;5;241m.\u001b[39mVideoCapture(video)\n",
      "\u001b[1;31mAttributeError\u001b[0m: module 'cv2' has no attribute 'TrackerKCF_create'"
     ]
    }
   ],
   "source": [
    "# Initialize the tracker\n",
    "tracker = cv2.TrackerKCF_create()\n",
    "\n",
    "# Read the first frame of the video\n",
    "video = cv2.VideoCapture(video)\n",
    "ret, frame = video.read()\n",
    "\n",
    "# Define the initial bounding box\n",
    "bbox = cv2.selectROI(frame, False)\n",
    "\n",
    "# Initialize the tracker with the first frame and bounding box\n",
    "tracker.init(frame, bbox)\n",
    "\n",
    "while True:\n",
    "    ret, frame = video.read()\n",
    "    if not ret:\n",
    "        break\n",
    "\n",
    "    # Update the tracker\n",
    "    ret, bbox = tracker.update(frame)\n",
    "\n",
    "    if ret:\n",
    "        # Draw the bounding box\n",
    "        p1 = (int(bbox[0]), int(bbox[1]))\n",
    "        p2 = (int(bbox[0] + bbox[2]), int(bbox[1] + bbox[3]))\n",
    "        cv2.rectangle(frame, p1, p2, (255, 0, 0), 2, 1)\n",
    "    else:\n",
    "        # Tracking failure\n",
    "        cv2.putText(frame, \"Tracking failure detected\", (100, 80), cv2.FONT_HERSHEY_SIMPLEX, 0.75, (0, 0, 255), 2)\n",
    "\n",
    "    # Display the frame\n",
    "    cv2.imshow(\"Tracking\", frame)\n",
    "\n",
    "    # Exit if 'q' is pressed\n",
    "    if cv2.waitKey(1) & 0xFF == ord('q'):\n",
    "        break\n",
    "\n",
    "video.release()\n",
    "cv2.destroyAllWindows()"
   ]
  },
  {
   "cell_type": "code",
   "execution_count": 1,
   "id": "5d34abd8-97a9-4904-8b72-1aaad90bc063",
   "metadata": {},
   "outputs": [],
   "source": []
  },
  {
   "cell_type": "code",
   "execution_count": 7,
   "id": "01514179-7019-4b5e-8951-50ec9f9bab26",
   "metadata": {},
   "outputs": [
    {
     "name": "stdout",
     "output_type": "stream",
     "text": [
      "Image C:\\Users\\rolingni\\Desktop\\zumSchicken\\moth\\20240810230709_cropped_1.jpg not found.\n",
      "Image C:\\Users\\rolingni\\Desktop\\zumSchicken\\moth\\20240812000026_cropped_2.jpg not found.\n"
     ]
    }
   ],
   "source": [
    "import pandas as pd\n",
    "import os\n",
    "import shutil\n",
    "\n",
    "# Read the CSV file\n",
    "df = pd.read_csv(r'C:\\Users\\rolingni\\Desktop\\MothSpecies.csv', delimiter = ';')\n",
    "\n",
    "# Iterate over columns to create folders and move images\n",
    "for column in df.columns:\n",
    "    # Create a folder for each column name\n",
    "    folder_name = column\n",
    "    if not os.path.exists(folder_name):\n",
    "        out_folder_path = os.path.join(r'C:\\Users\\rolingni\\Pictures\\Moths', folder_name)\n",
    "        os.makedirs(out_folder_path, exist_ok=True)\n",
    "    \n",
    "    # Move images to the corresponding folder\n",
    "    for image_name in df[column].dropna():\n",
    "        # Assuming images are in the current directory\n",
    "        source_path = os.path.join(r'C:\\Users\\rolingni\\Desktop\\zumSchicken\\moth', f\"{image_name}.jpg\")\n",
    "        destination_path = os.path.join(out_folder_path, image_name)\n",
    "        if os.path.exists(source_path):\n",
    "            shutil.move(source_path, destination_path)\n",
    "        else:\n",
    "            print(f\"Image {source_path} not found.\")"
   ]
  },
  {
   "cell_type": "code",
   "execution_count": null,
   "id": "12dae861-d0af-402c-af20-ef1001756927",
   "metadata": {},
   "outputs": [],
   "source": []
  }
 ],
 "metadata": {
  "kernelspec": {
   "display_name": "Python 3 (ipykernel)",
   "language": "python",
   "name": "python3"
  },
  "language_info": {
   "codemirror_mode": {
    "name": "ipython",
    "version": 3
   },
   "file_extension": ".py",
   "mimetype": "text/x-python",
   "name": "python",
   "nbconvert_exporter": "python",
   "pygments_lexer": "ipython3",
   "version": "3.12.4"
  }
 },
 "nbformat": 4,
 "nbformat_minor": 5
}
