{
 "cells": [
  {
   "cell_type": "code",
   "execution_count": 1,
   "id": "76eae0bf-9adf-4a31-9f83-f054f5b35c23",
   "metadata": {},
   "outputs": [],
   "source": [
    "import os\n",
    "import csv\n",
    "import warnings\n",
    "warnings.filterwarnings('ignore')\n",
    "warnings.simplefilter(action='always', category=UserWarning)\n",
    "import random\n",
    "from dataclasses import dataclass\n",
    "from typing import Any, List, Dict, Optional, Union, Tuple\n",
    "from tqdm import tqdm\n",
    "from IPython.display import clear_output\n",
    "from collections import deque\n",
    "import pandas as pd\n",
    "import cv2\n",
    "import torch\n",
    "import requests\n",
    "import numpy as np\n",
    "from PIL import Image, ImageDraw, ImageFont, PngImagePlugin\n",
    "import plotly.express as px\n",
    "import matplotlib.pyplot as plt\n",
    "import plotly.graph_objects as go\n",
    "from transformers import AutoModelForMaskGeneration, AutoProcessor, pipeline\n",
    "import subprocess\n",
    "import json\n",
    "import re\n",
    "import time\n",
    "\n",
    "### Selbst erstellt\n",
    "from FunktionenZumImportieren.classes import *\n",
    "from FunktionenZumImportieren.helper_funktionen import *\n",
    "warnings.formatwarning = custom_warning_format"
   ]
  },
  {
   "cell_type": "markdown",
   "id": "e733fdc4-ff0e-42a9-a372-892b5ef3cf42",
   "metadata": {},
   "source": [
    "#### Funktionsvariablen definieren"
   ]
  },
  {
   "cell_type": "markdown",
   "id": "106398b3-e2b8-446b-986c-4772b972c17a",
   "metadata": {},
   "source": [
    "###### labels: danach wird im Bild gesucht\n",
    "###### threshold: stellt ein ab wann eine Erkennung im Bild akzeptiert wird\n",
    "###### similarity_thresh: determines the distance (in px) where the code recognizes that insects on consecutive images are likely the same one. will not save a cropped version if it finds similarities\n",
    "###### buffer: specifies the amount of border space in the cropped images\n",
    "###### pixel_scale: Sets the pixel scale of the original image. Value = 1cm. Set to 10 if you want to output pixel values\n",
    "###### start_image: The name of a picture can be specified here (with extention). The code will then skip all the files before. Leave empty if you want to analyze all the images in the folder.\n",
    "###### save_in_subfolder: Set to 'True' if you want to save the cropped detections in a separate folder for each image\n",
    "###### image_format: Can be either \"web\", \"path\" or \"folder\" depending on what type of image you want to feed in. Code is optimized for \"folder\".\n",
    "##### Either InsectDetect or ApolloNet must be set to True. One model must be used for insect classifiction for the code to work"
   ]
  },
  {
   "cell_type": "code",
   "execution_count": 2,
   "id": "3eff74bf-0b3d-40fa-be53-4c216207f2c6",
   "metadata": {},
   "outputs": [],
   "source": [
    "labels = [\"insect\"]\n",
    "threshold = 0.3\n",
    "similarity_thresh = 150\n",
    "buffer = 15\n",
    "pixel_scale = 87\n",
    "pixel_scale /= 10                      #### change nothing here\n",
    "InsectDetect = False                   #### specifies whether InsectDetect is utilized for insect classification\n",
    "ApolloNet = True                       #### specifies whether ApolloNet is utilized for insect classification\n",
    "start_image = ''\n",
    "save_in_subfolder = False\n",
    "image_format = \"folder\""
   ]
  },
  {
   "cell_type": "code",
   "execution_count": 7,
   "id": "a7d31e5b-0c05-4bfd-9854-73d7f2d46a0f",
   "metadata": {},
   "outputs": [],
   "source": [
    "image_url = \"https://assets.faunabit.eu/photos/DIOPSIS-384/20240627/20240627134344.jpg\"\n",
    "\n",
    "image_path = r\"C:\\Users\\rolingni\\Desktop\\20240626102952.jpg\"\n",
    "\n",
    "image_folder = r\"C:\\Users\\rolingni\\Pictures\\mit_nacht_20\""
   ]
  },
  {
   "cell_type": "markdown",
   "id": "bce8e2bd-31db-45e8-8cce-19b37160ad6e",
   "metadata": {},
   "source": [
    "# Mit Erkennung von Doppelerkennung"
   ]
  },
  {
   "cell_type": "markdown",
   "id": "5b44ab56-1656-4fd3-91e9-b6bc573bec50",
   "metadata": {},
   "source": [
    "##### Implementiert:\n",
    "##### Erkennt, ob ein Bild zu dunkel ist. Falls ja, wird es nicht analysiert und im Unterordner \"dark_frames\" als grayscale-Bild gespeichert.\n",
    "##### Identifiziert Insekten im Bild und gibt eine bounding-box aus\n",
    "##### Checkt, ob die identifizierten Insekten an einer ähnlichen Position sind wie Insekten, die im letzten Bild der Reihe gefunden wurden. Die Empfindlichkeit wird über \"similarity_thresh\" eingestellt und bezeichnet den minimalen Abstand in Pixeln, den ein Insekt von den Insekten im letzen Bild entfernt sein muss, um als kleinerer Bildausschnitt gespeichert zu werden. Wird oben eingestellt.\n",
    "##### Erkennt, ob ein vom Algorithmus erkanntes Insekt eine unrealistische Grösse hat und speichert den entsprechenden Crop im Unterordner \"potentially_faulty\".\n",
    "##### Speichert die Rohbilder mit visualisierten Trackdaten im Unterordner \"detection_drawings\"."
   ]
  },
  {
   "cell_type": "code",
   "execution_count": 8,
   "id": "0856b814-f7c0-454f-b65f-c2b95dedfac2",
   "metadata": {},
   "outputs": [
    {
     "name": "stderr",
     "output_type": "stream",
     "text": [
      "  0%|                                                                                                              | 0/190 [00:00<?, ?it/s]"
     ]
    },
    {
     "name": "stdout",
     "output_type": "stream",
     "text": [
      "Looking for ['insect'] in 20240903000813.jpg\n"
     ]
    },
    {
     "name": "stderr",
     "output_type": "stream",
     "text": [
      "  1%|█                                                                                                     | 2/190 [00:21<28:16,  9.02s/it]"
     ]
    },
    {
     "name": "stdout",
     "output_type": "stream",
     "text": [
      "Number of detections: 0\n",
      "The current image is to dark. I will skip it in the analysis but save it in the dark_frames folder for traceback...\n"
     ]
    },
    {
     "name": "stderr",
     "output_type": "stream",
     "text": [
      "  2%|██▏                                                                                                   | 4/190 [00:22<09:27,  3.05s/it]"
     ]
    },
    {
     "name": "stdout",
     "output_type": "stream",
     "text": [
      "The current image is to dark. I will skip it in the analysis but save it in the dark_frames folder for traceback...\n",
      "The current image is to dark. I will skip it in the analysis but save it in the dark_frames folder for traceback...\n"
     ]
    },
    {
     "name": "stderr",
     "output_type": "stream",
     "text": [
      "  3%|███▏                                                                                                  | 6/190 [00:22<04:08,  1.35s/it]"
     ]
    },
    {
     "name": "stdout",
     "output_type": "stream",
     "text": [
      "The current image is to dark. I will skip it in the analysis but save it in the dark_frames folder for traceback...\n",
      "The current image is to dark. I will skip it in the analysis but save it in the dark_frames folder for traceback...\n"
     ]
    },
    {
     "name": "stderr",
     "output_type": "stream",
     "text": [
      "  4%|████▎                                                                                                 | 8/190 [00:22<02:03,  1.47it/s]"
     ]
    },
    {
     "name": "stdout",
     "output_type": "stream",
     "text": [
      "The current image is to dark. I will skip it in the analysis but save it in the dark_frames folder for traceback...\n",
      "The current image is to dark. I will skip it in the analysis but save it in the dark_frames folder for traceback...\n",
      "The current image is to dark. I will skip it in the analysis but save it in the dark_frames folder for traceback...\n"
     ]
    },
    {
     "name": "stderr",
     "output_type": "stream",
     "text": [
      "  6%|█████▊                                                                                               | 11/190 [00:22<00:58,  3.05it/s]"
     ]
    },
    {
     "name": "stdout",
     "output_type": "stream",
     "text": [
      "The current image is to dark. I will skip it in the analysis but save it in the dark_frames folder for traceback...\n",
      "The current image is to dark. I will skip it in the analysis but save it in the dark_frames folder for traceback...\n"
     ]
    },
    {
     "name": "stderr",
     "output_type": "stream",
     "text": [
      "  7%|███████▍                                                                                             | 14/190 [00:23<00:34,  5.15it/s]"
     ]
    },
    {
     "name": "stdout",
     "output_type": "stream",
     "text": [
      "The current image is to dark. I will skip it in the analysis but save it in the dark_frames folder for traceback...\n",
      "The current image is to dark. I will skip it in the analysis but save it in the dark_frames folder for traceback...\n",
      "The current image is to dark. I will skip it in the analysis but save it in the dark_frames folder for traceback...\n"
     ]
    },
    {
     "name": "stderr",
     "output_type": "stream",
     "text": [
      "  9%|█████████                                                                                            | 17/190 [00:23<00:24,  7.01it/s]"
     ]
    },
    {
     "name": "stdout",
     "output_type": "stream",
     "text": [
      "The current image is to dark. I will skip it in the analysis but save it in the dark_frames folder for traceback...\n",
      "The current image is to dark. I will skip it in the analysis but save it in the dark_frames folder for traceback...\n",
      "The current image is to dark. I will skip it in the analysis but save it in the dark_frames folder for traceback...\n"
     ]
    },
    {
     "name": "stderr",
     "output_type": "stream",
     "text": [
      " 10%|██████████                                                                                           | 19/190 [00:23<00:21,  8.09it/s]"
     ]
    },
    {
     "name": "stdout",
     "output_type": "stream",
     "text": [
      "The current image is to dark. I will skip it in the analysis but save it in the dark_frames folder for traceback...\n",
      "The current image is to dark. I will skip it in the analysis but save it in the dark_frames folder for traceback...\n"
     ]
    },
    {
     "name": "stderr",
     "output_type": "stream",
     "text": [
      " 11%|██████████▋                                                                                          | 20/190 [00:23<00:21,  7.81it/s]"
     ]
    },
    {
     "name": "stdout",
     "output_type": "stream",
     "text": [
      "The current image is to dark. I will skip it in the analysis but save it in the dark_frames folder for traceback...\n",
      "Looking for ['insect'] in 20240903064214.jpg\n",
      "Number of detections: 2\n",
      "Checking if detection 1 is in 150 pixel proximity to one of the 0 detections from the last image.\n",
      "No similarities found.\n",
      "Detection 1 was saved :)\n"
     ]
    },
    {
     "name": "stderr",
     "output_type": "stream",
     "text": [
      " 11%|███████████▏                                                                                         | 21/190 [00:44<14:43,  5.23s/it]"
     ]
    },
    {
     "name": "stdout",
     "output_type": "stream",
     "text": [
      "Checking if detection 2 is in 150 pixel proximity to one of the 0 detections from the last image.\n",
      "No similarities found.\n",
      "Detection 2 was saved :)\n",
      "Looking for ['insect'] in 20240903070223.jpg\n",
      "Number of detections: 2\n",
      "Checking if detection 1 is in 150 pixel proximity to one of the 2 detections from the last image.\n",
      "Similarity found... Cropped detection 1 will NOT be saved.\n",
      "Checking if detection 2 is in 150 pixel proximity to one of the 2 detections from the last image.\n",
      "Similarity found... Cropped detection 2 will NOT be saved.\n"
     ]
    },
    {
     "name": "stderr",
     "output_type": "stream",
     "text": [
      " 12%|███████████▋                                                                                         | 22/190 [01:05<26:11,  9.35s/it]"
     ]
    },
    {
     "name": "stdout",
     "output_type": "stream",
     "text": [
      "Looking for ['insect'] in 20240903072226.jpg\n"
     ]
    },
    {
     "name": "stderr",
     "output_type": "stream",
     "text": [
      " 12%|████████████▏                                                                                        | 23/190 [01:25<34:22, 12.35s/it]"
     ]
    },
    {
     "name": "stdout",
     "output_type": "stream",
     "text": [
      "Number of detections: 1\n",
      "Checking if detection 1 is in 150 pixel proximity to one of the 2 detections from the last image.\n",
      "Similarity found... Cropped detection 1 will NOT be saved.\n",
      "Looking for ['insect'] in 20240903074234.jpg\n"
     ]
    },
    {
     "name": "stderr",
     "output_type": "stream",
     "text": [
      " 13%|████████████▊                                                                                        | 24/190 [01:45<40:27, 14.62s/it]"
     ]
    },
    {
     "name": "stdout",
     "output_type": "stream",
     "text": [
      "Number of detections: 0\n",
      "Looking for ['insect'] in 20240903080624.jpg\n"
     ]
    },
    {
     "name": "stderr",
     "output_type": "stream",
     "text": [
      " 13%|█████████████▎                                                                                       | 25/190 [02:06<44:42, 16.26s/it]"
     ]
    },
    {
     "name": "stdout",
     "output_type": "stream",
     "text": [
      "Number of detections: 0\n",
      "Looking for ['insect'] in 20240903082630.jpg\n"
     ]
    },
    {
     "name": "stderr",
     "output_type": "stream",
     "text": [
      " 14%|█████████████▊                                                                                       | 26/190 [02:26<47:39, 17.44s/it]"
     ]
    },
    {
     "name": "stdout",
     "output_type": "stream",
     "text": [
      "Number of detections: 0\n",
      "Looking for ['insect'] in 20240903084633.jpg\n"
     ]
    },
    {
     "name": "stderr",
     "output_type": "stream",
     "text": [
      " 14%|██████████████▎                                                                                      | 27/190 [02:46<49:42, 18.30s/it]"
     ]
    },
    {
     "name": "stdout",
     "output_type": "stream",
     "text": [
      "Number of detections: 0\n",
      "Looking for ['insect'] in 20240903090640.jpg\n"
     ]
    },
    {
     "name": "stderr",
     "output_type": "stream",
     "text": [
      " 15%|██████████████▉                                                                                      | 28/190 [03:15<57:26, 21.28s/it]"
     ]
    },
    {
     "name": "stdout",
     "output_type": "stream",
     "text": [
      "Number of detections: 0\n",
      "Looking for ['insect'] in 20240903092453.jpg\n",
      "Number of detections: 2\n",
      "Checking if detection 1 is in 150 pixel proximity to one of the 0 detections from the last image.\n",
      "No similarities found.\n",
      "Detection 1 was saved :)\n",
      "Checking if detection 2 is in 150 pixel proximity to one of the 0 detections from the last image.\n",
      "No similarities found.\n"
     ]
    },
    {
     "name": "stderr",
     "output_type": "stream",
     "text": [
      " 15%|███████████████▍                                                                                     | 29/190 [03:35<56:42, 21.14s/it]"
     ]
    },
    {
     "name": "stdout",
     "output_type": "stream",
     "text": [
      "Detection 2 was saved :)\n",
      "Looking for ['insect'] in 20240903092552.jpg\n",
      "Number of detections: 2\n",
      "Checking if detection 1 is in 150 pixel proximity to one of the 2 detections from the last image.\n",
      "No similarities found.\n",
      "Detection 1 was saved :)\n",
      "Checking if detection 2 is in 150 pixel proximity to one of the 2 detections from the last image.\n",
      "Similarity found... Cropped detection 2 will NOT be saved.\n"
     ]
    },
    {
     "name": "stderr",
     "output_type": "stream",
     "text": [
      " 16%|███████████████▉                                                                                     | 30/190 [03:57<56:23, 21.14s/it]"
     ]
    },
    {
     "name": "stdout",
     "output_type": "stream",
     "text": [
      "Looking for ['insect'] in 20240903093610.jpg\n"
     ]
    },
    {
     "name": "stderr",
     "output_type": "stream",
     "text": [
      " 16%|████████████████▍                                                                                    | 31/190 [04:18<55:55, 21.11s/it]"
     ]
    },
    {
     "name": "stdout",
     "output_type": "stream",
     "text": [
      "Number of detections: 1\n",
      "Checking if detection 1 is in 150 pixel proximity to one of the 2 detections from the last image.\n",
      "Similarity found... Cropped detection 1 will NOT be saved.\n",
      "Looking for ['insect'] in 20240903095615.jpg\n",
      "Number of detections: 1\n",
      "Checking if detection 1 is in 150 pixel proximity to one of the 1 detections from the last image.\n",
      "No similarities found.\n",
      "Detection 1 was saved :)\n"
     ]
    },
    {
     "name": "stderr",
     "output_type": "stream",
     "text": [
      " 17%|█████████████████                                                                                    | 32/190 [04:39<55:42, 21.16s/it]"
     ]
    },
    {
     "name": "stdout",
     "output_type": "stream",
     "text": [
      "Looking for ['insect'] in 20240903100711.jpg\n",
      "Number of detections: 1\n",
      "Checking if detection 1 is in 150 pixel proximity to one of the 1 detections from the last image.\n",
      "Similarity found... Cropped detection 1 will NOT be saved.\n"
     ]
    },
    {
     "name": "stderr",
     "output_type": "stream",
     "text": [
      " 17%|█████████████████▌                                                                                   | 33/190 [05:01<56:01, 21.41s/it]"
     ]
    },
    {
     "name": "stdout",
     "output_type": "stream",
     "text": [
      "Looking for ['insect'] in 20240903101901.jpg\n"
     ]
    },
    {
     "name": "stderr",
     "output_type": "stream",
     "text": [
      " 18%|██████████████████                                                                                   | 34/190 [05:23<56:17, 21.65s/it]"
     ]
    },
    {
     "name": "stdout",
     "output_type": "stream",
     "text": [
      "Number of detections: 1\n",
      "Checking if detection 1 is in 150 pixel proximity to one of the 1 detections from the last image.\n",
      "Similarity found... Cropped detection 1 will NOT be saved.\n",
      "Looking for ['insect'] in 20240903103011.jpg\n",
      "Number of detections: 2\n",
      "Checking if detection 1 is in 150 pixel proximity to one of the 1 detections from the last image.\n",
      "No similarities found.\n",
      "Detection 1 was saved :)\n",
      "Checking if detection 2 is in 150 pixel proximity to one of the 1 detections from the last image.\n",
      "Similarity found... Cropped detection 2 will NOT be saved.\n"
     ]
    },
    {
     "name": "stderr",
     "output_type": "stream",
     "text": [
      " 18%|██████████████████▌                                                                                  | 35/190 [05:44<55:22, 21.44s/it]"
     ]
    },
    {
     "name": "stdout",
     "output_type": "stream",
     "text": [
      "Looking for ['insect'] in 20240903104039.jpg\n"
     ]
    },
    {
     "name": "stderr",
     "output_type": "stream",
     "text": [
      " 19%|███████████████████▏                                                                                 | 36/190 [06:05<54:34, 21.26s/it]"
     ]
    },
    {
     "name": "stdout",
     "output_type": "stream",
     "text": [
      "Number of detections: 0\n",
      "Looking for ['insect'] in 20240903105134.jpg\n",
      "Number of detections: 3\n",
      "Checking if detection 1 is in 150 pixel proximity to one of the 0 detections from the last image.\n",
      "No similarities found.\n",
      "Detection 1 was saved :)\n",
      "Checking if detection 2 is in 150 pixel proximity to one of the 0 detections from the last image.\n",
      "No similarities found.\n",
      "Detection 2 was saved :)\n",
      "Checking if detection 3 is in 150 pixel proximity to one of the 0 detections from the last image.\n",
      "No similarities found.\n",
      "Detection 3 was saved :)\n"
     ]
    },
    {
     "name": "stderr",
     "output_type": "stream",
     "text": [
      " 19%|███████████████████▋                                                                                 | 37/190 [06:27<54:42, 21.46s/it]"
     ]
    },
    {
     "name": "stdout",
     "output_type": "stream",
     "text": [
      "Looking for ['insect'] in 20240903105224.jpg\n",
      "Number of detections: 2\n",
      "Checking if detection 1 is in 150 pixel proximity to one of the 3 detections from the last image.\n",
      "Similarity found... Cropped detection 1 will NOT be saved.\n",
      "Checking if detection 2 is in 150 pixel proximity to one of the 3 detections from the last image.\n",
      "Similarity found... Cropped detection 2 will NOT be saved.\n"
     ]
    },
    {
     "name": "stderr",
     "output_type": "stream",
     "text": [
      " 20%|████████████████████▏                                                                                | 38/190 [06:47<53:39, 21.18s/it]"
     ]
    },
    {
     "name": "stdout",
     "output_type": "stream",
     "text": [
      "Looking for ['insect'] in 20240903105252.jpg\n",
      "Number of detections: 3\n",
      "Checking if detection 1 is in 150 pixel proximity to one of the 2 detections from the last image.\n",
      "Similarity found... Cropped detection 1 will NOT be saved.\n",
      "Checking if detection 2 is in 150 pixel proximity to one of the 2 detections from the last image.\n",
      "Similarity found... Cropped detection 2 will NOT be saved.\n"
     ]
    },
    {
     "name": "stderr",
     "output_type": "stream",
     "text": [
      " 21%|████████████████████▋                                                                                | 39/190 [07:08<53:06, 21.11s/it]"
     ]
    },
    {
     "name": "stdout",
     "output_type": "stream",
     "text": [
      "Checking if detection 3 is in 150 pixel proximity to one of the 2 detections from the last image.\n",
      "No similarities found.\n",
      "Detection 3 was saved :)\n",
      "Looking for ['insect'] in 20240903105327.jpg\n",
      "Number of detections: 3\n",
      "Checking if detection 1 is in 150 pixel proximity to one of the 3 detections from the last image.\n",
      "Similarity found... Cropped detection 1 will NOT be saved.\n",
      "Checking if detection 2 is in 150 pixel proximity to one of the 3 detections from the last image.\n",
      "Similarity found... Cropped detection 2 will NOT be saved.\n"
     ]
    },
    {
     "name": "stderr",
     "output_type": "stream",
     "text": [
      " 21%|█████████████████████▎                                                                               | 40/190 [07:31<54:14, 21.70s/it]"
     ]
    },
    {
     "name": "stdout",
     "output_type": "stream",
     "text": [
      "Checking if detection 3 is in 150 pixel proximity to one of the 3 detections from the last image.\n",
      "Similarity found... Cropped detection 3 will NOT be saved.\n",
      "Looking for ['insect'] in 20240903105401.jpg\n",
      "Number of detections: 3\n",
      "Checking if detection 1 is in 150 pixel proximity to one of the 3 detections from the last image.\n",
      "Similarity found... Cropped detection 1 will NOT be saved.\n",
      "Checking if detection 2 is in 150 pixel proximity to one of the 3 detections from the last image.\n",
      "Similarity found... Cropped detection 2 will NOT be saved.\n"
     ]
    },
    {
     "name": "stderr",
     "output_type": "stream",
     "text": [
      " 22%|█████████████████████▊                                                                               | 41/190 [07:53<54:09, 21.81s/it]"
     ]
    },
    {
     "name": "stdout",
     "output_type": "stream",
     "text": [
      "Checking if detection 3 is in 150 pixel proximity to one of the 3 detections from the last image.\n",
      "Similarity found... Cropped detection 3 will NOT be saved.\n",
      "Looking for ['insect'] in 20240903105456.jpg\n",
      "Number of detections: 3\n",
      "Checking if detection 1 is in 150 pixel proximity to one of the 3 detections from the last image.\n",
      "Similarity found... Cropped detection 1 will NOT be saved.\n",
      "Checking if detection 2 is in 150 pixel proximity to one of the 3 detections from the last image.\n",
      "Similarity found... Cropped detection 2 will NOT be saved.\n"
     ]
    },
    {
     "name": "stderr",
     "output_type": "stream",
     "text": [
      " 22%|██████████████████████▎                                                                              | 42/190 [08:15<53:28, 21.68s/it]"
     ]
    },
    {
     "name": "stdout",
     "output_type": "stream",
     "text": [
      "Checking if detection 3 is in 150 pixel proximity to one of the 3 detections from the last image.\n",
      "Similarity found... Cropped detection 3 will NOT be saved.\n",
      "Looking for ['insect'] in 20240903105543.jpg\n",
      "Number of detections: 2\n",
      "Checking if detection 1 is in 150 pixel proximity to one of the 3 detections from the last image.\n",
      "Similarity found... Cropped detection 1 will NOT be saved.\n",
      "Checking if detection 2 is in 150 pixel proximity to one of the 3 detections from the last image.\n",
      "Similarity found... Cropped detection 2 will NOT be saved.\n"
     ]
    },
    {
     "name": "stderr",
     "output_type": "stream",
     "text": [
      " 23%|██████████████████████▊                                                                              | 43/190 [08:38<54:10, 22.11s/it]"
     ]
    },
    {
     "name": "stdout",
     "output_type": "stream",
     "text": [
      "Looking for ['insect'] in 20240903105633.jpg\n",
      "Number of detections: 3\n",
      "Checking if detection 1 is in 150 pixel proximity to one of the 2 detections from the last image.\n",
      "Similarity found... Cropped detection 1 will NOT be saved.\n",
      "Checking if detection 2 is in 150 pixel proximity to one of the 2 detections from the last image.\n",
      "Similarity found... Cropped detection 2 will NOT be saved.\n"
     ]
    },
    {
     "name": "stderr",
     "output_type": "stream",
     "text": [
      " 23%|███████████████████████▍                                                                             | 44/190 [08:59<53:03, 21.80s/it]"
     ]
    },
    {
     "name": "stdout",
     "output_type": "stream",
     "text": [
      "Checking if detection 3 is in 150 pixel proximity to one of the 2 detections from the last image.\n",
      "No similarities found.\n",
      "Detection 3 was saved :)\n",
      "Looking for ['insect'] in 20240903105707.jpg\n",
      "Number of detections: 3\n",
      "Checking if detection 1 is in 150 pixel proximity to one of the 3 detections from the last image.\n",
      "Similarity found... Cropped detection 1 will NOT be saved.\n",
      "Checking if detection 2 is in 150 pixel proximity to one of the 3 detections from the last image.\n",
      "Similarity found... Cropped detection 2 will NOT be saved.\n"
     ]
    },
    {
     "name": "stderr",
     "output_type": "stream",
     "text": [
      " 24%|███████████████████████▉                                                                             | 45/190 [09:20<52:15, 21.63s/it]"
     ]
    },
    {
     "name": "stdout",
     "output_type": "stream",
     "text": [
      "Checking if detection 3 is in 150 pixel proximity to one of the 3 detections from the last image.\n",
      "Similarity found... Cropped detection 3 will NOT be saved.\n",
      "Looking for ['insect'] in 20240903105805.jpg\n",
      "Number of detections: 2\n",
      "Checking if detection 1 is in 150 pixel proximity to one of the 3 detections from the last image.\n",
      "Similarity found... Cropped detection 1 will NOT be saved.\n",
      "Checking if detection 2 is in 150 pixel proximity to one of the 3 detections from the last image.\n",
      "Similarity found... Cropped detection 2 will NOT be saved.\n"
     ]
    },
    {
     "name": "stderr",
     "output_type": "stream",
     "text": [
      " 24%|████████████████████████▍                                                                            | 46/190 [09:44<53:34, 22.32s/it]"
     ]
    },
    {
     "name": "stdout",
     "output_type": "stream",
     "text": [
      "Looking for ['insect'] in 20240903105855.jpg\n",
      "Number of detections: 4\n",
      "Checking if detection 1 is in 150 pixel proximity to one of the 2 detections from the last image.\n",
      "Similarity found... Cropped detection 1 will NOT be saved.\n",
      "Checking if detection 2 is in 150 pixel proximity to one of the 2 detections from the last image.\n",
      "No similarities found.\n",
      "Detection 2 was saved :)\n",
      "Checking if detection 3 is in 150 pixel proximity to one of the 2 detections from the last image.\n",
      "No similarities found.\n",
      "Detection 3 was saved :)\n"
     ]
    },
    {
     "name": "stderr",
     "output_type": "stream",
     "text": [
      " 25%|████████████████████████▉                                                                            | 47/190 [10:08<54:20, 22.80s/it]"
     ]
    },
    {
     "name": "stdout",
     "output_type": "stream",
     "text": [
      "Checking if detection 4 is in 150 pixel proximity to one of the 2 detections from the last image.\n",
      "Similarity found... Cropped detection 4 will NOT be saved.\n",
      "Looking for ['insect'] in 20240903110152.jpg\n",
      "Number of detections: 3\n",
      "Checking if detection 1 is in 150 pixel proximity to one of the 4 detections from the last image.\n",
      "No similarities found.\n",
      "Detection 1 was saved :)\n",
      "Checking if detection 2 is in 150 pixel proximity to one of the 4 detections from the last image.\n",
      "Similarity found... Cropped detection 2 will NOT be saved.\n"
     ]
    },
    {
     "name": "stderr",
     "output_type": "stream",
     "text": [
      " 25%|█████████████████████████▌                                                                           | 48/190 [10:31<53:43, 22.70s/it]"
     ]
    },
    {
     "name": "stdout",
     "output_type": "stream",
     "text": [
      "Checking if detection 3 is in 150 pixel proximity to one of the 4 detections from the last image.\n",
      "Similarity found... Cropped detection 3 will NOT be saved.\n",
      "Looking for ['insect'] in 20240903110231.jpg\n",
      "Number of detections: 4\n",
      "Checking if detection 1 is in 150 pixel proximity to one of the 3 detections from the last image.\n",
      "No similarities found.\n",
      "Detection 1 was saved :)\n",
      "Checking if detection 2 is in 150 pixel proximity to one of the 3 detections from the last image.\n",
      "Similarity found... Cropped detection 2 will NOT be saved.\n",
      "Checking if detection 3 is in 150 pixel proximity to one of the 3 detections from the last image.\n",
      "Similarity found... Cropped detection 3 will NOT be saved.\n",
      "Checking if detection 4 is in 150 pixel proximity to one of the 3 detections from the last image.\n",
      "No similarities found.\n",
      "Detection 4 was saved :)\n"
     ]
    },
    {
     "name": "stderr",
     "output_type": "stream",
     "text": [
      " 26%|██████████████████████████                                                                           | 49/190 [10:52<52:21, 22.28s/it]"
     ]
    },
    {
     "name": "stdout",
     "output_type": "stream",
     "text": [
      "Looking for ['insect'] in 20240903110310.jpg\n",
      "Number of detections: 3\n",
      "Checking if detection 1 is in 150 pixel proximity to one of the 4 detections from the last image.\n",
      "Similarity found... Cropped detection 1 will NOT be saved.\n",
      "Checking if detection 2 is in 150 pixel proximity to one of the 4 detections from the last image.\n",
      "No similarities found.\n",
      "Detection 2 was saved :)\n"
     ]
    },
    {
     "name": "stderr",
     "output_type": "stream",
     "text": [
      " 26%|██████████████████████████▌                                                                          | 50/190 [11:13<51:31, 22.08s/it]"
     ]
    },
    {
     "name": "stdout",
     "output_type": "stream",
     "text": [
      "Checking if detection 3 is in 150 pixel proximity to one of the 4 detections from the last image.\n",
      "Similarity found... Cropped detection 3 will NOT be saved.\n",
      "Looking for ['insect'] in 20240903110345.jpg\n",
      "Number of detections: 3\n",
      "Checking if detection 1 is in 150 pixel proximity to one of the 3 detections from the last image.\n",
      "Similarity found... Cropped detection 1 will NOT be saved.\n",
      "Checking if detection 2 is in 150 pixel proximity to one of the 3 detections from the last image.\n",
      "Similarity found... Cropped detection 2 will NOT be saved.\n"
     ]
    },
    {
     "name": "stderr",
     "output_type": "stream",
     "text": [
      " 27%|███████████████████████████                                                                          | 51/190 [11:35<50:34, 21.83s/it]"
     ]
    },
    {
     "name": "stdout",
     "output_type": "stream",
     "text": [
      "Checking if detection 3 is in 150 pixel proximity to one of the 3 detections from the last image.\n",
      "Similarity found... Cropped detection 3 will NOT be saved.\n",
      "Looking for ['insect'] in 20240903110428.jpg\n",
      "Number of detections: 3\n",
      "Checking if detection 1 is in 150 pixel proximity to one of the 3 detections from the last image.\n",
      "Similarity found... Cropped detection 1 will NOT be saved.\n",
      "Checking if detection 2 is in 150 pixel proximity to one of the 3 detections from the last image.\n",
      "Similarity found... Cropped detection 2 will NOT be saved.\n"
     ]
    },
    {
     "name": "stderr",
     "output_type": "stream",
     "text": [
      " 27%|███████████████████████████▋                                                                         | 52/190 [11:55<49:22, 21.46s/it]"
     ]
    },
    {
     "name": "stdout",
     "output_type": "stream",
     "text": [
      "Checking if detection 3 is in 150 pixel proximity to one of the 3 detections from the last image.\n",
      "No similarities found.\n",
      "Detection 3 was saved :)\n",
      "Looking for ['insect'] in 20240903110512.jpg\n",
      "Number of detections: 3\n",
      "Checking if detection 1 is in 150 pixel proximity to one of the 3 detections from the last image.\n",
      "Similarity found... Cropped detection 1 will NOT be saved.\n",
      "Checking if detection 2 is in 150 pixel proximity to one of the 3 detections from the last image.\n",
      "No similarities found.\n",
      "Detection 2 was saved :)\n"
     ]
    },
    {
     "name": "stderr",
     "output_type": "stream",
     "text": [
      " 28%|████████████████████████████▏                                                                        | 53/190 [12:17<48:52, 21.40s/it]"
     ]
    },
    {
     "name": "stdout",
     "output_type": "stream",
     "text": [
      "Checking if detection 3 is in 150 pixel proximity to one of the 3 detections from the last image.\n",
      "Similarity found... Cropped detection 3 will NOT be saved.\n",
      "Looking for ['insect'] in 20240903110601.jpg\n",
      "Number of detections: 2\n",
      "Checking if detection 1 is in 150 pixel proximity to one of the 3 detections from the last image.\n",
      "Similarity found... Cropped detection 1 will NOT be saved.\n",
      "Checking if detection 2 is in 150 pixel proximity to one of the 3 detections from the last image.\n",
      "Similarity found... Cropped detection 2 will NOT be saved.\n"
     ]
    },
    {
     "name": "stderr",
     "output_type": "stream",
     "text": [
      " 28%|████████████████████████████▋                                                                        | 54/190 [12:37<47:56, 21.15s/it]"
     ]
    },
    {
     "name": "stdout",
     "output_type": "stream",
     "text": [
      "Looking for ['insect'] in 20240903110656.jpg\n",
      "Number of detections: 4\n",
      "Checking if detection 1 is in 150 pixel proximity to one of the 2 detections from the last image.\n",
      "Similarity found... Cropped detection 1 will NOT be saved.\n",
      "Checking if detection 2 is in 150 pixel proximity to one of the 2 detections from the last image.\n",
      "No similarities found.\n",
      "Detection 2 was saved :)\n",
      "Checking if detection 3 is in 150 pixel proximity to one of the 2 detections from the last image.\n",
      "Similarity found... Cropped detection 3 will NOT be saved.\n",
      "Checking if detection 4 is in 150 pixel proximity to one of the 2 detections from the last image.\n",
      "No similarities found.\n",
      "Detection 4 was saved :)\n"
     ]
    },
    {
     "name": "stderr",
     "output_type": "stream",
     "text": [
      " 29%|█████████████████████████████▏                                                                       | 55/190 [12:59<47:56, 21.31s/it]"
     ]
    },
    {
     "name": "stdout",
     "output_type": "stream",
     "text": [
      "Looking for ['insect'] in 20240903110756.jpg\n",
      "Number of detections: 3\n",
      "Checking if detection 1 is in 150 pixel proximity to one of the 4 detections from the last image.\n",
      "Similarity found... Cropped detection 1 will NOT be saved.\n",
      "Checking if detection 2 is in 150 pixel proximity to one of the 4 detections from the last image.\n",
      "Similarity found... Cropped detection 2 will NOT be saved.\n"
     ]
    },
    {
     "name": "stderr",
     "output_type": "stream",
     "text": [
      " 29%|█████████████████████████████▊                                                                       | 56/190 [13:21<47:54, 21.45s/it]"
     ]
    },
    {
     "name": "stdout",
     "output_type": "stream",
     "text": [
      "Checking if detection 3 is in 150 pixel proximity to one of the 4 detections from the last image.\n",
      "Similarity found... Cropped detection 3 will NOT be saved.\n",
      "Looking for ['insect'] in 20240903110857.jpg\n",
      "Number of detections: 4\n",
      "Checking if detection 1 is in 150 pixel proximity to one of the 3 detections from the last image.\n",
      "No similarities found.\n",
      "Detection 1 was saved :)\n",
      "Checking if detection 2 is in 150 pixel proximity to one of the 3 detections from the last image.\n",
      "No similarities found.\n",
      "Detection 2 was saved :)\n",
      "Checking if detection 3 is in 150 pixel proximity to one of the 3 detections from the last image.\n",
      "Similarity found... Cropped detection 3 will NOT be saved.\n"
     ]
    },
    {
     "name": "stderr",
     "output_type": "stream",
     "text": [
      " 30%|██████████████████████████████▎                                                                      | 57/190 [13:45<49:18, 22.25s/it]"
     ]
    },
    {
     "name": "stdout",
     "output_type": "stream",
     "text": [
      "Checking if detection 4 is in 150 pixel proximity to one of the 3 detections from the last image.\n",
      "No similarities found.\n",
      "Detection 4 was saved :)\n",
      "Looking for ['insect'] in 20240903111006.jpg\n",
      "Number of detections: 3\n",
      "Checking if detection 1 is in 150 pixel proximity to one of the 4 detections from the last image.\n",
      "No similarities found.\n",
      "Detection 1 was saved :)\n",
      "Checking if detection 2 is in 150 pixel proximity to one of the 4 detections from the last image.\n",
      "Similarity found... Cropped detection 2 will NOT be saved.\n",
      "Checking if detection 3 is in 150 pixel proximity to one of the 4 detections from the last image.\n",
      "Similarity found... Cropped detection 3 will NOT be saved.\n"
     ]
    },
    {
     "name": "stderr",
     "output_type": "stream",
     "text": [
      " 31%|██████████████████████████████▊                                                                      | 58/190 [14:06<48:23, 21.99s/it]"
     ]
    },
    {
     "name": "stdout",
     "output_type": "stream",
     "text": [
      "Looking for ['insect'] in 20240903111047.jpg\n",
      "Number of detections: 2\n",
      "Checking if detection 1 is in 150 pixel proximity to one of the 3 detections from the last image.\n",
      "Similarity found... Cropped detection 1 will NOT be saved.\n",
      "Checking if detection 2 is in 150 pixel proximity to one of the 3 detections from the last image.\n",
      "Similarity found... Cropped detection 2 will NOT be saved.\n"
     ]
    },
    {
     "name": "stderr",
     "output_type": "stream",
     "text": [
      " 31%|███████████████████████████████▎                                                                     | 59/190 [14:29<48:16, 22.11s/it]"
     ]
    },
    {
     "name": "stdout",
     "output_type": "stream",
     "text": [
      "Looking for ['insect'] in 20240903111127.jpg\n",
      "Number of detections: 2\n",
      "Checking if detection 1 is in 150 pixel proximity to one of the 2 detections from the last image.\n",
      "Similarity found... Cropped detection 1 will NOT be saved.\n",
      "Checking if detection 2 is in 150 pixel proximity to one of the 2 detections from the last image.\n",
      "Similarity found... Cropped detection 2 will NOT be saved.\n"
     ]
    },
    {
     "name": "stderr",
     "output_type": "stream",
     "text": [
      " 32%|███████████████████████████████▉                                                                     | 60/190 [14:51<48:02, 22.18s/it]"
     ]
    },
    {
     "name": "stdout",
     "output_type": "stream",
     "text": [
      "Looking for ['insect'] in 20240903111207.jpg\n",
      "Number of detections: 2\n",
      "Checking if detection 1 is in 150 pixel proximity to one of the 2 detections from the last image.\n",
      "Similarity found... Cropped detection 1 will NOT be saved.\n",
      "Checking if detection 2 is in 150 pixel proximity to one of the 2 detections from the last image.\n",
      "Similarity found... Cropped detection 2 will NOT be saved.\n"
     ]
    },
    {
     "name": "stderr",
     "output_type": "stream",
     "text": [
      " 32%|████████████████████████████████▍                                                                    | 61/190 [15:14<48:16, 22.45s/it]"
     ]
    },
    {
     "name": "stdout",
     "output_type": "stream",
     "text": [
      "Looking for ['insect'] in 20240903111241.jpg\n",
      "Number of detections: 2\n",
      "Checking if detection 1 is in 150 pixel proximity to one of the 2 detections from the last image.\n",
      "Similarity found... Cropped detection 1 will NOT be saved.\n",
      "Checking if detection 2 is in 150 pixel proximity to one of the 2 detections from the last image.\n",
      "Similarity found... Cropped detection 2 will NOT be saved.\n"
     ]
    },
    {
     "name": "stderr",
     "output_type": "stream",
     "text": [
      " 33%|████████████████████████████████▉                                                                    | 62/190 [15:36<47:57, 22.48s/it]"
     ]
    },
    {
     "name": "stdout",
     "output_type": "stream",
     "text": [
      "Looking for ['insect'] in 20240903111320.jpg\n",
      "Number of detections: 3\n",
      "Checking if detection 1 is in 150 pixel proximity to one of the 2 detections from the last image.\n",
      "Similarity found... Cropped detection 1 will NOT be saved.\n",
      "Checking if detection 2 is in 150 pixel proximity to one of the 2 detections from the last image.\n",
      "Similarity found... Cropped detection 2 will NOT be saved.\n"
     ]
    },
    {
     "name": "stderr",
     "output_type": "stream",
     "text": [
      " 33%|█████████████████████████████████▍                                                                   | 63/190 [15:58<47:14, 22.32s/it]"
     ]
    },
    {
     "name": "stdout",
     "output_type": "stream",
     "text": [
      "Checking if detection 3 is in 150 pixel proximity to one of the 2 detections from the last image.\n",
      "No similarities found.\n",
      "Detection 3 was saved :)\n",
      "Looking for ['insect'] in 20240903111359.jpg\n",
      "Number of detections: 3\n",
      "Checking if detection 1 is in 150 pixel proximity to one of the 3 detections from the last image.\n",
      "No similarities found.\n",
      "Detection 1 was saved :)\n",
      "Checking if detection 2 is in 150 pixel proximity to one of the 3 detections from the last image.\n",
      "Similarity found... Cropped detection 2 will NOT be saved.\n",
      "Checking if detection 3 is in 150 pixel proximity to one of the 3 detections from the last image.\n",
      "Similarity found... Cropped detection 3 will NOT be saved.\n"
     ]
    },
    {
     "name": "stderr",
     "output_type": "stream",
     "text": [
      " 34%|██████████████████████████████████                                                                   | 64/190 [16:19<46:03, 21.94s/it]"
     ]
    },
    {
     "name": "stdout",
     "output_type": "stream",
     "text": [
      "Looking for ['insect'] in 20240903111600.jpg\n",
      "Number of detections: 2\n",
      "Checking if detection 1 is in 150 pixel proximity to one of the 3 detections from the last image.\n",
      "No similarities found.\n",
      "Detection 1 was saved :)\n"
     ]
    },
    {
     "name": "stderr",
     "output_type": "stream",
     "text": [
      " 34%|██████████████████████████████████▌                                                                  | 65/190 [16:41<45:25, 21.80s/it]"
     ]
    },
    {
     "name": "stdout",
     "output_type": "stream",
     "text": [
      "Checking if detection 2 is in 150 pixel proximity to one of the 3 detections from the last image.\n",
      "Similarity found... Cropped detection 2 will NOT be saved.\n",
      "Looking for ['insect'] in 20240903111741.jpg\n",
      "Number of detections: 2\n",
      "Checking if detection 1 is in 150 pixel proximity to one of the 2 detections from the last image.\n",
      "No similarities found.\n",
      "Detection 1 was saved :)\n"
     ]
    },
    {
     "name": "stderr",
     "output_type": "stream",
     "text": [
      " 35%|███████████████████████████████████                                                                  | 66/190 [17:04<45:58, 22.24s/it]"
     ]
    },
    {
     "name": "stdout",
     "output_type": "stream",
     "text": [
      "Checking if detection 2 is in 150 pixel proximity to one of the 2 detections from the last image.\n",
      "Similarity found... Cropped detection 2 will NOT be saved.\n",
      "Looking for ['insect'] in 20240903111821.jpg\n",
      "Number of detections: 2\n",
      "Checking if detection 1 is in 150 pixel proximity to one of the 2 detections from the last image.\n",
      "No similarities found.\n",
      "Detection 1 was saved :)\n"
     ]
    },
    {
     "name": "stderr",
     "output_type": "stream",
     "text": [
      " 35%|███████████████████████████████████▌                                                                 | 67/190 [17:26<45:15, 22.08s/it]"
     ]
    },
    {
     "name": "stdout",
     "output_type": "stream",
     "text": [
      "Checking if detection 2 is in 150 pixel proximity to one of the 2 detections from the last image.\n",
      "Similarity found... Cropped detection 2 will NOT be saved.\n",
      "Looking for ['insect'] in 20240903112459.jpg\n",
      "Number of detections: 2\n",
      "Checking if detection 1 is in 150 pixel proximity to one of the 2 detections from the last image.\n",
      "No similarities found.\n",
      "Detection 1 was saved :)\n"
     ]
    },
    {
     "name": "stderr",
     "output_type": "stream",
     "text": [
      " 36%|████████████████████████████████████▏                                                                | 68/190 [17:47<44:08, 21.71s/it]"
     ]
    },
    {
     "name": "stdout",
     "output_type": "stream",
     "text": [
      "Checking if detection 2 is in 150 pixel proximity to one of the 2 detections from the last image.\n",
      "Similarity found... Cropped detection 2 will NOT be saved.\n",
      "Looking for ['insect'] in 20240903112532.jpg\n"
     ]
    },
    {
     "name": "stderr",
     "output_type": "stream",
     "text": [
      " 36%|████████████████████████████████████▋                                                                | 69/190 [18:08<43:23, 21.52s/it]"
     ]
    },
    {
     "name": "stdout",
     "output_type": "stream",
     "text": [
      "Number of detections: 1\n",
      "Checking if detection 1 is in 150 pixel proximity to one of the 2 detections from the last image.\n",
      "Similarity found... Cropped detection 1 will NOT be saved.\n",
      "Looking for ['insect'] in 20240903113802.jpg\n",
      "Number of detections: 1\n",
      "Checking if detection 1 is in 150 pixel proximity to one of the 1 detections from the last image.\n",
      "No similarities found.\n",
      "Detection 1 was saved :)\n"
     ]
    },
    {
     "name": "stderr",
     "output_type": "stream",
     "text": [
      " 37%|█████████████████████████████████████▏                                                               | 70/190 [18:30<43:19, 21.66s/it]"
     ]
    },
    {
     "name": "stdout",
     "output_type": "stream",
     "text": [
      "Looking for ['insect'] in 20240903115507.jpg\n",
      "Number of detections: 1\n",
      "Checking if detection 1 is in 150 pixel proximity to one of the 1 detections from the last image.\n",
      "No similarities found.\n",
      "Crop 1 exceeds image on the RIGHT side. Only cropping to the edge of the image. Insect might be cut off...\n",
      "Detection 1 was saved :)\n"
     ]
    },
    {
     "name": "stderr",
     "output_type": "stream",
     "text": [
      " 37%|█████████████████████████████████████▋                                                               | 71/190 [18:52<43:03, 21.71s/it]"
     ]
    },
    {
     "name": "stdout",
     "output_type": "stream",
     "text": [
      "Looking for ['insect'] in 20240903120552.jpg\n"
     ]
    },
    {
     "name": "stderr",
     "output_type": "stream",
     "text": [
      " 38%|██████████████████████████████████████▎                                                              | 72/190 [19:13<42:25, 21.58s/it]"
     ]
    },
    {
     "name": "stdout",
     "output_type": "stream",
     "text": [
      "Number of detections: 0\n",
      "Looking for ['insect'] in 20240903122600.jpg\n"
     ]
    },
    {
     "name": "stderr",
     "output_type": "stream",
     "text": [
      " 38%|██████████████████████████████████████▊                                                              | 73/190 [19:35<42:35, 21.85s/it]"
     ]
    },
    {
     "name": "stdout",
     "output_type": "stream",
     "text": [
      "Number of detections: 0\n",
      "Looking for ['insect'] in 20240903124607.jpg\n"
     ]
    },
    {
     "name": "stderr",
     "output_type": "stream",
     "text": [
      " 39%|███████████████████████████████████████▎                                                             | 74/190 [19:59<43:08, 22.32s/it]"
     ]
    },
    {
     "name": "stdout",
     "output_type": "stream",
     "text": [
      "Number of detections: 0\n",
      "Looking for ['insect'] in 20240903124646.jpg\n"
     ]
    },
    {
     "name": "stderr",
     "output_type": "stream",
     "text": [
      " 39%|███████████████████████████████████████▊                                                             | 75/190 [20:21<42:27, 22.15s/it]"
     ]
    },
    {
     "name": "stdout",
     "output_type": "stream",
     "text": [
      "Number of detections: 0\n",
      "Looking for ['insect'] in 20240903125748.jpg\n"
     ]
    },
    {
     "name": "stderr",
     "output_type": "stream",
     "text": [
      " 40%|████████████████████████████████████████▍                                                            | 76/190 [20:48<45:11, 23.79s/it]"
     ]
    },
    {
     "name": "stdout",
     "output_type": "stream",
     "text": [
      "Number of detections: 0\n",
      "Looking for ['insect'] in 20240903131644.jpg\n"
     ]
    },
    {
     "name": "stderr",
     "output_type": "stream",
     "text": [
      " 41%|████████████████████████████████████████▉                                                            | 77/190 [21:12<44:42, 23.74s/it]"
     ]
    },
    {
     "name": "stdout",
     "output_type": "stream",
     "text": [
      "Number of detections: 0\n",
      "Looking for ['insect'] in 20240903132723.jpg\n"
     ]
    },
    {
     "name": "stderr",
     "output_type": "stream",
     "text": [
      " 41%|█████████████████████████████████████████▍                                                           | 78/190 [21:35<43:59, 23.57s/it]"
     ]
    },
    {
     "name": "stdout",
     "output_type": "stream",
     "text": [
      "Number of detections: 0\n",
      "Looking for ['insect'] in 20240903134726.jpg\n"
     ]
    },
    {
     "name": "stderr",
     "output_type": "stream",
     "text": [
      " 42%|█████████████████████████████████████████▉                                                           | 79/190 [21:57<42:51, 23.17s/it]"
     ]
    },
    {
     "name": "stdout",
     "output_type": "stream",
     "text": [
      "Number of detections: 0\n",
      "Looking for ['insect'] in 20240903140538.jpg\n"
     ]
    },
    {
     "name": "stderr",
     "output_type": "stream",
     "text": [
      " 42%|██████████████████████████████████████████▌                                                          | 80/190 [22:18<41:09, 22.45s/it]"
     ]
    },
    {
     "name": "stdout",
     "output_type": "stream",
     "text": [
      "Number of detections: 0\n",
      "Looking for ['insect'] in 20240903141049.jpg\n",
      "Number of detections: 1\n",
      "Checking if detection 1 is in 150 pixel proximity to one of the 0 detections from the last image.\n",
      "No similarities found.\n",
      "Detection 1 was saved :)\n"
     ]
    },
    {
     "name": "stderr",
     "output_type": "stream",
     "text": [
      " 43%|███████████████████████████████████████████                                                          | 81/190 [22:39<40:00, 22.03s/it]"
     ]
    },
    {
     "name": "stdout",
     "output_type": "stream",
     "text": [
      "Looking for ['insect'] in 20240903142134.jpg\n"
     ]
    },
    {
     "name": "stderr",
     "output_type": "stream",
     "text": [
      " 43%|███████████████████████████████████████████▌                                                         | 82/190 [23:00<38:49, 21.57s/it]"
     ]
    },
    {
     "name": "stdout",
     "output_type": "stream",
     "text": [
      "Number of detections: 0\n",
      "Looking for ['insect'] in 20240903144142.jpg\n"
     ]
    },
    {
     "name": "stderr",
     "output_type": "stream",
     "text": [
      " 44%|████████████████████████████████████████████                                                         | 83/190 [23:20<37:59, 21.30s/it]"
     ]
    },
    {
     "name": "stdout",
     "output_type": "stream",
     "text": [
      "Number of detections: 0\n",
      "Looking for ['insect'] in 20240903150147.jpg\n"
     ]
    },
    {
     "name": "stderr",
     "output_type": "stream",
     "text": [
      " 44%|████████████████████████████████████████████▋                                                        | 84/190 [23:42<37:54, 21.45s/it]"
     ]
    },
    {
     "name": "stdout",
     "output_type": "stream",
     "text": [
      "Number of detections: 0\n",
      "Looking for ['insect'] in 20240903152149.jpg\n"
     ]
    },
    {
     "name": "stderr",
     "output_type": "stream",
     "text": [
      " 45%|█████████████████████████████████████████████▏                                                       | 85/190 [24:05<38:07, 21.79s/it]"
     ]
    },
    {
     "name": "stdout",
     "output_type": "stream",
     "text": [
      "Number of detections: 0\n",
      "Looking for ['insect'] in 20240903154152.jpg\n"
     ]
    },
    {
     "name": "stderr",
     "output_type": "stream",
     "text": [
      " 45%|█████████████████████████████████████████████▋                                                       | 86/190 [24:27<38:02, 21.95s/it]"
     ]
    },
    {
     "name": "stdout",
     "output_type": "stream",
     "text": [
      "Number of detections: 0\n",
      "Looking for ['insect'] in 20240903160156.jpg\n"
     ]
    },
    {
     "name": "stderr",
     "output_type": "stream",
     "text": [
      " 46%|██████████████████████████████████████████████▏                                                      | 87/190 [24:51<38:45, 22.57s/it]"
     ]
    },
    {
     "name": "stdout",
     "output_type": "stream",
     "text": [
      "Number of detections: 0\n",
      "Looking for ['insect'] in 20240903162202.jpg\n"
     ]
    },
    {
     "name": "stderr",
     "output_type": "stream",
     "text": [
      " 46%|██████████████████████████████████████████████▊                                                      | 88/190 [25:12<37:46, 22.22s/it]"
     ]
    },
    {
     "name": "stdout",
     "output_type": "stream",
     "text": [
      "Number of detections: 0\n",
      "Looking for ['insect'] in 20240903164209.jpg\n"
     ]
    },
    {
     "name": "stderr",
     "output_type": "stream",
     "text": [
      " 47%|███████████████████████████████████████████████▎                                                     | 89/190 [25:34<37:01, 22.00s/it]"
     ]
    },
    {
     "name": "stdout",
     "output_type": "stream",
     "text": [
      "Number of detections: 0\n",
      "Looking for ['insect'] in 20240903170219.jpg\n"
     ]
    },
    {
     "name": "stderr",
     "output_type": "stream",
     "text": [
      " 47%|███████████████████████████████████████████████▊                                                     | 90/190 [25:55<36:05, 21.66s/it]"
     ]
    },
    {
     "name": "stdout",
     "output_type": "stream",
     "text": [
      "Number of detections: 0\n",
      "Looking for ['insect'] in 20240903171604.jpg\n",
      "Number of detections: 1\n",
      "Checking if detection 1 is in 150 pixel proximity to one of the 0 detections from the last image.\n",
      "No similarities found.\n",
      "Detection 1 was saved :)\n"
     ]
    },
    {
     "name": "stderr",
     "output_type": "stream",
     "text": [
      " 48%|████████████████████████████████████████████████▎                                                    | 91/190 [26:17<36:12, 21.95s/it]"
     ]
    },
    {
     "name": "stdout",
     "output_type": "stream",
     "text": [
      "Looking for ['insect'] in 20240903173606.jpg\n"
     ]
    },
    {
     "name": "stderr",
     "output_type": "stream",
     "text": [
      " 48%|████████████████████████████████████████████████▉                                                    | 92/190 [26:39<35:35, 21.79s/it]"
     ]
    },
    {
     "name": "stdout",
     "output_type": "stream",
     "text": [
      "Number of detections: 0\n",
      "Looking for ['insect'] in 20240903174859.jpg\n",
      "Number of detections: 1\n",
      "Checking if detection 1 is in 150 pixel proximity to one of the 0 detections from the last image.\n",
      "No similarities found.\n",
      "Detection 1 was saved :)\n"
     ]
    },
    {
     "name": "stderr",
     "output_type": "stream",
     "text": [
      " 49%|█████████████████████████████████████████████████▍                                                   | 93/190 [27:02<35:42, 22.09s/it]"
     ]
    },
    {
     "name": "stdout",
     "output_type": "stream",
     "text": [
      "Looking for ['insect'] in 20240903180905.jpg\n"
     ]
    },
    {
     "name": "stderr",
     "output_type": "stream",
     "text": [
      " 49%|█████████████████████████████████████████████████▉                                                   | 94/190 [27:23<35:15, 22.03s/it]"
     ]
    },
    {
     "name": "stdout",
     "output_type": "stream",
     "text": [
      "Number of detections: 0\n",
      "Looking for ['insect'] in 20240903181751.jpg\n",
      "Number of detections: 1\n",
      "Checking if detection 1 is in 150 pixel proximity to one of the 0 detections from the last image.\n",
      "No similarities found.\n",
      "Detection 1 was saved :)\n"
     ]
    },
    {
     "name": "stderr",
     "output_type": "stream",
     "text": [
      " 50%|██████████████████████████████████████████████████▌                                                  | 95/190 [27:46<34:56, 22.07s/it]"
     ]
    },
    {
     "name": "stdout",
     "output_type": "stream",
     "text": [
      "Looking for ['insect'] in 20240903183547.jpg\n"
     ]
    },
    {
     "name": "stderr",
     "output_type": "stream",
     "text": [
      " 51%|███████████████████████████████████████████████████                                                  | 96/190 [28:06<33:56, 21.66s/it]"
     ]
    },
    {
     "name": "stdout",
     "output_type": "stream",
     "text": [
      "Number of detections: 0\n",
      "Looking for ['insect'] in 20240903185551.jpg\n"
     ]
    },
    {
     "name": "stderr",
     "output_type": "stream",
     "text": [
      " 51%|███████████████████████████████████████████████████▌                                                 | 97/190 [28:28<33:27, 21.58s/it]"
     ]
    },
    {
     "name": "stdout",
     "output_type": "stream",
     "text": [
      "Number of detections: 0\n",
      "Looking for ['insect'] in 20240903191558.jpg\n"
     ]
    },
    {
     "name": "stderr",
     "output_type": "stream",
     "text": [
      " 52%|████████████████████████████████████████████████████                                                 | 98/190 [28:49<32:47, 21.39s/it]"
     ]
    },
    {
     "name": "stdout",
     "output_type": "stream",
     "text": [
      "Number of detections: 0\n",
      "Looking for ['insect'] in 20240903192621.jpg\n",
      "Number of detections: 1\n",
      "Checking if detection 1 is in 150 pixel proximity to one of the 0 detections from the last image.\n",
      "No similarities found.\n",
      "Detection 1 was saved :)\n"
     ]
    },
    {
     "name": "stderr",
     "output_type": "stream",
     "text": [
      " 52%|████████████████████████████████████████████████████▋                                                | 99/190 [29:09<32:05, 21.16s/it]"
     ]
    },
    {
     "name": "stdout",
     "output_type": "stream",
     "text": [
      "Looking for ['insect'] in 20240903192716.jpg\n"
     ]
    },
    {
     "name": "stderr",
     "output_type": "stream",
     "text": [
      " 53%|████████████████████████████████████████████████████▋                                               | 100/190 [29:30<31:37, 21.09s/it]"
     ]
    },
    {
     "name": "stdout",
     "output_type": "stream",
     "text": [
      "Number of detections: 0\n",
      "Looking for ['insect'] in 20240903194724.jpg\n"
     ]
    },
    {
     "name": "stderr",
     "output_type": "stream",
     "text": [
      " 53%|█████████████████████████████████████████████████████▏                                              | 101/190 [29:51<31:15, 21.07s/it]"
     ]
    },
    {
     "name": "stdout",
     "output_type": "stream",
     "text": [
      "Number of detections: 0\n",
      "Looking for ['insect'] in 20240903200037.jpg\n",
      "Number of detections: 2\n",
      "Checking if detection 1 is in 150 pixel proximity to one of the 0 detections from the last image.\n",
      "No similarities found.\n",
      "Detection 1 was saved :)\n",
      "Checking if detection 2 is in 150 pixel proximity to one of the 0 detections from the last image.\n",
      "No similarities found.\n"
     ]
    },
    {
     "name": "stderr",
     "output_type": "stream",
     "text": [
      " 54%|█████████████████████████████████████████████████████▋                                              | 102/190 [30:12<30:49, 21.02s/it]"
     ]
    },
    {
     "name": "stdout",
     "output_type": "stream",
     "text": [
      "Detection 2 was saved :)\n"
     ]
    },
    {
     "name": "stderr",
     "output_type": "stream",
     "text": [
      " 55%|███████████████████████████████████████████████████████▎                                            | 105/190 [30:12<11:18,  7.99s/it]"
     ]
    },
    {
     "name": "stdout",
     "output_type": "stream",
     "text": [
      "The current image is to dark. I will skip it in the analysis but save it in the dark_frames folder for traceback...\n",
      "The current image is to dark. I will skip it in the analysis but save it in the dark_frames folder for traceback...\n",
      "The current image is to dark. I will skip it in the analysis but save it in the dark_frames folder for traceback...\n",
      "Looking for ['insect'] in 20240903211451.jpg\n",
      "Number of detections: 1\n",
      "Checking if detection 1 is in 150 pixel proximity to one of the 2 detections from the last image.\n",
      "No similarities found.\n",
      "Detection 1 was saved :)\n"
     ]
    },
    {
     "name": "stderr",
     "output_type": "stream",
     "text": [
      " 56%|███████████████████████████████████████████████████████▊                                            | 106/190 [30:34<15:54, 11.36s/it]"
     ]
    },
    {
     "name": "stdout",
     "output_type": "stream",
     "text": [
      "Looking for ['insect'] in 20240903211828.jpg\n",
      "Number of detections: 1\n",
      "Checking if detection 1 is in 150 pixel proximity to one of the 1 detections from the last image.\n",
      "No similarities found.\n",
      "Detection 1 was saved :)\n"
     ]
    },
    {
     "name": "stderr",
     "output_type": "stream",
     "text": [
      " 56%|████████████████████████████████████████████████████████▎                                           | 107/190 [30:55<19:13, 13.90s/it]"
     ]
    },
    {
     "name": "stdout",
     "output_type": "stream",
     "text": [
      "Looking for ['insect'] in 20240903211955.jpg\n",
      "Number of detections: 1\n",
      "Checking if detection 1 is in 150 pixel proximity to one of the 1 detections from the last image.\n",
      "No similarities found.\n",
      "Detection 1 was saved :)\n"
     ]
    },
    {
     "name": "stderr",
     "output_type": "stream",
     "text": [
      " 57%|████████████████████████████████████████████████████████▊                                           | 108/190 [31:16<21:32, 15.76s/it]"
     ]
    },
    {
     "name": "stdout",
     "output_type": "stream",
     "text": [
      "Looking for ['insect'] in 20240903212609.jpg\n",
      "Number of detections: 3\n",
      "Checking if detection 1 is in 150 pixel proximity to one of the 1 detections from the last image.\n",
      "No similarities found.\n",
      "Detection 1 was saved :)\n",
      "Checking if detection 2 is in 150 pixel proximity to one of the 1 detections from the last image.\n",
      "No similarities found.\n",
      "Detection 2 was saved :)\n",
      "Checking if detection 3 is in 150 pixel proximity to one of the 1 detections from the last image.\n",
      "No similarities found.\n",
      "Detection 3 was saved :)\n"
     ]
    },
    {
     "name": "stderr",
     "output_type": "stream",
     "text": [
      " 57%|█████████████████████████████████████████████████████████▎                                          | 109/190 [31:38<23:33, 17.45s/it]"
     ]
    },
    {
     "name": "stdout",
     "output_type": "stream",
     "text": [
      "Looking for ['insect'] in 20240903213045.jpg\n",
      "Number of detections: 2\n",
      "Checking if detection 1 is in 150 pixel proximity to one of the 3 detections from the last image.\n",
      "Similarity found... Cropped detection 1 will NOT be saved.\n",
      "Checking if detection 2 is in 150 pixel proximity to one of the 3 detections from the last image.\n",
      "No similarities found.\n",
      "Detection 2 was saved :)\n"
     ]
    },
    {
     "name": "stderr",
     "output_type": "stream",
     "text": [
      " 58%|█████████████████████████████████████████████████████████▉                                          | 110/190 [32:01<25:28, 19.11s/it]"
     ]
    },
    {
     "name": "stdout",
     "output_type": "stream",
     "text": [
      "Looking for ['insect'] in 20240903215034.jpg\n",
      "Number of detections: 2\n",
      "Checking if detection 1 is in 150 pixel proximity to one of the 2 detections from the last image.\n",
      "No similarities found.\n",
      "Detection 1 was saved :)\n"
     ]
    },
    {
     "name": "stderr",
     "output_type": "stream",
     "text": [
      " 58%|██████████████████████████████████████████████████████████▍                                         | 111/190 [32:22<26:03, 19.79s/it]"
     ]
    },
    {
     "name": "stdout",
     "output_type": "stream",
     "text": [
      "Checking if detection 2 is in 150 pixel proximity to one of the 2 detections from the last image.\n",
      "Similarity found... Cropped detection 2 will NOT be saved.\n",
      "Looking for ['insect'] in 20240903215108.jpg\n",
      "Number of detections: 3\n",
      "Checking if detection 1 is in 150 pixel proximity to one of the 2 detections from the last image.\n",
      "No similarities found.\n",
      "Detection 1 was saved :)\n",
      "Checking if detection 2 is in 150 pixel proximity to one of the 2 detections from the last image.\n",
      "No similarities found.\n",
      "Detection 2 was saved :)\n",
      "Checking if detection 3 is in 150 pixel proximity to one of the 2 detections from the last image.\n",
      "Similarity found... Cropped detection 3 will NOT be saved.\n"
     ]
    },
    {
     "name": "stderr",
     "output_type": "stream",
     "text": [
      " 59%|██████████████████████████████████████████████████████████▉                                         | 112/190 [32:44<26:25, 20.32s/it]"
     ]
    },
    {
     "name": "stdout",
     "output_type": "stream",
     "text": [
      "Looking for ['insect'] in 20240903215232.jpg\n",
      "Number of detections: 2\n",
      "Checking if detection 1 is in 150 pixel proximity to one of the 3 detections from the last image.\n",
      "No similarities found.\n",
      "Detection 1 was saved :)\n",
      "Checking if detection 2 is in 150 pixel proximity to one of the 3 detections from the last image.\n",
      "Similarity found... Cropped detection 2 will NOT be saved.\n"
     ]
    },
    {
     "name": "stderr",
     "output_type": "stream",
     "text": [
      " 59%|███████████████████████████████████████████████████████████▍                                        | 113/190 [33:06<26:46, 20.86s/it]"
     ]
    },
    {
     "name": "stdout",
     "output_type": "stream",
     "text": [
      "Looking for ['insect'] in 20240903215538.jpg\n",
      "Number of detections: 2\n",
      "Checking if detection 1 is in 150 pixel proximity to one of the 2 detections from the last image.\n",
      "No similarities found.\n",
      "Detection 1 was saved :)\n"
     ]
    },
    {
     "name": "stderr",
     "output_type": "stream",
     "text": [
      " 60%|████████████████████████████████████████████████████████████                                        | 114/190 [33:27<26:30, 20.93s/it]"
     ]
    },
    {
     "name": "stdout",
     "output_type": "stream",
     "text": [
      "Checking if detection 2 is in 150 pixel proximity to one of the 2 detections from the last image.\n",
      "Similarity found... Cropped detection 2 will NOT be saved.\n",
      "Looking for ['insect'] in 20240903215607.jpg\n",
      "Number of detections: 1\n",
      "Checking if detection 1 is in 150 pixel proximity to one of the 2 detections from the last image.\n",
      "Similarity found... Cropped detection 1 will NOT be saved.\n"
     ]
    },
    {
     "name": "stderr",
     "output_type": "stream",
     "text": [
      " 61%|████████████████████████████████████████████████████████████▌                                       | 115/190 [33:49<26:19, 21.06s/it]"
     ]
    },
    {
     "name": "stdout",
     "output_type": "stream",
     "text": [
      "Looking for ['insect'] in 20240903215911.jpg\n",
      "Number of detections: 1\n",
      "Checking if detection 1 is in 150 pixel proximity to one of the 1 detections from the last image.\n",
      "No similarities found.\n",
      "Detection 1 was saved :)\n"
     ]
    },
    {
     "name": "stderr",
     "output_type": "stream",
     "text": [
      " 61%|█████████████████████████████████████████████████████████████                                       | 116/190 [34:10<26:14, 21.27s/it]"
     ]
    },
    {
     "name": "stdout",
     "output_type": "stream",
     "text": [
      "Looking for ['insect'] in 20240903215946.jpg\n",
      "Number of detections: 2\n",
      "Checking if detection 1 is in 150 pixel proximity to one of the 1 detections from the last image.\n",
      "Similarity found... Cropped detection 1 will NOT be saved.\n",
      "Checking if detection 2 is in 150 pixel proximity to one of the 1 detections from the last image.\n",
      "No similarities found.\n"
     ]
    },
    {
     "name": "stderr",
     "output_type": "stream",
     "text": [
      " 62%|█████████████████████████████████████████████████████████████▌                                      | 117/190 [34:32<26:02, 21.40s/it]"
     ]
    },
    {
     "name": "stdout",
     "output_type": "stream",
     "text": [
      "Detection 2 was saved :)\n",
      "Looking for ['insect'] in 20240903220019.jpg\n"
     ]
    },
    {
     "name": "stderr",
     "output_type": "stream",
     "text": [
      " 62%|██████████████████████████████████████████████████████████████                                      | 118/190 [34:54<25:43, 21.43s/it]"
     ]
    },
    {
     "name": "stdout",
     "output_type": "stream",
     "text": [
      "Number of detections: 1\n",
      "Checking if detection 1 is in 150 pixel proximity to one of the 2 detections from the last image.\n",
      "Similarity found... Cropped detection 1 will NOT be saved.\n",
      "Looking for ['insect'] in 20240903220132.jpg\n",
      "Number of detections: 1\n",
      "Checking if detection 1 is in 150 pixel proximity to one of the 1 detections from the last image.\n",
      "No similarities found.\n",
      "Detection 1 was saved :)\n"
     ]
    },
    {
     "name": "stderr",
     "output_type": "stream",
     "text": [
      " 63%|██████████████████████████████████████████████████████████████▋                                     | 119/190 [35:15<25:26, 21.50s/it]"
     ]
    },
    {
     "name": "stdout",
     "output_type": "stream",
     "text": [
      "Looking for ['insect'] in 20240903220457.jpg\n",
      "Number of detections: 3\n",
      "Checking if detection 1 is in 150 pixel proximity to one of the 1 detections from the last image.\n",
      "No similarities found.\n",
      "Detection 1 was saved :)\n",
      "Checking if detection 2 is in 150 pixel proximity to one of the 1 detections from the last image.\n",
      "No similarities found.\n",
      "Detection 2 was saved :)\n",
      "Checking if detection 3 is in 150 pixel proximity to one of the 1 detections from the last image.\n",
      "No similarities found.\n"
     ]
    },
    {
     "name": "stderr",
     "output_type": "stream",
     "text": [
      " 63%|███████████████████████████████████████████████████████████████▏                                    | 120/190 [35:37<25:01, 21.45s/it]"
     ]
    },
    {
     "name": "stdout",
     "output_type": "stream",
     "text": [
      "Detection 3 was saved :)\n",
      "Looking for ['insect'] in 20240903220529.jpg\n",
      "Number of detections: 4\n",
      "Checking if detection 1 is in 150 pixel proximity to one of the 3 detections from the last image.\n",
      "No similarities found.\n",
      "Detection 1 was saved :)\n",
      "Checking if detection 2 is in 150 pixel proximity to one of the 3 detections from the last image.\n",
      "No similarities found.\n",
      "Detection 2 was saved :)\n",
      "Checking if detection 3 is in 150 pixel proximity to one of the 3 detections from the last image.\n",
      "Similarity found... Cropped detection 3 will NOT be saved.\n"
     ]
    },
    {
     "name": "stderr",
     "output_type": "stream",
     "text": [
      " 64%|███████████████████████████████████████████████████████████████▋                                    | 121/190 [35:59<24:56, 21.69s/it]"
     ]
    },
    {
     "name": "stdout",
     "output_type": "stream",
     "text": [
      "Checking if detection 4 is in 150 pixel proximity to one of the 3 detections from the last image.\n",
      "Similarity found... Cropped detection 4 will NOT be saved.\n",
      "Looking for ['insect'] in 20240903220604.jpg\n",
      "Number of detections: 2\n",
      "Checking if detection 1 is in 150 pixel proximity to one of the 4 detections from the last image.\n",
      "No similarities found.\n",
      "Detection 1 was saved :)\n",
      "Checking if detection 2 is in 150 pixel proximity to one of the 4 detections from the last image.\n",
      "Similarity found... Cropped detection 2 will NOT be saved.\n"
     ]
    },
    {
     "name": "stderr",
     "output_type": "stream",
     "text": [
      " 64%|████████████████████████████████████████████████████████████████▏                                   | 122/190 [36:20<24:30, 21.62s/it]"
     ]
    },
    {
     "name": "stdout",
     "output_type": "stream",
     "text": [
      "Looking for ['insect'] in 20240903220638.jpg\n",
      "Number of detections: 2\n",
      "Checking if detection 1 is in 150 pixel proximity to one of the 2 detections from the last image.\n",
      "No similarities found.\n",
      "Detection 1 was saved :)\n",
      "Checking if detection 2 is in 150 pixel proximity to one of the 2 detections from the last image.\n",
      "Similarity found... Cropped detection 2 will NOT be saved.\n"
     ]
    },
    {
     "name": "stderr",
     "output_type": "stream",
     "text": [
      " 65%|████████████████████████████████████████████████████████████████▋                                   | 123/190 [36:42<24:01, 21.51s/it]"
     ]
    },
    {
     "name": "stdout",
     "output_type": "stream",
     "text": [
      "Looking for ['insect'] in 20240903220707.jpg\n",
      "Number of detections: 2\n",
      "Checking if detection 1 is in 150 pixel proximity to one of the 2 detections from the last image.\n",
      "Similarity found... Cropped detection 1 will NOT be saved.\n",
      "Checking if detection 2 is in 150 pixel proximity to one of the 2 detections from the last image.\n",
      "No similarities found.\n",
      "Detection 2 was saved :)\n"
     ]
    },
    {
     "name": "stderr",
     "output_type": "stream",
     "text": [
      " 65%|█████████████████████████████████████████████████████████████████▎                                  | 124/190 [37:04<23:53, 21.72s/it]"
     ]
    },
    {
     "name": "stdout",
     "output_type": "stream",
     "text": [
      "Looking for ['insect'] in 20240903220736.jpg\n",
      "Number of detections: 2\n",
      "Checking if detection 1 is in 150 pixel proximity to one of the 2 detections from the last image.\n",
      "No similarities found.\n",
      "Detection 1 was saved :)\n"
     ]
    },
    {
     "name": "stderr",
     "output_type": "stream",
     "text": [
      " 66%|█████████████████████████████████████████████████████████████████▊                                  | 125/190 [37:27<23:58, 22.13s/it]"
     ]
    },
    {
     "name": "stdout",
     "output_type": "stream",
     "text": [
      "Checking if detection 2 is in 150 pixel proximity to one of the 2 detections from the last image.\n",
      "Similarity found... Cropped detection 2 will NOT be saved.\n",
      "Looking for ['insect'] in 20240903220805.jpg\n",
      "Number of detections: 3\n",
      "Checking if detection 1 is in 150 pixel proximity to one of the 2 detections from the last image.\n",
      "No similarities found.\n",
      "Detection 1 was saved :)\n",
      "Checking if detection 2 is in 150 pixel proximity to one of the 2 detections from the last image.\n",
      "Similarity found... Cropped detection 2 will NOT be saved.\n",
      "Checking if detection 3 is in 150 pixel proximity to one of the 2 detections from the last image.\n",
      "No similarities found.\n",
      "Detection 3 was saved :)\n"
     ]
    },
    {
     "name": "stderr",
     "output_type": "stream",
     "text": [
      " 66%|██████████████████████████████████████████████████████████████████▎                                 | 126/190 [37:50<24:00, 22.50s/it]"
     ]
    },
    {
     "name": "stdout",
     "output_type": "stream",
     "text": [
      "Looking for ['insect'] in 20240903220834.jpg\n",
      "Number of detections: 1\n",
      "Checking if detection 1 is in 150 pixel proximity to one of the 3 detections from the last image.\n",
      "No similarities found.\n",
      "Detection 1 was saved :)\n"
     ]
    },
    {
     "name": "stderr",
     "output_type": "stream",
     "text": [
      " 67%|██████████████████████████████████████████████████████████████████▊                                 | 127/190 [38:13<23:34, 22.45s/it]"
     ]
    },
    {
     "name": "stdout",
     "output_type": "stream",
     "text": [
      "Looking for ['insect'] in 20240903220913.jpg\n"
     ]
    },
    {
     "name": "stderr",
     "output_type": "stream",
     "text": [
      " 67%|███████████████████████████████████████████████████████████████████▎                                | 128/190 [38:34<22:53, 22.15s/it]"
     ]
    },
    {
     "name": "stdout",
     "output_type": "stream",
     "text": [
      "Number of detections: 0\n",
      "Looking for ['insect'] in 20240903220948.jpg\n",
      "Number of detections: 1\n",
      "Checking if detection 1 is in 150 pixel proximity to one of the 0 detections from the last image.\n",
      "No similarities found.\n",
      "Detection 1 was saved :)\n"
     ]
    },
    {
     "name": "stderr",
     "output_type": "stream",
     "text": [
      " 68%|███████████████████████████████████████████████████████████████████▉                                | 129/190 [38:56<22:38, 22.27s/it]"
     ]
    },
    {
     "name": "stdout",
     "output_type": "stream",
     "text": [
      "Looking for ['insect'] in 20240903221020.jpg\n",
      "Number of detections: 2\n",
      "Checking if detection 1 is in 150 pixel proximity to one of the 1 detections from the last image.\n",
      "No similarities found.\n",
      "Detection 1 was saved :)\n"
     ]
    },
    {
     "name": "stderr",
     "output_type": "stream",
     "text": [
      " 68%|████████████████████████████████████████████████████████████████████▍                               | 130/190 [39:19<22:29, 22.49s/it]"
     ]
    },
    {
     "name": "stdout",
     "output_type": "stream",
     "text": [
      "Checking if detection 2 is in 150 pixel proximity to one of the 1 detections from the last image.\n",
      "No similarities found.\n",
      "Detection 2 was saved :)\n",
      "Looking for ['insect'] in 20240903221049.jpg\n",
      "Number of detections: 2\n",
      "Checking if detection 1 is in 150 pixel proximity to one of the 2 detections from the last image.\n",
      "No similarities found.\n",
      "Detection 1 was saved :)\n",
      "Checking if detection 2 is in 150 pixel proximity to one of the 2 detections from the last image.\n",
      "No similarities found.\n",
      "Detection 2 was saved :)\n"
     ]
    },
    {
     "name": "stderr",
     "output_type": "stream",
     "text": [
      " 69%|████████████████████████████████████████████████████████████████████▉                               | 131/190 [39:41<21:42, 22.07s/it]"
     ]
    },
    {
     "name": "stdout",
     "output_type": "stream",
     "text": [
      "Looking for ['insect'] in 20240903221118.jpg\n",
      "Number of detections: 2\n",
      "Checking if detection 1 is in 150 pixel proximity to one of the 2 detections from the last image.\n",
      "No similarities found.\n",
      "Detection 1 was saved :)\n",
      "Checking if detection 2 is in 150 pixel proximity to one of the 2 detections from the last image.\n",
      "Similarity found... Cropped detection 2 will NOT be saved.\n"
     ]
    },
    {
     "name": "stderr",
     "output_type": "stream",
     "text": [
      " 69%|█████████████████████████████████████████████████████████████████████▍                              | 132/190 [40:02<21:11, 21.92s/it]"
     ]
    },
    {
     "name": "stdout",
     "output_type": "stream",
     "text": [
      "Looking for ['insect'] in 20240903221153.jpg\n",
      "Number of detections: 2\n",
      "Checking if detection 1 is in 150 pixel proximity to one of the 2 detections from the last image.\n",
      "No similarities found.\n",
      "Detection 1 was saved :)\n"
     ]
    },
    {
     "name": "stderr",
     "output_type": "stream",
     "text": [
      " 70%|██████████████████████████████████████████████████████████████████████                              | 133/190 [40:24<20:39, 21.75s/it]"
     ]
    },
    {
     "name": "stdout",
     "output_type": "stream",
     "text": [
      "Checking if detection 2 is in 150 pixel proximity to one of the 2 detections from the last image.\n",
      "Similarity found... Cropped detection 2 will NOT be saved.\n",
      "Looking for ['insect'] in 20240903221225.jpg\n",
      "Number of detections: 1\n",
      "Checking if detection 1 is in 150 pixel proximity to one of the 2 detections from the last image.\n",
      "No similarities found.\n",
      "Detection 1 was saved :)\n"
     ]
    },
    {
     "name": "stderr",
     "output_type": "stream",
     "text": [
      " 71%|██████████████████████████████████████████████████████████████████████▌                             | 134/190 [40:45<20:05, 21.52s/it]"
     ]
    },
    {
     "name": "stdout",
     "output_type": "stream",
     "text": [
      "Looking for ['insect'] in 20240903221453.jpg\n",
      "Number of detections: 2\n",
      "Checking if detection 1 is in 150 pixel proximity to one of the 1 detections from the last image.\n",
      "No similarities found.\n",
      "Detection 1 was saved :)\n"
     ]
    },
    {
     "name": "stderr",
     "output_type": "stream",
     "text": [
      " 71%|███████████████████████████████████████████████████████████████████████                             | 135/190 [41:07<19:53, 21.70s/it]"
     ]
    },
    {
     "name": "stdout",
     "output_type": "stream",
     "text": [
      "Checking if detection 2 is in 150 pixel proximity to one of the 1 detections from the last image.\n",
      "No similarities found.\n",
      "Detection 2 was saved :)\n",
      "Looking for ['insect'] in 20240903221742.jpg\n",
      "Number of detections: 1\n",
      "Checking if detection 1 is in 150 pixel proximity to one of the 2 detections from the last image.\n",
      "No similarities found.\n",
      "Crop 1 exceeds image on the TOP. Only cropping to the edge of the image. Insect might be cut off...\n",
      "Detection 1 was saved :)\n"
     ]
    },
    {
     "name": "stderr",
     "output_type": "stream",
     "text": [
      " 72%|███████████████████████████████████████████████████████████████████████▌                            | 136/190 [41:28<19:30, 21.68s/it]"
     ]
    },
    {
     "name": "stdout",
     "output_type": "stream",
     "text": [
      "Looking for ['insect'] in 20240903221925.jpg\n",
      "Number of detections: 1\n",
      "Checking if detection 1 is in 150 pixel proximity to one of the 1 detections from the last image.\n",
      "No similarities found.\n",
      "Detection 1 was saved :)\n"
     ]
    },
    {
     "name": "stderr",
     "output_type": "stream",
     "text": [
      " 72%|████████████████████████████████████████████████████████████████████████                            | 137/190 [41:49<19:00, 21.52s/it]"
     ]
    },
    {
     "name": "stdout",
     "output_type": "stream",
     "text": [
      "Looking for ['insect'] in 20240903221954.jpg\n",
      "Number of detections: 4\n",
      "Checking if detection 1 is in 150 pixel proximity to one of the 1 detections from the last image.\n",
      "No similarities found.\n",
      "Detection 1 was saved :)\n",
      "Checking if detection 2 is in 150 pixel proximity to one of the 1 detections from the last image.\n",
      "No similarities found.\n",
      "Detection 2 was saved :)\n",
      "Checking if detection 3 is in 150 pixel proximity to one of the 1 detections from the last image.\n",
      "No similarities found.\n",
      "Detection 3 was saved :)\n"
     ]
    },
    {
     "name": "stderr",
     "output_type": "stream",
     "text": [
      " 73%|████████████████████████████████████████████████████████████████████████▋                           | 138/190 [42:13<19:08, 22.08s/it]"
     ]
    },
    {
     "name": "stdout",
     "output_type": "stream",
     "text": [
      "Checking if detection 4 is in 150 pixel proximity to one of the 1 detections from the last image.\n",
      "No similarities found.\n",
      "Detection 4 was saved :)\n",
      "Looking for ['insect'] in 20240903222037.jpg\n",
      "Number of detections: 2\n",
      "Checking if detection 1 is in 150 pixel proximity to one of the 4 detections from the last image.\n",
      "No similarities found.\n",
      "Detection 1 was saved :)\n"
     ]
    },
    {
     "name": "stderr",
     "output_type": "stream",
     "text": [
      " 73%|█████████████████████████████████████████████████████████████████████████▏                          | 139/190 [42:35<18:54, 22.25s/it]"
     ]
    },
    {
     "name": "stdout",
     "output_type": "stream",
     "text": [
      "Checking if detection 2 is in 150 pixel proximity to one of the 4 detections from the last image.\n",
      "Similarity found... Cropped detection 2 will NOT be saved.\n",
      "Looking for ['insect'] in 20240903222106.jpg\n",
      "Number of detections: 4\n",
      "Checking if detection 1 is in 150 pixel proximity to one of the 2 detections from the last image.\n",
      "Similarity found... Cropped detection 1 will NOT be saved.\n",
      "Checking if detection 2 is in 150 pixel proximity to one of the 2 detections from the last image.\n",
      "No similarities found.\n",
      "Detection 2 was saved :)\n",
      "Checking if detection 3 is in 150 pixel proximity to one of the 2 detections from the last image.\n",
      "Similarity found... Cropped detection 3 will NOT be saved.\n"
     ]
    },
    {
     "name": "stderr",
     "output_type": "stream",
     "text": [
      " 74%|█████████████████████████████████████████████████████████████████████████▋                          | 140/190 [42:59<18:54, 22.69s/it]"
     ]
    },
    {
     "name": "stdout",
     "output_type": "stream",
     "text": [
      "Checking if detection 4 is in 150 pixel proximity to one of the 2 detections from the last image.\n",
      "No similarities found.\n",
      "Detection 4 was saved :)\n",
      "Looking for ['insect'] in 20240903222138.jpg\n",
      "Number of detections: 2\n",
      "Checking if detection 1 is in 150 pixel proximity to one of the 4 detections from the last image.\n",
      "No similarities found.\n",
      "Detection 1 was saved :)\n"
     ]
    },
    {
     "name": "stderr",
     "output_type": "stream",
     "text": [
      " 74%|██████████████████████████████████████████████████████████████████████████▏                         | 141/190 [43:22<18:39, 22.85s/it]"
     ]
    },
    {
     "name": "stdout",
     "output_type": "stream",
     "text": [
      "Checking if detection 2 is in 150 pixel proximity to one of the 4 detections from the last image.\n",
      "Similarity found... Cropped detection 2 will NOT be saved.\n",
      "Looking for ['insect'] in 20240903222211.jpg\n",
      "Number of detections: 3\n",
      "Checking if detection 1 is in 150 pixel proximity to one of the 2 detections from the last image.\n",
      "No similarities found.\n",
      "Detection 1 was saved :)\n",
      "Checking if detection 2 is in 150 pixel proximity to one of the 2 detections from the last image.\n",
      "No similarities found.\n",
      "Detection 2 was saved :)\n"
     ]
    },
    {
     "name": "stderr",
     "output_type": "stream",
     "text": [
      " 75%|██████████████████████████████████████████████████████████████████████████▋                         | 142/190 [43:45<18:10, 22.71s/it]"
     ]
    },
    {
     "name": "stdout",
     "output_type": "stream",
     "text": [
      "Checking if detection 3 is in 150 pixel proximity to one of the 2 detections from the last image.\n",
      "Similarity found... Cropped detection 3 will NOT be saved.\n",
      "Looking for ['insect'] in 20240903222244.jpg\n",
      "Number of detections: 2\n",
      "Checking if detection 1 is in 150 pixel proximity to one of the 3 detections from the last image.\n",
      "No similarities found.\n",
      "Detection 1 was saved :)\n"
     ]
    },
    {
     "name": "stderr",
     "output_type": "stream",
     "text": [
      " 75%|███████████████████████████████████████████████████████████████████████████▎                        | 143/190 [44:07<17:44, 22.66s/it]"
     ]
    },
    {
     "name": "stdout",
     "output_type": "stream",
     "text": [
      "Checking if detection 2 is in 150 pixel proximity to one of the 3 detections from the last image.\n",
      "Similarity found... Cropped detection 2 will NOT be saved.\n",
      "Looking for ['insect'] in 20240903222315.jpg\n",
      "Number of detections: 2\n",
      "Checking if detection 1 is in 150 pixel proximity to one of the 2 detections from the last image.\n",
      "No similarities found.\n",
      "Detection 1 was saved :)\n"
     ]
    },
    {
     "name": "stderr",
     "output_type": "stream",
     "text": [
      " 76%|███████████████████████████████████████████████████████████████████████████▊                        | 144/190 [44:30<17:17, 22.55s/it]"
     ]
    },
    {
     "name": "stdout",
     "output_type": "stream",
     "text": [
      "Checking if detection 2 is in 150 pixel proximity to one of the 2 detections from the last image.\n",
      "Similarity found... Cropped detection 2 will NOT be saved.\n",
      "Looking for ['insect'] in 20240903222344.jpg\n",
      "Number of detections: 3\n",
      "Checking if detection 1 is in 150 pixel proximity to one of the 2 detections from the last image.\n",
      "No similarities found.\n",
      "Detection 1 was saved :)\n",
      "Checking if detection 2 is in 150 pixel proximity to one of the 2 detections from the last image.\n",
      "Similarity found... Cropped detection 2 will NOT be saved.\n",
      "Checking if detection 3 is in 150 pixel proximity to one of the 2 detections from the last image.\n",
      "No similarities found.\n",
      "Detection 3 was saved :)\n"
     ]
    },
    {
     "name": "stderr",
     "output_type": "stream",
     "text": [
      " 76%|████████████████████████████████████████████████████████████████████████████▎                       | 145/190 [44:51<16:43, 22.31s/it]"
     ]
    },
    {
     "name": "stdout",
     "output_type": "stream",
     "text": [
      "Looking for ['insect'] in 20240903222413.jpg\n",
      "Number of detections: 1\n",
      "Checking if detection 1 is in 150 pixel proximity to one of the 3 detections from the last image.\n",
      "No similarities found.\n",
      "Detection 1 was saved :)\n"
     ]
    },
    {
     "name": "stderr",
     "output_type": "stream",
     "text": [
      " 77%|████████████████████████████████████████████████████████████████████████████▊                       | 146/190 [45:13<16:07, 21.98s/it]"
     ]
    },
    {
     "name": "stdout",
     "output_type": "stream",
     "text": [
      "Looking for ['insect'] in 20240903222707.jpg\n"
     ]
    },
    {
     "name": "stderr",
     "output_type": "stream",
     "text": [
      " 77%|█████████████████████████████████████████████████████████████████████████████▎                      | 147/190 [45:37<16:23, 22.87s/it]"
     ]
    },
    {
     "name": "stdout",
     "output_type": "stream",
     "text": [
      "Number of detections: 0\n",
      "Looking for ['insect'] in 20240903222926.jpg\n",
      "Number of detections: 1\n",
      "Checking if detection 1 is in 150 pixel proximity to one of the 0 detections from the last image.\n",
      "No similarities found.\n",
      "Detection 1 was saved :)\n"
     ]
    },
    {
     "name": "stderr",
     "output_type": "stream",
     "text": [
      " 78%|█████████████████████████████████████████████████████████████████████████████▉                      | 148/190 [45:59<15:39, 22.38s/it]"
     ]
    },
    {
     "name": "stdout",
     "output_type": "stream",
     "text": [
      "Looking for ['insect'] in 20240903222955.jpg\n",
      "Number of detections: 2\n",
      "Checking if detection 1 is in 150 pixel proximity to one of the 1 detections from the last image.\n",
      "No similarities found.\n",
      "Detection 1 was saved :)\n"
     ]
    },
    {
     "name": "stderr",
     "output_type": "stream",
     "text": [
      " 78%|██████████████████████████████████████████████████████████████████████████████▍                     | 149/190 [46:21<15:11, 22.24s/it]"
     ]
    },
    {
     "name": "stdout",
     "output_type": "stream",
     "text": [
      "Checking if detection 2 is in 150 pixel proximity to one of the 1 detections from the last image.\n",
      "No similarities found.\n",
      "Detection 2 was saved :)\n",
      "Looking for ['insect'] in 20240903223028.jpg\n",
      "Number of detections: 2\n",
      "Checking if detection 1 is in 150 pixel proximity to one of the 2 detections from the last image.\n",
      "No similarities found.\n",
      "Detection 1 was saved :)\n"
     ]
    },
    {
     "name": "stderr",
     "output_type": "stream",
     "text": [
      " 79%|██████████████████████████████████████████████████████████████████████████████▉                     | 150/190 [46:43<14:56, 22.41s/it]"
     ]
    },
    {
     "name": "stdout",
     "output_type": "stream",
     "text": [
      "Checking if detection 2 is in 150 pixel proximity to one of the 2 detections from the last image.\n",
      "Similarity found... Cropped detection 2 will NOT be saved.\n",
      "Looking for ['insect'] in 20240903223306.jpg\n",
      "Number of detections: 2\n",
      "Checking if detection 1 is in 150 pixel proximity to one of the 2 detections from the last image.\n",
      "No similarities found.\n",
      "Detection 1 was saved :)\n"
     ]
    },
    {
     "name": "stderr",
     "output_type": "stream",
     "text": [
      " 79%|███████████████████████████████████████████████████████████████████████████████▍                    | 151/190 [47:06<14:34, 22.43s/it]"
     ]
    },
    {
     "name": "stdout",
     "output_type": "stream",
     "text": [
      "Checking if detection 2 is in 150 pixel proximity to one of the 2 detections from the last image.\n",
      "Similarity found... Cropped detection 2 will NOT be saved.\n",
      "Looking for ['insect'] in 20240903223359.jpg\n",
      "Number of detections: 1\n",
      "Checking if detection 1 is in 150 pixel proximity to one of the 2 detections from the last image.\n",
      "No similarities found.\n",
      "Detection 1 was saved :)\n"
     ]
    },
    {
     "name": "stderr",
     "output_type": "stream",
     "text": [
      " 80%|████████████████████████████████████████████████████████████████████████████████                    | 152/190 [47:27<13:59, 22.09s/it]"
     ]
    },
    {
     "name": "stdout",
     "output_type": "stream",
     "text": [
      "Looking for ['insect'] in 20240903223432.jpg\n"
     ]
    },
    {
     "name": "stderr",
     "output_type": "stream",
     "text": [
      " 81%|████████████████████████████████████████████████████████████████████████████████▌                   | 153/190 [47:48<13:20, 21.64s/it]"
     ]
    },
    {
     "name": "stdout",
     "output_type": "stream",
     "text": [
      "Number of detections: 1\n",
      "Checking if detection 1 is in 150 pixel proximity to one of the 1 detections from the last image.\n",
      "Similarity found... Cropped detection 1 will NOT be saved.\n",
      "Looking for ['insect'] in 20240903223607.jpg\n",
      "Number of detections: 3\n",
      "Checking if detection 1 is in 150 pixel proximity to one of the 1 detections from the last image.\n",
      "No similarities found.\n",
      "Detection 1 was saved :)\n",
      "Checking if detection 2 is in 150 pixel proximity to one of the 1 detections from the last image.\n",
      "No similarities found.\n",
      "Detection 2 was saved :)\n",
      "Checking if detection 3 is in 150 pixel proximity to one of the 1 detections from the last image.\n",
      "No similarities found.\n"
     ]
    },
    {
     "name": "stderr",
     "output_type": "stream",
     "text": [
      " 81%|█████████████████████████████████████████████████████████████████████████████████                   | 154/190 [48:11<13:15, 22.11s/it]"
     ]
    },
    {
     "name": "stdout",
     "output_type": "stream",
     "text": [
      "Detection 3 was saved :)\n",
      "Looking for ['insect'] in 20240903223636.jpg\n",
      "Number of detections: 3\n",
      "Checking if detection 1 is in 150 pixel proximity to one of the 3 detections from the last image.\n",
      "No similarities found.\n",
      "Detection 1 was saved :)\n",
      "Checking if detection 2 is in 150 pixel proximity to one of the 3 detections from the last image.\n",
      "Similarity found... Cropped detection 2 will NOT be saved.\n",
      "Checking if detection 3 is in 150 pixel proximity to one of the 3 detections from the last image.\n",
      "Similarity found... Cropped detection 3 will NOT be saved.\n"
     ]
    },
    {
     "name": "stderr",
     "output_type": "stream",
     "text": [
      " 82%|█████████████████████████████████████████████████████████████████████████████████▌                  | 155/190 [48:33<12:56, 22.20s/it]"
     ]
    },
    {
     "name": "stdout",
     "output_type": "stream",
     "text": [
      "Looking for ['insect'] in 20240903223705.jpg\n",
      "Number of detections: 2\n",
      "Checking if detection 1 is in 150 pixel proximity to one of the 3 detections from the last image.\n",
      "Similarity found... Cropped detection 1 will NOT be saved.\n",
      "Checking if detection 2 is in 150 pixel proximity to one of the 3 detections from the last image.\n",
      "Similarity found... Cropped detection 2 will NOT be saved.\n"
     ]
    },
    {
     "name": "stderr",
     "output_type": "stream",
     "text": [
      " 82%|██████████████████████████████████████████████████████████████████████████████████                  | 156/190 [48:54<12:23, 21.86s/it]"
     ]
    },
    {
     "name": "stdout",
     "output_type": "stream",
     "text": [
      "Looking for ['insect'] in 20240903223923.jpg\n",
      "Number of detections: 3\n",
      "Checking if detection 1 is in 150 pixel proximity to one of the 2 detections from the last image.\n",
      "No similarities found.\n",
      "Detection 1 was saved :)\n",
      "Checking if detection 2 is in 150 pixel proximity to one of the 2 detections from the last image.\n",
      "Similarity found... Cropped detection 2 will NOT be saved.\n",
      "Checking if detection 3 is in 150 pixel proximity to one of the 2 detections from the last image.\n",
      "No similarities found.\n",
      "Detection 3 was saved :)\n"
     ]
    },
    {
     "name": "stderr",
     "output_type": "stream",
     "text": [
      " 83%|██████████████████████████████████████████████████████████████████████████████████▋                 | 157/190 [49:15<11:51, 21.57s/it]"
     ]
    },
    {
     "name": "stdout",
     "output_type": "stream",
     "text": [
      "Looking for ['insect'] in 20240903224028.jpg\n",
      "Number of detections: 2\n",
      "Checking if detection 1 is in 150 pixel proximity to one of the 3 detections from the last image.\n",
      "Similarity found... Cropped detection 1 will NOT be saved.\n",
      "Checking if detection 2 is in 150 pixel proximity to one of the 3 detections from the last image.\n",
      "Similarity found... Cropped detection 2 will NOT be saved.\n"
     ]
    },
    {
     "name": "stderr",
     "output_type": "stream",
     "text": [
      " 83%|███████████████████████████████████████████████████████████████████████████████████▏                | 158/190 [49:38<11:39, 21.87s/it]"
     ]
    },
    {
     "name": "stdout",
     "output_type": "stream",
     "text": [
      "Looking for ['insect'] in 20240903224432.jpg\n"
     ]
    },
    {
     "name": "stderr",
     "output_type": "stream",
     "text": [
      " 84%|███████████████████████████████████████████████████████████████████████████████████▋                | 159/190 [49:59<11:08, 21.56s/it]"
     ]
    },
    {
     "name": "stdout",
     "output_type": "stream",
     "text": [
      "Number of detections: 0\n",
      "Looking for ['insect'] in 20240903224745.jpg\n",
      "Number of detections: 2\n",
      "Checking if detection 1 is in 150 pixel proximity to one of the 0 detections from the last image.\n",
      "No similarities found.\n",
      "Detection 1 was saved :)\n"
     ]
    },
    {
     "name": "stderr",
     "output_type": "stream",
     "text": [
      " 84%|████████████████████████████████████████████████████████████████████████████████████▏               | 160/190 [50:21<10:54, 21.83s/it]"
     ]
    },
    {
     "name": "stdout",
     "output_type": "stream",
     "text": [
      "Checking if detection 2 is in 150 pixel proximity to one of the 0 detections from the last image.\n",
      "No similarities found.\n",
      "Detection 2 was saved :)\n",
      "Looking for ['insect'] in 20240903224907.jpg\n",
      "Number of detections: 2\n",
      "Checking if detection 1 is in 150 pixel proximity to one of the 2 detections from the last image.\n",
      "No similarities found.\n",
      "Detection 1 was saved :)\n"
     ]
    },
    {
     "name": "stderr",
     "output_type": "stream",
     "text": [
      " 85%|████████████████████████████████████████████████████████████████████████████████████▋               | 161/190 [50:42<10:24, 21.54s/it]"
     ]
    },
    {
     "name": "stdout",
     "output_type": "stream",
     "text": [
      "Checking if detection 2 is in 150 pixel proximity to one of the 2 detections from the last image.\n",
      "No similarities found.\n",
      "Detection 2 was saved :)\n",
      "Looking for ['insect'] in 20240903225202.jpg\n",
      "Number of detections: 3\n",
      "Checking if detection 1 is in 150 pixel proximity to one of the 2 detections from the last image.\n",
      "No similarities found.\n",
      "Detection 1 was saved :)\n",
      "Checking if detection 2 is in 150 pixel proximity to one of the 2 detections from the last image.\n",
      "No similarities found.\n",
      "Detection 2 was saved :)\n",
      "Checking if detection 3 is in 150 pixel proximity to one of the 2 detections from the last image.\n",
      "No similarities found.\n",
      "Detection 3 was saved :)\n"
     ]
    },
    {
     "name": "stderr",
     "output_type": "stream",
     "text": [
      " 85%|█████████████████████████████████████████████████████████████████████████████████████▎              | 162/190 [51:03<09:59, 21.42s/it]"
     ]
    },
    {
     "name": "stdout",
     "output_type": "stream",
     "text": [
      "Looking for ['insect'] in 20240903225428.jpg\n"
     ]
    },
    {
     "name": "stderr",
     "output_type": "stream",
     "text": [
      " 86%|█████████████████████████████████████████████████████████████████████████████████████▊              | 163/190 [51:24<09:29, 21.11s/it]"
     ]
    },
    {
     "name": "stdout",
     "output_type": "stream",
     "text": [
      "Number of detections: 0\n",
      "Looking for ['insect'] in 20240903225818.jpg\n",
      "Number of detections: 4\n",
      "Checking if detection 1 is in 150 pixel proximity to one of the 0 detections from the last image.\n",
      "No similarities found.\n",
      "Detection 1 was saved :)\n",
      "Checking if detection 2 is in 150 pixel proximity to one of the 0 detections from the last image.\n",
      "No similarities found.\n",
      "Crop 2 exceeds image on the BOTTOM. Only cropping to the edge of the image. Insect might be cut off...\n",
      "Detection 2 was saved :)\n",
      "Checking if detection 3 is in 150 pixel proximity to one of the 0 detections from the last image.\n",
      "No similarities found.\n",
      "Detection 3 was saved :)\n"
     ]
    },
    {
     "name": "stderr",
     "output_type": "stream",
     "text": [
      " 86%|██████████████████████████████████████████████████████████████████████████████████████▎             | 164/190 [51:47<09:27, 21.82s/it]"
     ]
    },
    {
     "name": "stdout",
     "output_type": "stream",
     "text": [
      "Checking if detection 4 is in 150 pixel proximity to one of the 0 detections from the last image.\n",
      "No similarities found.\n",
      "Detection 4 was saved :)\n",
      "Looking for ['insect'] in 20240903230105.jpg\n",
      "Number of detections: 5\n",
      "The similarity threshold was lowered due to a high number of insects. similarity_threshold = similarity_thresh / 4 = 37\n",
      "Checking if detection 1 is in 37 pixel proximity to one of the 4 detections from the last image.\n",
      "No similarities found.\n",
      "Detection 1 was saved :)\n",
      "Checking if detection 2 is in 37 pixel proximity to one of the 4 detections from the last image.\n",
      "No similarities found.\n",
      "Detection 2 was saved :)\n",
      "Checking if detection 3 is in 37 pixel proximity to one of the 4 detections from the last image.\n",
      "Similarity found... Cropped detection 3 will NOT be saved.\n",
      "Checking if detection 4 is in 37 pixel proximity to one of the 4 detections from the last image.\n",
      "No similarities found.\n",
      "Detection 4 was saved :)\n",
      "Checking if detection 5 is in 37 pixel proximity to one of the 4 detections from the last image.\n",
      "No similarities found.\n",
      "Detection 5 was saved :)\n"
     ]
    },
    {
     "name": "stderr",
     "output_type": "stream",
     "text": [
      " 87%|██████████████████████████████████████████████████████████████████████████████████████▊             | 165/190 [52:10<09:11, 22.04s/it]"
     ]
    },
    {
     "name": "stdout",
     "output_type": "stream",
     "text": [
      "Looking for ['insect'] in 20240903230135.jpg\n",
      "Number of detections: 3\n",
      "Checking if detection 1 is in 150 pixel proximity to one of the 5 detections from the last image.\n",
      "No similarities found.\n",
      "Crop 1 exceeds image on the TOP. Only cropping to the edge of the image. Insect might be cut off...\n",
      "Detection 1 was saved :)\n",
      "Checking if detection 2 is in 150 pixel proximity to one of the 5 detections from the last image.\n",
      "No similarities found.\n",
      "Detection 2 was saved :)\n",
      "Checking if detection 3 is in 150 pixel proximity to one of the 5 detections from the last image.\n",
      "Similarity found... Cropped detection 3 will NOT be saved.\n"
     ]
    },
    {
     "name": "stderr",
     "output_type": "stream",
     "text": [
      " 87%|███████████████████████████████████████████████████████████████████████████████████████▎            | 166/190 [52:36<09:20, 23.34s/it]"
     ]
    },
    {
     "name": "stdout",
     "output_type": "stream",
     "text": [
      "Looking for ['insect'] in 20240903230437.jpg\n",
      "Number of detections: 2\n",
      "Checking if detection 1 is in 150 pixel proximity to one of the 3 detections from the last image.\n",
      "No similarities found.\n",
      "Detection 1 was saved :)\n"
     ]
    },
    {
     "name": "stderr",
     "output_type": "stream",
     "text": [
      " 88%|███████████████████████████████████████████████████████████████████████████████████████▉            | 167/190 [52:59<08:52, 23.16s/it]"
     ]
    },
    {
     "name": "stdout",
     "output_type": "stream",
     "text": [
      "Checking if detection 2 is in 150 pixel proximity to one of the 3 detections from the last image.\n",
      "Similarity found... Cropped detection 2 will NOT be saved.\n",
      "Looking for ['insect'] in 20240903230612.jpg\n",
      "Number of detections: 1\n",
      "Checking if detection 1 is in 150 pixel proximity to one of the 2 detections from the last image.\n",
      "Similarity found... Cropped detection 1 will NOT be saved.\n"
     ]
    },
    {
     "name": "stderr",
     "output_type": "stream",
     "text": [
      " 88%|████████████████████████████████████████████████████████████████████████████████████████▍           | 168/190 [53:22<08:27, 23.08s/it]"
     ]
    },
    {
     "name": "stdout",
     "output_type": "stream",
     "text": [
      "Looking for ['insect'] in 20240903230702.jpg\n",
      "Number of detections: 2\n",
      "Checking if detection 1 is in 150 pixel proximity to one of the 1 detections from the last image.\n",
      "No similarities found.\n",
      "Detection 1 was saved :)\n",
      "Checking if detection 2 is in 150 pixel proximity to one of the 1 detections from the last image.\n",
      "No similarities found.\n",
      "Detection 2 was saved :)\n"
     ]
    },
    {
     "name": "stderr",
     "output_type": "stream",
     "text": [
      " 89%|████████████████████████████████████████████████████████████████████████████████████████▉           | 169/190 [53:48<08:23, 23.97s/it]"
     ]
    },
    {
     "name": "stdout",
     "output_type": "stream",
     "text": [
      "Looking for ['insect'] in 20240903230812.jpg\n"
     ]
    },
    {
     "name": "stderr",
     "output_type": "stream",
     "text": [
      " 89%|█████████████████████████████████████████████████████████████████████████████████████████▍          | 170/190 [54:10<07:52, 23.60s/it]"
     ]
    },
    {
     "name": "stdout",
     "output_type": "stream",
     "text": [
      "Number of detections: 0\n",
      "Looking for ['insect'] in 20240903230939.jpg\n",
      "Number of detections: 1\n",
      "Checking if detection 1 is in 150 pixel proximity to one of the 0 detections from the last image.\n",
      "No similarities found.\n",
      "Detection 1 was saved :)\n"
     ]
    },
    {
     "name": "stderr",
     "output_type": "stream",
     "text": [
      " 90%|██████████████████████████████████████████████████████████████████████████████████████████          | 171/190 [54:35<07:34, 23.92s/it]"
     ]
    },
    {
     "name": "stdout",
     "output_type": "stream",
     "text": [
      "Looking for ['insect'] in 20240903231049.jpg\n",
      "Number of detections: 1\n",
      "Checking if detection 1 is in 150 pixel proximity to one of the 1 detections from the last image.\n",
      "No similarities found.\n",
      "Detection 1 was saved :)\n"
     ]
    },
    {
     "name": "stderr",
     "output_type": "stream",
     "text": [
      " 91%|██████████████████████████████████████████████████████████████████████████████████████████▌         | 172/190 [54:59<07:10, 23.91s/it]"
     ]
    },
    {
     "name": "stdout",
     "output_type": "stream",
     "text": [
      "Looking for ['insect'] in 20240903231227.jpg\n"
     ]
    },
    {
     "name": "stderr",
     "output_type": "stream",
     "text": [
      " 91%|███████████████████████████████████████████████████████████████████████████████████████████         | 173/190 [55:22<06:44, 23.77s/it]"
     ]
    },
    {
     "name": "stdout",
     "output_type": "stream",
     "text": [
      "Number of detections: 0\n",
      "Looking for ['insect'] in 20240903231330.jpg\n"
     ]
    },
    {
     "name": "stderr",
     "output_type": "stream",
     "text": [
      " 92%|███████████████████████████████████████████████████████████████████████████████████████████▌        | 174/190 [55:46<06:18, 23.66s/it]"
     ]
    },
    {
     "name": "stdout",
     "output_type": "stream",
     "text": [
      "Number of detections: 0\n",
      "Looking for ['insect'] in 20240903231721.jpg\n",
      "Number of detections: 4\n",
      "Checking if detection 1 is in 150 pixel proximity to one of the 0 detections from the last image.\n",
      "No similarities found.\n",
      "Detection 1 was saved :)\n",
      "Checking if detection 2 is in 150 pixel proximity to one of the 0 detections from the last image.\n",
      "No similarities found.\n",
      "Detection 2 was saved :)\n",
      "Checking if detection 3 is in 150 pixel proximity to one of the 0 detections from the last image.\n",
      "No similarities found.\n",
      "Detection 3 was saved :)\n",
      "Checking if detection 4 is in 150 pixel proximity to one of the 0 detections from the last image.\n",
      "No similarities found.\n"
     ]
    },
    {
     "name": "stderr",
     "output_type": "stream",
     "text": [
      " 92%|████████████████████████████████████████████████████████████████████████████████████████████        | 175/190 [56:10<05:55, 23.72s/it]"
     ]
    },
    {
     "name": "stdout",
     "output_type": "stream",
     "text": [
      "Detection 4 was saved :)\n",
      "Looking for ['insect'] in 20240903231750.jpg\n",
      "Number of detections: 1\n",
      "Checking if detection 1 is in 150 pixel proximity to one of the 4 detections from the last image.\n",
      "Similarity found... Cropped detection 1 will NOT be saved.\n"
     ]
    },
    {
     "name": "stderr",
     "output_type": "stream",
     "text": [
      " 93%|████████████████████████████████████████████████████████████████████████████████████████████▋       | 176/190 [56:34<05:32, 23.75s/it]"
     ]
    },
    {
     "name": "stdout",
     "output_type": "stream",
     "text": [
      "Looking for ['insect'] in 20240903231856.jpg\n"
     ]
    },
    {
     "name": "stderr",
     "output_type": "stream",
     "text": [
      " 93%|█████████████████████████████████████████████████████████████████████████████████████████████▏      | 177/190 [56:58<05:10, 23.91s/it]"
     ]
    },
    {
     "name": "stdout",
     "output_type": "stream",
     "text": [
      "Number of detections: 1\n",
      "Checking if detection 1 is in 150 pixel proximity to one of the 1 detections from the last image.\n",
      "Similarity found... Cropped detection 1 will NOT be saved.\n",
      "Looking for ['insect'] in 20240903231946.jpg\n",
      "Number of detections: 1\n",
      "Checking if detection 1 is in 150 pixel proximity to one of the 1 detections from the last image.\n",
      "Similarity found... Cropped detection 1 will NOT be saved.\n"
     ]
    },
    {
     "name": "stderr",
     "output_type": "stream",
     "text": [
      " 94%|█████████████████████████████████████████████████████████████████████████████████████████████▋      | 178/190 [57:20<04:41, 23.48s/it]"
     ]
    },
    {
     "name": "stdout",
     "output_type": "stream",
     "text": [
      "Looking for ['insect'] in 20240903232351.jpg\n",
      "Number of detections: 1\n",
      "Checking if detection 1 is in 150 pixel proximity to one of the 1 detections from the last image.\n",
      "No similarities found.\n",
      "Detection 1 was saved :)\n"
     ]
    },
    {
     "name": "stderr",
     "output_type": "stream",
     "text": [
      " 94%|██████████████████████████████████████████████████████████████████████████████████████████████▏     | 179/190 [57:44<04:18, 23.53s/it]"
     ]
    },
    {
     "name": "stdout",
     "output_type": "stream",
     "text": [
      "Looking for ['insect'] in 20240903232451.jpg\n",
      "Number of detections: 1\n",
      "Checking if detection 1 is in 150 pixel proximity to one of the 1 detections from the last image.\n",
      "No similarities found.\n",
      "Detection 1 was saved :)\n"
     ]
    },
    {
     "name": "stderr",
     "output_type": "stream",
     "text": [
      " 95%|██████████████████████████████████████████████████████████████████████████████████████████████▋     | 180/190 [58:08<03:55, 23.59s/it]"
     ]
    },
    {
     "name": "stdout",
     "output_type": "stream",
     "text": [
      "Looking for ['insect'] in 20240903232818.jpg\n"
     ]
    },
    {
     "name": "stderr",
     "output_type": "stream",
     "text": [
      " 95%|███████████████████████████████████████████████████████████████████████████████████████████████▎    | 181/190 [58:31<03:30, 23.44s/it]"
     ]
    },
    {
     "name": "stdout",
     "output_type": "stream",
     "text": [
      "Number of detections: 0\n",
      "Looking for ['insect'] in 20240903233008.jpg\n"
     ]
    },
    {
     "name": "stderr",
     "output_type": "stream",
     "text": [
      " 96%|███████████████████████████████████████████████████████████████████████████████████████████████▊    | 182/190 [58:54<03:06, 23.29s/it]"
     ]
    },
    {
     "name": "stdout",
     "output_type": "stream",
     "text": [
      "Number of detections: 0\n",
      "Looking for ['insect'] in 20240903233203.jpg\n",
      "Number of detections: 1\n",
      "Checking if detection 1 is in 150 pixel proximity to one of the 0 detections from the last image.\n",
      "No similarities found.\n",
      "Detection 1 was saved :)\n"
     ]
    },
    {
     "name": "stderr",
     "output_type": "stream",
     "text": [
      " 96%|████████████████████████████████████████████████████████████████████████████████████████████████▎   | 183/190 [59:17<02:43, 23.33s/it]"
     ]
    },
    {
     "name": "stdout",
     "output_type": "stream",
     "text": [
      "Looking for ['insect'] in 20240903233407.jpg\n",
      "Number of detections: 3\n",
      "Checking if detection 1 is in 150 pixel proximity to one of the 1 detections from the last image.\n",
      "No similarities found.\n",
      "Detection 1 was saved :)\n",
      "Checking if detection 2 is in 150 pixel proximity to one of the 1 detections from the last image.\n",
      "No similarities found.\n",
      "Detection 2 was saved :)\n",
      "Checking if detection 3 is in 150 pixel proximity to one of the 1 detections from the last image.\n",
      "No similarities found.\n"
     ]
    },
    {
     "name": "stderr",
     "output_type": "stream",
     "text": [
      " 97%|████████████████████████████████████████████████████████████████████████████████████████████████▊   | 184/190 [59:38<02:16, 22.70s/it]"
     ]
    },
    {
     "name": "stdout",
     "output_type": "stream",
     "text": [
      "Detection 3 was saved :)\n",
      "Looking for ['insect'] in 20240903233456.jpg\n",
      "Number of detections: 1\n",
      "Checking if detection 1 is in 150 pixel proximity to one of the 3 detections from the last image.\n",
      "No similarities found.\n",
      "Detection 1 was saved :)\n"
     ]
    },
    {
     "name": "stderr",
     "output_type": "stream",
     "text": [
      " 97%|█████████████████████████████████████████████████████████████████████████████████████████████████▎  | 185/190 [59:59<01:51, 22.21s/it]"
     ]
    },
    {
     "name": "stdout",
     "output_type": "stream",
     "text": [
      "Looking for ['insect'] in 20240903233814.jpg\n",
      "Number of detections: 1\n",
      "Checking if detection 1 is in 150 pixel proximity to one of the 1 detections from the last image.\n",
      "No similarities found.\n",
      "Detection 1 was saved :)\n"
     ]
    },
    {
     "name": "stderr",
     "output_type": "stream",
     "text": [
      " 98%|███████████████████████████████████████████████████████████████████████████████████████████████▉  | 186/190 [1:00:20<01:27, 21.82s/it]"
     ]
    },
    {
     "name": "stdout",
     "output_type": "stream",
     "text": [
      "Looking for ['insect'] in 20240903233844.jpg\n"
     ]
    },
    {
     "name": "stderr",
     "output_type": "stream",
     "text": [
      " 98%|████████████████████████████████████████████████████████████████████████████████████████████████▍ | 187/190 [1:00:42<01:04, 21.66s/it]"
     ]
    },
    {
     "name": "stdout",
     "output_type": "stream",
     "text": [
      "Number of detections: 1\n",
      "Checking if detection 1 is in 150 pixel proximity to one of the 1 detections from the last image.\n",
      "Similarity found... Cropped detection 1 will NOT be saved.\n",
      "Looking for ['insect'] in 20240903234044.jpg\n"
     ]
    },
    {
     "name": "stderr",
     "output_type": "stream",
     "text": [
      " 99%|████████████████████████████████████████████████████████████████████████████████████████████████▉ | 188/190 [1:01:02<00:42, 21.30s/it]"
     ]
    },
    {
     "name": "stdout",
     "output_type": "stream",
     "text": [
      "Number of detections: 0\n",
      "Looking for ['insect'] in 20240903235101.jpg\n"
     ]
    },
    {
     "name": "stderr",
     "output_type": "stream",
     "text": [
      " 99%|█████████████████████████████████████████████████████████████████████████████████████████████████▍| 189/190 [1:01:23<00:21, 21.16s/it]"
     ]
    },
    {
     "name": "stdout",
     "output_type": "stream",
     "text": [
      "Number of detections: 0\n",
      "Looking for ['insect'] in 20240903235625.jpg\n",
      "Number of detections: 1\n",
      "Checking if detection 1 is in 150 pixel proximity to one of the 0 detections from the last image.\n",
      "No similarities found.\n",
      "Detection 1 was saved :)\n"
     ]
    },
    {
     "name": "stderr",
     "output_type": "stream",
     "text": [
      "100%|██████████████████████████████████████████████████████████████████████████████████████████████████| 190/190 [1:01:44<00:00, 19.50s/it]\n"
     ]
    },
    {
     "name": "stdout",
     "output_type": "stream",
     "text": [
      "--------\n",
      "Done detecting all the insects and saving cropped versions. Classifying cropped images now...\n",
      "Performing ApolloNet Classification :)\n",
      "ApolloNet ran clean\n",
      "--------\n",
      "Done classifying the insects. Measuring body lengths now...\n",
      "Length measurements ran clean\n",
      "--------\n",
      "Done measuring. Annotating all results onto cropped images now...\n",
      "No InsectDetect results found.\n",
      "--------\n",
      "Done with everything! No length Errors occured :)\n",
      "Elapsed time: 64.24 minutes \n",
      "Time per Image: 20.29 seconds\n"
     ]
    }
   ],
   "source": [
    "from FunktionenZumImportieren.classes import Centers\n",
    "\n",
    "if not InsectDetect and not ApolloNet:\n",
    "    raise ValueError(\"InsectDetect and ApolloNet are either not set, or both 'False'. One of these variables must be set to 'True'.\")\n",
    "    \n",
    "start_time = time.time()\n",
    "\n",
    "object_detector = load_grounding_dino_model()\n",
    "\n",
    "if image_format == \"folder\":\n",
    "    images = os.listdir(image_folder)\n",
    "    cropped_folder = os.path.join(image_folder, \"cropped\")\n",
    "    os.makedirs(cropped_folder, exist_ok=True)\n",
    "    loop = 0\n",
    "    previous_centers = []\n",
    "    current_centers = []\n",
    "    prev_centers = []\n",
    "    Centers = Centers()\n",
    "    start_processing = False\n",
    "    length_error = False\n",
    "    for image in images:\n",
    "        image_size_temp_path = os.path.join(image_folder, image)\n",
    "        base = Image.open(image_size_temp_path)\n",
    "        break\n",
    "    draw_layer = Image.new('RGBA', base.size, (0,0,0,0))\n",
    "    draw = ImageDraw.Draw(draw_layer)\n",
    "\n",
    "    for image in tqdm(images):\n",
    "        image_arg = os.path.join(image_folder, image)\n",
    "        skip, start_processing = should_image_be_skipped(start_image, start_processing, image_arg, image, image_folder)\n",
    "        if skip:\n",
    "            continue\n",
    "        print(\"Looking for\", labels, \"in\", image)\n",
    "        similarity_check_x = False\n",
    "        similarity_check_y = False\n",
    "        detection_nr = 0\n",
    "\n",
    "        detections = detect(\n",
    "            object_detector,\n",
    "            image=image_arg,\n",
    "            labels=labels,\n",
    "            threshold=threshold\n",
    "        )\n",
    "        print(\"Number of detections:\", len(detections))\n",
    "        if len(detections) > 4:\n",
    "            similarity_threshold = int(similarity_thresh / 4)\n",
    "            print(\"The similarity threshold was lowered due to a high number of insects. similarity_threshold = similarity_thresh / 4 =\", similarity_threshold)\n",
    "        elif len(detections) > 10:\n",
    "            similarity_threshold = 10\n",
    "            print(\"The similarity threshold was lowered due to a very high number of insects. similarity_threshold = \", similarity_threshold)\n",
    "        else:\n",
    "            similarity_threshold = similarity_thresh\n",
    "        detection_nr = 1\n",
    "        #if len(detections) > 1:\n",
    "        #    hugging_insects_check, similarity_threshold = hugging_insects_check(detections, similarity_threshold)\n",
    "        for detection in detections:\n",
    "            similarity_found = False\n",
    "            current_center = detection.center\n",
    "            # Überprüfen Sie, ob die Box ausreichend unterschiedlich von den bereits erkannten Boxen ist\n",
    "            print(\"Checking if detection\", detection_nr, \"is in\", similarity_threshold, \"pixel proximity to one of the\", len(previous_centers), \"detections from the last image.\")\n",
    "            for prev_center in previous_centers:\n",
    "                similarity_check_x = are_box_centers_similar_x(current_center, prev_center, similarity_threshold)\n",
    "                similarity_check_y = are_box_centers_similar_y(current_center, prev_center, similarity_threshold)\n",
    "                Centers.current.append(current_center)\n",
    "                Centers.prev.append(prev_center)\n",
    "                if similarity_check_x and similarity_check_y:\n",
    "                    similarity_found = True\n",
    "                    print(f\"Similarity found... Cropped detection {detection_nr} will NOT be saved.\")\n",
    "                    break\n",
    "                else:\n",
    "                    similarity_check_x = False\n",
    "                    similarity_check_y = False\n",
    "            if not similarity_found:\n",
    "                print(\"No similarities found.\")\n",
    "                image_name, image_ext = os.path.splitext(image)\n",
    "                if save_in_subfolder:\n",
    "                    cropped_subfolder = os.path.join(cropped_folder, image_name)\n",
    "                    os.makedirs(cropped_subfolder, exist_ok=True)\n",
    "                else:\n",
    "                    cropped_subfolder = cropped_folder\n",
    "                pot_faulty, out_path = crop_image(image_path = image_arg, detections = [detection], save_path = cropped_subfolder, \n",
    "                                        buffer = buffer, image_format = image_format, \n",
    "                                        detection_nr = detection_nr)\n",
    "            detection_nr += 1\n",
    "            drawings_folder = os.path.join(image_folder, \"detection_drawings\")\n",
    "            os.makedirs(drawings_folder, exist_ok=True)\n",
    "            drawings_path = os.path.join(drawings_folder, image)\n",
    "            \n",
    "            draw_layer = draw_detections_on_images(image_arg, current_center, previous_centers, similarity_found, \n",
    "                                                             similarity_threshold, drawings_path, pot_faulty, draw_layer)\n",
    "        previous_centers.clear()\n",
    "        for detection in detections:\n",
    "            previous_centers.append(detection.center)\n",
    "else:\n",
    "    if image_format == \"web\":\n",
    "        image_arg = image_url\n",
    "    elif image_format == \"path\":\n",
    "        image_arg = image_path\n",
    "    else:\n",
    "        raise ValueError(\"Fehler! image_format muss entweder web, path oder folder sein...\")\n",
    "    \n",
    "    detections = detect(\n",
    "        object_detector,\n",
    "        image=image_arg,\n",
    "        labels=labels,\n",
    "        threshold=threshold\n",
    "    )\n",
    "print(\"--------\")\n",
    "\n",
    "## Classifying the cropped images\n",
    "print(\"Done detecting all the insects and saving cropped versions. Classifying cropped images now...\")\n",
    "\n",
    "if InsectDetect:\n",
    "    print(\"InsectDetect classifier running...\")\n",
    "    os.chdir(r\"C:\\Users\\rolingni\\AppData\\Local\\anaconda3\\envs\\InsectDetectSAM\\yolov5-cls\")\n",
    "    print(\"Working directory is now:\", os.getcwd())\n",
    "    InsectDetect_input_path = os.path.join(image_folder, \"cropped\")\n",
    "    !python classify/predict.py --project {image_folder} --name classification_results --source {InsectDetect_input_path} --weights \"insect-detect-ml-main/models/efficientnet-b0_imgsz128.onnx\" --img 128 --sort-top1 --sort-prob --concat-csv\n",
    "\n",
    "if ApolloNet:\n",
    "    print(\"Performing ApolloNet Classification :)\")\n",
    "    Apollo_input_path = os.path.join(image_folder, \"cropped\")\n",
    "    Apollo_command = f'conda run -n ApolloNet python C:\\\\Users\\\\rolingni\\\\AppData\\\\Local\\\\anaconda3\\\\envs\\\\ApolloNet\\\\Intro-to-CV-for-Ecologists-main\\\\inference.py \"{Apollo_input_path}\"'\n",
    "    Apollo = subprocess.run(Apollo_command, shell=True, capture_output=True, text=True)\n",
    "    if Apollo.returncode != 0:\n",
    "        print(Apollo.stderr)\n",
    "    else:\n",
    "        print(\"ApolloNet ran clean\\n--------\")\n",
    "\n",
    "print(\"Done classifying the insects. Measuring body lengths now...\")\n",
    "length_input_path = os.path.join(image_folder, \"cropped\")\n",
    "command = f'conda run -n sleap python C:\\\\Users\\\\rolingni\\\\AppData\\\\Local\\\\anaconda3\\\\envs\\\\sleap\\\\body_length_inference_folder.py \"{length_input_path}\" \"{pixel_scale}\"'\n",
    "ran_clean = subprocess.run(command, shell=True, capture_output=True, text=True)\n",
    "if ran_clean.returncode != 0:\n",
    "    #print(length_result)\n",
    "    print(f\"stdout = {ran_clean.stdout}\")\n",
    "    traceback_index = ran_clean.stderr.find(\"Traceback\")\n",
    "    print(ran_clean.stderr[traceback_index:])\n",
    "    length_error = True\n",
    "else:\n",
    "    print(\"Length measurements ran clean\\n--------\")\n",
    "\n",
    "print(\"Done measuring. Annotating all results onto cropped images now...\")\n",
    "input_folder = os.path.join(image_folder, \"cropped_and_annotated\")\n",
    "try:\n",
    "    results_csv = pd.read_csv(os.path.join(image_folder, \"classification_results\", \"results\", \"classification_results.csv\"))\n",
    "except FileNotFoundError:\n",
    "    print(\"No InsectDetect results found.\")\n",
    "    results_csv = None\n",
    "try:\n",
    "    Apollo_results = pd.read_csv(os.path.join(image_folder, \"classification_results\", \"ApolloNet_classification_results.csv\"))\n",
    "except FileNotFoundError:\n",
    "    print(\"No Apollo results found.\")\n",
    "    Apollo_results = None\n",
    "length_csv_file_path = os.path.join(image_folder, \"classification_results\", \"body_length_results.csv\")\n",
    "\n",
    "annotate_classifications(with_metadata = False, classification_results_csv = results_csv, body_length_csv = length_csv_file_path,\n",
    "                         cropped_images_folder = input_folder, image_folder = image_folder, pixel_scale = pixel_scale,\n",
    "                        Apollo_results = Apollo_results)\n",
    "\n",
    "print(\"--------\")\n",
    "end_time = time.time()\n",
    "elapsed_time = end_time - start_time\n",
    "if length_error:\n",
    "    print(\"CAUTION: something might have gone wrong with the length estimation algorithm. Check printed details for Traceback.\")\n",
    "    print(f\"Done with everything! \\nElapsed time: {elapsed_time/60:.2f} minutes \\nTime per Image: {elapsed_time/len(images):.2f} seconds\")\n",
    "else:\n",
    "    print(f\"Done with everything! No length Errors occured :)\\nElapsed time: {elapsed_time/60:.2f} minutes \\nTime per Image: {elapsed_time/len(images):.2f} seconds\")"
   ]
  },
  {
   "cell_type": "code",
   "execution_count": null,
   "id": "2715d823-2184-4bc0-8fc3-19c051d30e92",
   "metadata": {},
   "outputs": [],
   "source": []
  },
  {
   "cell_type": "code",
   "execution_count": null,
   "id": "7c4f7e48-55be-4528-aa1b-8f8ade9c9f9f",
   "metadata": {},
   "outputs": [],
   "source": []
  },
  {
   "cell_type": "code",
   "execution_count": null,
   "id": "5dda42bb-2fb9-4f53-947a-da0e1ca3d410",
   "metadata": {},
   "outputs": [],
   "source": []
  },
  {
   "cell_type": "markdown",
   "id": "a8de890d-06da-4b9c-8b25-593d292bb0fa",
   "metadata": {
    "jp-MarkdownHeadingCollapsed": true
   },
   "source": [
    "# Erkennen, croppen und speichern ohne Doppelerkennungsvermeidung"
   ]
  },
  {
   "cell_type": "code",
   "execution_count": null,
   "id": "7f0e1df5-09de-49b4-9739-d745fc90ebe8",
   "metadata": {},
   "outputs": [],
   "source": [
    "if image_format == \"folder\":\n",
    "    images = os.listdir(image_folder)\n",
    "    cropped_folder = os.path.join(image_folder, \"cropped\")\n",
    "    os.makedirs(cropped_folder, exist_ok=True)\n",
    "    loop = 0\n",
    "    for image in tqdm(images):\n",
    "        print(\"Ich gucke mir gerade\", image, \"an...\")\n",
    "        image_arg = os.path.join(image_folder, image)\n",
    "        detections = detect(\n",
    "            image=image_arg,\n",
    "            labels=labels,\n",
    "            threshold=threshold,\n",
    "            detector_id=detector_id\n",
    "        )\n",
    "        if loop > 0:\n",
    "            \n",
    "        if len(detections)>0:\n",
    "            image_name, image_ext = os.path.splitext(image)\n",
    "            cropped_subfolder = os.path.join(cropped_folder, image_name)\n",
    "            os.makedirs(cropped_subfolder, exist_ok=True)\n",
    "            crop_image(image_arg, detections, cropped_subfolder, buffer = buffer, image_format=image_format)    \n",
    "else:\n",
    "    if image_format == \"web\":\n",
    "        image_arg = image_url\n",
    "    elif image_format == \"path\":\n",
    "        image_arg = image_path\n",
    "    else:\n",
    "        print(\"Fehler! image_format muss entweder web, path oder folder sein...\")\n",
    "    \n",
    "    detections = detect(\n",
    "        image=image_arg,\n",
    "        labels=labels,\n",
    "        threshold=threshold,\n",
    "        detector_id=detector_id\n",
    "    )"
   ]
  },
  {
   "cell_type": "code",
   "execution_count": null,
   "id": "8751e319-2349-41d1-89ca-ee68101de428",
   "metadata": {},
   "outputs": [],
   "source": [
    "save_path = r\"C:\\Users\\rolingni\\Desktop\\nur_detect\"\n",
    "#save_path = \"\"\n",
    "crop_image(image_path, detections, save_path, buffer = 40, image_format=image_format)"
   ]
  },
  {
   "cell_type": "code",
   "execution_count": null,
   "id": "4fc5255e-33a9-4cb5-ade2-5bd0f30e30d0",
   "metadata": {},
   "outputs": [],
   "source": []
  }
 ],
 "metadata": {
  "kernelspec": {
   "display_name": "Python 3 (ipykernel)",
   "language": "python",
   "name": "python3"
  },
  "language_info": {
   "codemirror_mode": {
    "name": "ipython",
    "version": 3
   },
   "file_extension": ".py",
   "mimetype": "text/x-python",
   "name": "python",
   "nbconvert_exporter": "python",
   "pygments_lexer": "ipython3",
   "version": "3.12.4"
  }
 },
 "nbformat": 4,
 "nbformat_minor": 5
}
