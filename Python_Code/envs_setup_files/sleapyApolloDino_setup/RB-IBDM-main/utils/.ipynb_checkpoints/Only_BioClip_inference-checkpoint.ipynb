{
 "cells": [
  {
   "cell_type": "markdown",
   "id": "87779860-4ba4-4bdc-b534-f222300b7069",
   "metadata": {},
   "source": [
    "This notebook is useful if you only want to perform the classification task using BioClip. Cropped images need to be generated beforehand by using the main pipeline."
   ]
  },
  {
   "cell_type": "markdown",
   "id": "bbcd47e0-d9cc-4648-8921-fbc75d95a63f",
   "metadata": {},
   "source": [
    "##### Implemented:\n",
    "- Classifies the cropped images using BioClip (https://imageomics.github.io/bioclip/) (https://github.com/Imageomics/pybioclip)"
   ]
  },
  {
   "cell_type": "code",
   "execution_count": 26,
   "id": "76eae0bf-9adf-4a31-9f83-f054f5b35c23",
   "metadata": {},
   "outputs": [
    {
     "name": "stdout",
     "output_type": "stream",
     "text": [
      "The envs directory is: /Users/rentaluser/mambaforge3/envs\n"
     ]
    }
   ],
   "source": [
    "from transformers import AutoModelForMaskGeneration, AutoProcessor, pipeline\n",
    "from ipywidgets import interact, interactive, fixed, interact_manual, Layout\n",
    "from PIL import Image, ImageDraw, ImageFont, PngImagePlugin\n",
    "from typing import Any, List, Dict, Optional, Union, Tuple\n",
    "from scipy.optimize import linear_sum_assignment\n",
    "from bioclip import TreeOfLifeClassifier, Rank\n",
    "from IPython.display import clear_output\n",
    "#from ipyfilechooser import FileChooser\n",
    "import matplotlib.patches as patches\n",
    "import plotly.graph_objects as go\n",
    "from dataclasses import dataclass\n",
    "import matplotlib.pyplot as plt\n",
    "from collections import deque\n",
    "import ipywidgets as widgets\n",
    "import plotly.express as px\n",
    "from tqdm.notebook import tqdm\n",
    "import pandas as pd\n",
    "import numpy as np\n",
    "import subprocess\n",
    "import warnings\n",
    "import requests\n",
    "import random\n",
    "import torch\n",
    "import glob\n",
    "import json\n",
    "import math\n",
    "import time\n",
    "import csv\n",
    "import cv2\n",
    "import os\n",
    "import re\n",
    "\n",
    "### Selbst erstellt\n",
    "# from FunktionenZumImportieren.classes import *\n",
    "warnings.simplefilter(action='always', category=UserWarning)\n",
    "from FunktionenZumImportieren.helper_funktionen_clean import *\n",
    "from FunktionenZumImportieren.settings_widgets import *\n",
    "warnings.formatwarning = custom_warning_format\n",
    "from AMT_functions.colors import reportcolors\n",
    "from AMT_functions.amt_tracker import *\n",
    "warnings.filterwarnings('ignore')\n",
    "\n",
    "envs_path = get_local_env_path()"
   ]
  },
  {
   "cell_type": "markdown",
   "id": "ca72a328-4a67-4ae6-b077-d9a66b591ba4",
   "metadata": {},
   "source": [
    "#### Define settings variables\n",
    "##### Variables include:\n",
    "- start_image: The name of a picture can be specified here (with extention). The code will then skip all the files before. Leave empty if you want to analyze all the images in the folder. Please leave this empty in the batch analysis pipeline. Might cause issues. If you want to start at the folder of a specific day, then put the folder number at the first spot in the brackets ([___:]) where the big arrow is in the main cell (<---). If you want to start from the 5th folder for some reason, then put in a 4.\n",
    "- save_visualisation: activate if you want a visualisation of the detections and tracks saved in \"detection_drawings\". Not relevant in this notebook.\n",
    "- rank: Defines the taxonomic rank to which insects should be classified if BioClip is used. Can be set to None. This will make the algorithm classify up to the taxonomic rank that first satisfies the requirement set by certainty_threshold (see the function BioClip_inference in helper_funktionen). Setting rank to None will increase compute time.\n",
    "- DIOPSIS_folder: diopsis camera folder containing the raw images to be analyzed. This structure is expected: DIOPSIS_folder/photos/folders_of_days"
   ]
  },
  {
   "cell_type": "markdown",
   "id": "7629ccb9-9e38-40b6-a369-32274adae4e7",
   "metadata": {},
   "source": [
    "    WORD OF CAUTION: The 'score' value (in the results) of the BioClip inference will only reflect the certainty for the taxonomic rank up to which the classification went. That means that if you classified up to species level for example, and later in the analysis go up to family level, the score will no longer reflect how certain BioClip is for the family rank. The score always reflects the certainty that is achieved for the taxonomic rank that is stated in the 'highest_classification_rank' column of the results csv. If you first classified to species, but then later decide to switch your analysis to family, you need to run the inference again (ideally with the 'Only_BioClip_inference' notebook in 'utils') in order to obtain the right score values for that taxonomic rank. Otherwise, the 'score' value might appear either way to high or way to low."
   ]
  },
  {
   "cell_type": "code",
   "execution_count": 27,
   "id": "a8aa87b4-35c9-4e94-ab8f-2124fa8d16d8",
   "metadata": {
    "scrolled": true
   },
   "outputs": [
    {
     "data": {
      "application/vnd.jupyter.widget-view+json": {
       "model_id": "4fbce1aee3ec4702ad3dd50bb23e3418",
       "version_major": 2,
       "version_minor": 0
      },
      "text/plain": [
       "Dropdown(description='Annotation algorithm:', layout=Layout(height='30px', width='50%'), options=(('BioClip', …"
      ]
     },
     "metadata": {},
     "output_type": "display_data"
    },
    {
     "data": {
      "application/vnd.jupyter.widget-view+json": {
       "model_id": "a11c1d5d6c204d52b3ed3798c0b41f8d",
       "version_major": 2,
       "version_minor": 0
      },
      "text/plain": [
       "Checkbox(value=True, description='Perform image classification with BioClip', indent=False)"
      ]
     },
     "metadata": {},
     "output_type": "display_data"
    },
    {
     "data": {
      "application/vnd.jupyter.widget-view+json": {
       "model_id": "495c37b483334ae1a8fb5ed11bc0fdc7",
       "version_major": 2,
       "version_minor": 0
      },
      "text/plain": [
       "Dropdown(description='Taxonomic rank:', index=4, layout=Layout(height='30px', width='50%'), options=(('kingdom…"
      ]
     },
     "metadata": {},
     "output_type": "display_data"
    },
    {
     "data": {
      "application/vnd.jupyter.widget-view+json": {
       "model_id": "15c04e6dc7a24480baba07fc27874b09",
       "version_major": 2,
       "version_minor": 0
      },
      "text/plain": [
       "Checkbox(value=False, description='Perform image classification with ApolloNet', indent=False)"
      ]
     },
     "metadata": {},
     "output_type": "display_data"
    },
    {
     "data": {
      "application/vnd.jupyter.widget-view+json": {
       "model_id": "b2792251284f455fb331896a43fd2157",
       "version_major": 2,
       "version_minor": 0
      },
      "text/plain": [
       "Checkbox(value=False, description='Perform image classification with InsectDetect', indent=False)"
      ]
     },
     "metadata": {},
     "output_type": "display_data"
    },
    {
     "data": {
      "application/vnd.jupyter.widget-view+json": {
       "model_id": "15c901f759604f3e9afac2cd330c4050",
       "version_major": 2,
       "version_minor": 0
      },
      "text/plain": [
       "Checkbox(value=False, description='Save visualisations', indent=False)"
      ]
     },
     "metadata": {},
     "output_type": "display_data"
    },
    {
     "data": {
      "application/vnd.jupyter.widget-view+json": {
       "model_id": "b95676874999410da3a00ee82ba34ada",
       "version_major": 2,
       "version_minor": 0
      },
      "text/plain": [
       "Text(value='', description='If you want to start at a specific image:', layout=Layout(height='30px', width='50…"
      ]
     },
     "metadata": {},
     "output_type": "display_data"
    }
   ],
   "source": [
    "get_values = create_interactive_widgets()"
   ]
  },
  {
   "cell_type": "markdown",
   "id": "863be793-67b5-4010-9c80-8e6699d894bc",
   "metadata": {},
   "source": [
    "`output_filename` specifies the name that will be given to the results csv file that is saved separately in the `results` folder of each day.\n",
    "\n",
    "The merged results csv that contains the results from all days will be saved as `results_order_classification.csv` in the upmost folder of that camera by default. Name can be changed further down in the main cell if need be."
   ]
  },
  {
   "cell_type": "code",
   "execution_count": 28,
   "id": "a7d31e5b-0c05-4bfd-9854-73d7f2d46a0f",
   "metadata": {},
   "outputs": [],
   "source": [
    "## On Mac:\n",
    "DIOPSIS_folder = \"/Volumes/Untitled/Monstein_mid_analyzed\"\n",
    "\n",
    "## On Windows:\n",
    "#DIOPSIS_folder = r\"C:\\Users\\rolingni\\Desktop\\input_test4\"\n",
    "\n",
    "\n",
    "output_filename = \"BioClip_order\""
   ]
  },
  {
   "cell_type": "markdown",
   "id": "209a70ae-5038-40a4-aa90-38ffffdd9f02",
   "metadata": {},
   "source": [
    "Main cell:"
   ]
  },
  {
   "cell_type": "code",
   "execution_count": 29,
   "id": "0856b814-f7c0-454f-b65f-c2b95dedfac2",
   "metadata": {},
   "outputs": [
    {
     "data": {
      "application/vnd.jupyter.widget-view+json": {
       "model_id": "0c40741ba10948fb8754dc6fce14e586",
       "version_major": 2,
       "version_minor": 0
      },
      "text/plain": [
       "  0%|          | 0/6 [00:00<?, ?it/s]"
      ]
     },
     "metadata": {},
     "output_type": "display_data"
    },
    {
     "name": "stdout",
     "output_type": "stream",
     "text": [
      "Classifying crops now.\n",
      "The tree of life is growing: running BioClip algorithm for image classification now...\n",
      "Classified all images up to order-level\n",
      "Annotating all results onto cropped images now...\n",
      "Done with day! No length Errors occured :)\n",
      "Elapsed time: 2 seconds \n",
      "Time per Image: 0.09 seconds\n",
      "--------\n",
      "Classifying crops now.\n",
      "The tree of life is growing: running BioClip algorithm for image classification now...\n",
      "Classified all images up to order-level\n",
      "Annotating all results onto cropped images now...\n",
      "Done with day! No length Errors occured :)\n",
      "Elapsed time: 13 seconds \n",
      "Time per Image: 0.05 seconds\n",
      "--------\n",
      "Classifying crops now.\n",
      "The tree of life is growing: running BioClip algorithm for image classification now...\n",
      "Classified all images up to order-level\n",
      "Annotating all results onto cropped images now...\n",
      "Done with day! No length Errors occured :)\n",
      "Elapsed time: 17 seconds \n",
      "Time per Image: 0.05 seconds\n",
      "--------\n",
      "Classifying crops now.\n",
      "The tree of life is growing: running BioClip algorithm for image classification now...\n",
      "Classified all images up to order-level\n",
      "Annotating all results onto cropped images now...\n",
      "Done with day! No length Errors occured :)\n",
      "Elapsed time: 30 seconds \n",
      "Time per Image: 0.19 seconds\n",
      "--------\n",
      "Classifying crops now.\n",
      "The tree of life is growing: running BioClip algorithm for image classification now...\n",
      "Classified all images up to order-level\n",
      "Annotating all results onto cropped images now...\n",
      "Done with day! No length Errors occured :)\n",
      "Elapsed time: 2 seconds \n",
      "Time per Image: 0.19 seconds\n",
      "--------\n",
      "No crops available for further analysis\n",
      "Classifying crops now.\n",
      "Annotating all results onto cropped images now...\n",
      "No BioClip results found.\n",
      "Done with day! No length Errors occured :)\n",
      "Elapsed time: 0 seconds \n",
      "Time per Image: 0.00 seconds\n",
      "--------\n",
      "Merging all results csv into one...\n",
      "No results for day 20240916\n",
      "Time elapsed in total: 1.11 minutes\n",
      "Pipeline took 0.19 minutes per day on average\n",
      "All inferences ran clean :)\n"
     ]
    }
   ],
   "source": [
    "settings = get_values()\n",
    "global_start_time = time.time()\n",
    "\n",
    "global_error = False\n",
    "classifier = TreeOfLifeClassifier()\n",
    "\n",
    "image_folders = [folder for folder in os.listdir(os.path.join(DIOPSIS_folder, \"photos\")) if not folder.startswith('.')]\n",
    "image_folders = sorted(image_folders)\n",
    "\n",
    "for img_folder in tqdm(image_folders[:]): #  <------------------------------HERE----------------------------------------HERE-------------------------\n",
    "    image_folder = os.path.join(DIOPSIS_folder, \"photos\", img_folder)\n",
    "    start_time = time.time()\n",
    "    \n",
    "    start_processing = False\n",
    "    first_pass = True\n",
    "    images = os.listdir(image_folder)\n",
    "    images = sorted(images)\n",
    "    \n",
    "                \n",
    "    crops_available, crops_folder, crops_filepaths = are_crops_available(image_folder)\n",
    "    \n",
    "    print(\"Classifying crops now.\")\n",
    "    \n",
    "    if settings.BioClip and crops_available:\n",
    "        print(\"The tree of life is growing: running BioClip algorithm for image classification now...\")\n",
    "        BioClip_predictions = BioClip_inference(classifier, crops_filepaths, settings.rank, certainty_threshold = 0.45)\n",
    "        if len(BioClip_predictions) > 0:\n",
    "            clean_predictions = process_BioClip_predictions(BioClip_predictions, image_folder, settings.rank, output_filename)\n",
    "        \n",
    "        \n",
    "        merge_result_csvs(image_folder)\n",
    "        \n",
    "    \n",
    "    print(\"Annotating all results onto cropped images now...\")\n",
    "    results_csv = get_classification_results_csv(image_folder, settings.annotation_algorithm, BioClip_filename = output_filename)\n",
    "    input_folder = os.path.join(image_folder, \"cropped_and_annotated\")\n",
    "    length_csv_file_path = os.path.join(image_folder, \"results\", \"body_length_results.csv\")\n",
    "    \n",
    "    if results_csv is not None and crops_available:\n",
    "        annotate_classifications(classification_results_csv = results_csv, body_length_csv = length_csv_file_path,\n",
    "                                 cropped_images_folder = input_folder, image_folder = image_folder,\n",
    "                                annotation_algorithm = settings.annotation_algorithm, output_folder = \"annotated_order\")\n",
    "    \n",
    "    end_time = time.time()\n",
    "    elapsed_time = end_time - start_time\n",
    "    \n",
    "    print(f\"Done with day! No length Errors occured :)\\nElapsed time: {elapsed_time:.0f} seconds \\nTime per Image: {elapsed_time/len(images):.2f} seconds\")\n",
    "    print(\"--------\")\n",
    "\n",
    "print(\"Merging all results csv into one...\")\n",
    "merge_all_results(DIOPSIS_folder, results_filename = output_filename, out_filename = \"results_order_classification\")\n",
    "\n",
    "global_end_time = time.time()\n",
    "global_elapsed_time = global_end_time - global_start_time\n",
    "\n",
    "print(f\"Time elapsed in total: {(global_elapsed_time/60):.2f} minutes\")\n",
    "print(f\"Pipeline took {round((global_elapsed_time/len(image_folders))/60, 2)} minutes per day on average\")\n",
    "if not global_error:\n",
    "    print(\"All inferences ran clean :)\")\n",
    "else:\n",
    "    print(\"WARNING: At least one inference error occured somewhere :(\")"
   ]
  },
  {
   "cell_type": "code",
   "execution_count": null,
   "id": "1563b356-3c59-4d77-87ef-e383fac7e5fa",
   "metadata": {},
   "outputs": [],
   "source": []
  }
 ],
 "metadata": {
  "kernelspec": {
   "display_name": "Python 3 (ipykernel)",
   "language": "python",
   "name": "python3"
  },
  "language_info": {
   "codemirror_mode": {
    "name": "ipython",
    "version": 3
   },
   "file_extension": ".py",
   "mimetype": "text/x-python",
   "name": "python",
   "nbconvert_exporter": "python",
   "pygments_lexer": "ipython3",
   "version": "3.12.4"
  }
 },
 "nbformat": 4,
 "nbformat_minor": 5
}
