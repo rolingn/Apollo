{
 "cells": [
  {
   "cell_type": "markdown",
   "id": "6ee39315-75a5-467e-8cf8-def595306a07",
   "metadata": {},
   "source": [
    "A bit of code to extract all the individual cropped images from all the cameras and copy them to a separate folder. The cropped images are put into folders according to the taxonomic prediction from BioClip. Additionally, a folder containing all crops is also created. "
   ]
  },
  {
   "cell_type": "markdown",
   "id": "37be9d16-5fc0-476d-9fe5-60bb2e13d2db",
   "metadata": {},
   "source": [
    "Expects the data structure that results from the main pipeline. Results from each camera should be placed in new folder that is contained within the individual camera folder in 'all_cameras_folder' (e.g DIOPSIS-383_analyzed in 383_Weiss_low in 'all_cameras_folder').\n",
    "\n",
    "Activate test mode to check whether everything runs as expected. In test_mode, only the first crop of each camera is copied so that mistakes do not directly destroy all your data."
   ]
  },
  {
   "cell_type": "code",
   "execution_count": 1,
   "id": "1d1f4a93-e854-4e25-9163-3cdce23a5a24",
   "metadata": {},
   "outputs": [],
   "source": [
    "import os\n",
    "import csv\n",
    "import shutil\n",
    "import pandas as pd\n",
    "from tqdm.notebook import tqdm"
   ]
  },
  {
   "cell_type": "code",
   "execution_count": 4,
   "id": "73bea73b-ade2-4895-a5be-d408e6791f1c",
   "metadata": {},
   "outputs": [
    {
     "data": {
      "text/plain": [
       "['382_Mon_mid',\n",
       " '383_Weiss_low',\n",
       " '384_Weiss_mid',\n",
       " '385_Weiss_up',\n",
       " '387_Jatz_mid',\n",
       " '388_Jatz_up',\n",
       " '389_Mon_low',\n",
       " '391_Mon_up',\n",
       " '421_Jatz_low']"
      ]
     },
     "execution_count": 4,
     "metadata": {},
     "output_type": "execute_result"
    }
   ],
   "source": [
    "all_cameras_folder = r'N:\\alpenv\\GOES\\Projects\\Diopsis Cameras\\RESULTS_2024\\Images_RAW_and_analyzed'\n",
    "output_folder = r\"N:\\alpenv\\GOES\\Projects\\Diopsis Cameras\\RESULTS_2024\\all_crops\"\n",
    "\n",
    "test_mode = False\n",
    "\n",
    "all_crops_path = os.path.join(output_folder, \"all_crops\")\n",
    "os.makedirs(all_crops_path, exist_ok=True)\n",
    "all_cameras_folders = os.listdir(all_cameras_folder)\n",
    "all_cameras_folders"
   ]
  },
  {
   "cell_type": "code",
   "execution_count": 5,
   "id": "befb6e84-b31e-435f-a15b-b9ee49a89617",
   "metadata": {},
   "outputs": [
    {
     "data": {
      "application/vnd.jupyter.widget-view+json": {
       "model_id": "74d069e1b7e34b42bdd057c8077e3a76",
       "version_major": 2,
       "version_minor": 0
      },
      "text/plain": [
       "0it [00:00, ?it/s]"
      ]
     },
     "metadata": {},
     "output_type": "display_data"
    },
    {
     "name": "stdout",
     "output_type": "stream",
     "text": [
      "382_Mon_mid done.\n"
     ]
    },
    {
     "data": {
      "application/vnd.jupyter.widget-view+json": {
       "model_id": "e99daaf67fde4f9ebc287de7c73b5e36",
       "version_major": 2,
       "version_minor": 0
      },
      "text/plain": [
       "0it [00:00, ?it/s]"
      ]
     },
     "metadata": {},
     "output_type": "display_data"
    },
    {
     "name": "stdout",
     "output_type": "stream",
     "text": [
      "383_Weiss_low done.\n"
     ]
    },
    {
     "data": {
      "application/vnd.jupyter.widget-view+json": {
       "model_id": "149af641a4854b0087f51b3a80413633",
       "version_major": 2,
       "version_minor": 0
      },
      "text/plain": [
       "0it [00:00, ?it/s]"
      ]
     },
     "metadata": {},
     "output_type": "display_data"
    },
    {
     "name": "stdout",
     "output_type": "stream",
     "text": [
      "384_Weiss_mid done.\n"
     ]
    },
    {
     "data": {
      "application/vnd.jupyter.widget-view+json": {
       "model_id": "5e0b876668324e3f813640c34d1dc912",
       "version_major": 2,
       "version_minor": 0
      },
      "text/plain": [
       "0it [00:00, ?it/s]"
      ]
     },
     "metadata": {},
     "output_type": "display_data"
    },
    {
     "name": "stdout",
     "output_type": "stream",
     "text": [
      "385_Weiss_up done.\n"
     ]
    },
    {
     "data": {
      "application/vnd.jupyter.widget-view+json": {
       "model_id": "acca028825e64f1e97a33bdb13d46545",
       "version_major": 2,
       "version_minor": 0
      },
      "text/plain": [
       "0it [00:00, ?it/s]"
      ]
     },
     "metadata": {},
     "output_type": "display_data"
    },
    {
     "name": "stdout",
     "output_type": "stream",
     "text": [
      "387_Jatz_mid done.\n"
     ]
    },
    {
     "data": {
      "application/vnd.jupyter.widget-view+json": {
       "model_id": "f6210f514ca64bb880e1041724580336",
       "version_major": 2,
       "version_minor": 0
      },
      "text/plain": [
       "0it [00:00, ?it/s]"
      ]
     },
     "metadata": {},
     "output_type": "display_data"
    },
    {
     "name": "stdout",
     "output_type": "stream",
     "text": [
      "388_Jatz_up done.\n"
     ]
    },
    {
     "data": {
      "application/vnd.jupyter.widget-view+json": {
       "model_id": "07b8c81165924a3c9bda96ff92e06a04",
       "version_major": 2,
       "version_minor": 0
      },
      "text/plain": [
       "0it [00:00, ?it/s]"
      ]
     },
     "metadata": {},
     "output_type": "display_data"
    },
    {
     "name": "stdout",
     "output_type": "stream",
     "text": [
      "389_Mon_low done.\n"
     ]
    },
    {
     "data": {
      "application/vnd.jupyter.widget-view+json": {
       "model_id": "bbe76087f8904a9bb0d643a616cb6f0b",
       "version_major": 2,
       "version_minor": 0
      },
      "text/plain": [
       "0it [00:00, ?it/s]"
      ]
     },
     "metadata": {},
     "output_type": "display_data"
    },
    {
     "name": "stdout",
     "output_type": "stream",
     "text": [
      "391_Mon_up done.\n"
     ]
    },
    {
     "data": {
      "application/vnd.jupyter.widget-view+json": {
       "model_id": "4c53e28d6f714bc2b7b1e883e1029551",
       "version_major": 2,
       "version_minor": 0
      },
      "text/plain": [
       "0it [00:00, ?it/s]"
      ]
     },
     "metadata": {},
     "output_type": "display_data"
    },
    {
     "name": "stdout",
     "output_type": "stream",
     "text": [
      "421_Jatz_low done.\n"
     ]
    }
   ],
   "source": [
    "order_csv = False\n",
    "os.makedirs(all_crops_path, exist_ok=True)\n",
    "for camera_folder in all_cameras_folders:\n",
    "    folder_path = os.path.join(all_cameras_folder, camera_folder)\n",
    "    folders = os.listdir(folder_path)\n",
    "    folder_name = ''\n",
    "    for path in folders:\n",
    "        if path.endswith('_analyzed'):\n",
    "            folder_name = path\n",
    "            break\n",
    "    analyzed_path = os.path.join(folder_path, folder_name)\n",
    "    try:\n",
    "        csv1 = pd.read_csv(os.path.join(analyzed_path, \"results_order_classification.csv\"))\n",
    "        order_csv = True\n",
    "    except FileNotFoundError:\n",
    "        print(f\"CSV for special order classification not found. Resorting to basic results csv.\")\n",
    "        try:\n",
    "            csv = pd.read_csv(os.path.join(analyzed_path, \"all_analysis_results.csv\"))\n",
    "        except FileNotFoundError:\n",
    "            print(f\"No results csv found in {camera_folder}\")\n",
    "            continue\n",
    "    for index, row in tqdm(csv1.iterrows()):\n",
    "        if order_csv:\n",
    "            filepath = row['file_name']\n",
    "            filename = os.path.basename(filepath)\n",
    "        else:\n",
    "            filename = row['Filename']\n",
    "        day_folder = filename[:8]\n",
    "        order = row['order']\n",
    "        pred_class = row['class']\n",
    "        destination_folder = os.path.join(output_folder, pred_class, order)\n",
    "        img_filepath = os.path.join(analyzed_path, \"photos\", day_folder, \"cropped\", filename)\n",
    "        if not os.path.exists(img_filepath):\n",
    "            print(f\"Source file {img_filepath} cannot be found. Skipping this file\")\n",
    "            continue\n",
    "        os.makedirs(destination_folder, exist_ok=True)\n",
    "        destination_path = os.path.join(destination_folder, filename)\n",
    "        try:\n",
    "            shutil.copy2(img_filepath, destination_path)\n",
    "            shutil.copy2(img_filepath, all_crops_path)\n",
    "            #print(f\"Copied {img_filepath} to {destination_path}\")\n",
    "        except Exception as e:\n",
    "            print(f\"Error copying {img_filepath} to {destination_path}: {e}\")\n",
    "        if test_mode:\n",
    "            break\n",
    "    print(f\"{camera_folder} done.\")"
   ]
  },
  {
   "cell_type": "code",
   "execution_count": null,
   "id": "42196368-eeb6-45f6-acfc-5613a0c3f6c2",
   "metadata": {},
   "outputs": [],
   "source": []
  }
 ],
 "metadata": {
  "kernelspec": {
   "display_name": "Python 3 (ipykernel)",
   "language": "python",
   "name": "python3"
  },
  "language_info": {
   "codemirror_mode": {
    "name": "ipython",
    "version": 3
   },
   "file_extension": ".py",
   "mimetype": "text/x-python",
   "name": "python",
   "nbconvert_exporter": "python",
   "pygments_lexer": "ipython3",
   "version": "3.12.4"
  }
 },
 "nbformat": 4,
 "nbformat_minor": 5
}
