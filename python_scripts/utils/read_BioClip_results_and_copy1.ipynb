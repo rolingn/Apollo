{
 "cells": [
  {
   "cell_type": "markdown",
   "id": "72010975-3b6d-405d-b7a2-13c66fdd7934",
   "metadata": {},
   "source": [
    "This notebook reads the output csv of the apollo toilet app. It then copies all images that were labeled as 'Incorrect' or 'Unsure' to an output folder. It also adds the name of the taxonomic order that BioClip classified the image as to the end of the filename."
   ]
  },
  {
   "cell_type": "code",
   "execution_count": 17,
   "id": "1bf2fdf0-41e3-4fd8-b4e3-b62030ccbc7d",
   "metadata": {},
   "outputs": [],
   "source": [
    "import pandas as pd\n",
    "import random\n",
    "import os\n",
    "import shutil\n",
    "from tqdm import tqdm"
   ]
  },
  {
   "cell_type": "code",
   "execution_count": 22,
   "id": "706eb132-b58a-4386-98cf-19fa90e7677e",
   "metadata": {},
   "outputs": [],
   "source": [
    "def extract_order(filename):\n",
    "    parts = filename.split(\"/\")\n",
    "    for i, part in enumerate(parts):\n",
    "        if part == \"images\" and i + 2 < len(parts):\n",
    "            return parts[i + 2]  # Extract the order name dynamically\n",
    "    return \"Unknown\"\n",
    "\n",
    "def load_existing_results(output_path):\n",
    "    if os.path.exists(output_path):\n",
    "        return pd.read_csv(output_path)\n",
    "    return pd.DataFrame(columns=['Filename'])\n",
    "\n",
    "def process_csv(file_path, output_path):\n",
    "    df = pd.read_csv(file_path)\n",
    "    \n",
    "    # Filter rows where 'Response' is 'Incorrect' or 'Unsure' and not already checked\n",
    "    filtered_df = df[df['Response'].isin(['Incorrect', 'Unsure'])]\n",
    "    len_filtered_df = len(filtered_df)\n",
    "    print(f\"{len(filtered_df)} images will be copied\")\n",
    "    \n",
    "    if filtered_df.empty:\n",
    "        print(\"No matching rows containing Incorrect or Usure as response were found.\")\n",
    "        return\n",
    "    \n",
    "    output_data = []\n",
    "    \n",
    "    for _, row in tqdm(filtered_df.iterrows()):\n",
    "        filename = row['Filename']\n",
    "        #amount_checked += 1\n",
    "        \n",
    "        # Extract the required part of the path\n",
    "        if \"/images/\" in filename:\n",
    "            extracted_path = filename.split(\"/images/\")[-1]\n",
    "            extracted_path = \"images/\" + extracted_path\n",
    "        else:\n",
    "            print(\"Invalid filename format.\")\n",
    "            continue\n",
    "        \n",
    "        from_path = os.path.join(\"/Volumes/Apollo/Diopsis_Cameras/App\", extracted_path)\n",
    "        #print(from_path)\n",
    "        \n",
    "        # Extract predicted order\n",
    "        predicted_order = extract_order(filename)\n",
    "        #print(predicted_order)\n",
    "\n",
    "        save_filename = os.path.splitext(os.path.basename(extracted_path))[0] + f\"_{predicted_order}.jpg\"\n",
    "        #print(save_filename)\n",
    "\n",
    "        to_path = os.path.join(output_path, save_filename)\n",
    "        #print(to_path)\n",
    "\n",
    "        shutil.copy(from_path, to_path)\n",
    "        #break"
   ]
  },
  {
   "cell_type": "code",
   "execution_count": 23,
   "id": "97b338e5-af1e-4514-a630-1cfe7141a8af",
   "metadata": {},
   "outputs": [
    {
     "name": "stdout",
     "output_type": "stream",
     "text": [
      "12688 images will be copied\n"
     ]
    },
    {
     "name": "stderr",
     "output_type": "stream",
     "text": [
      "12688it [00:59, 214.21it/s]\n"
     ]
    }
   ],
   "source": [
    "file_path = \"/Volumes/Apollo/Diopsis_Cameras/App_outputs/user_checked_predictions_10_02_25.csv\"\n",
    "output_path = \"/Volumes/Apollo/Diopsis_Cameras/RESULTS_2024/Incorrect_and_Unsure\"\n",
    "process_csv(file_path, output_path)"
   ]
  },
  {
   "cell_type": "code",
   "execution_count": null,
   "id": "c711a949-26e9-4079-bf62-3075480385b5",
   "metadata": {},
   "outputs": [],
   "source": []
  }
 ],
 "metadata": {
  "kernelspec": {
   "display_name": "Python 3 (ipykernel)",
   "language": "python",
   "name": "python3"
  },
  "language_info": {
   "codemirror_mode": {
    "name": "ipython",
    "version": 3
   },
   "file_extension": ".py",
   "mimetype": "text/x-python",
   "name": "python",
   "nbconvert_exporter": "python",
   "pygments_lexer": "ipython3",
   "version": "3.12.4"
  }
 },
 "nbformat": 4,
 "nbformat_minor": 5
}
