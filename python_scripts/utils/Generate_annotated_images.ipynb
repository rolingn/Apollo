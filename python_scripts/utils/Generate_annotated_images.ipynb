{
 "cells": [
  {
   "cell_type": "markdown",
   "id": "72010975-3b6d-405d-b7a2-13c66fdd7934",
   "metadata": {},
   "source": [
    "This notebook contains a portion of the main pipeline and is meant to randomly select a user defined number of days and generate annotated raw images to later be analized for the calculation of AMT performance metrics."
   ]
  },
  {
   "cell_type": "markdown",
   "id": "5b44ab56-1656-4fd3-91e9-b6bc573bec50",
   "metadata": {},
   "source": [
    "##### Implemented:\n",
    "- Looks at the brightness of each image. If the image is to dark, it will not be analyzed and moved to the `dark_frames` folder.\n",
    "- Identifies insects in the image with GroundinDino, defines a bounding-box and saves a cropped image of the insect in the `cropped` folder.\n",
    "- Checks whether the detection has already appeared on one of the last images to prevent saving a cropped image of the same individuum over and over. The tracker from AMT (Automatic Moth Trap: https://stangeia.hobern.net/autonomous-moth-trap-image-pipeline/) was implemented for this task.\n",
    "- AMT also includes funtionality that attempts to optimize the cropped image of an individuum by saving a new version of the insect if it is sharper than the old one.\n",
    "- The code quickly checks the size of each detection. If it is unrealistically big, the crop is saved in the `potentially_faulty` folder.\n",
    "- Saves the raw images with the tracking visualized on them in another subfolder called `detection_drawings` - if activated."
   ]
  },
  {
   "cell_type": "code",
   "execution_count": 21,
   "id": "76eae0bf-9adf-4a31-9f83-f054f5b35c23",
   "metadata": {},
   "outputs": [
    {
     "name": "stdout",
     "output_type": "stream",
     "text": [
      "The envs directory is: /Users/Nils/miniforge3/envs\n"
     ]
    }
   ],
   "source": [
    "from transformers import AutoModelForMaskGeneration, AutoProcessor, pipeline\n",
    "from ipywidgets import interact, interactive, fixed, interact_manual, Layout\n",
    "from PIL import Image, ImageDraw, ImageFont, PngImagePlugin\n",
    "from typing import Any, List, Dict, Optional, Union, Tuple\n",
    "from scipy.optimize import linear_sum_assignment\n",
    "#from bioclip import TreeOfLifeClassifier, Rank\n",
    "from IPython.display import clear_output\n",
    "import matplotlib.patches as patches\n",
    "import plotly.graph_objects as go\n",
    "from dataclasses import dataclass\n",
    "import matplotlib.pyplot as plt\n",
    "from tqdm.notebook import tqdm\n",
    "from collections import deque\n",
    "import ipywidgets as widgets\n",
    "import plotly.express as px\n",
    "from pathlib import Path\n",
    "import pandas as pd\n",
    "import numpy as np\n",
    "import subprocess\n",
    "import warnings\n",
    "import requests\n",
    "import random\n",
    "import torch\n",
    "import glob\n",
    "import json\n",
    "import math\n",
    "import time\n",
    "import csv\n",
    "import cv2\n",
    "import os\n",
    "import re\n",
    "\n",
    "### Selfmade functions\n",
    "from FunktionenZumImportieren.helper_funktionen_clean import *\n",
    "from FunktionenZumImportieren.settings_widgets import *\n",
    "from AMT_functions.colors import reportcolors\n",
    "from AMT_functions.amt_tracker import *\n",
    "\n",
    "warnings.simplefilter(action='always', category=UserWarning)\n",
    "warnings.formatwarning = custom_warning_format\n",
    "warnings.filterwarnings('ignore')\n",
    "\n",
    "envs_path = get_local_env_path()"
   ]
  },
  {
   "cell_type": "markdown",
   "id": "106398b3-e2b8-446b-986c-4772b972c17a",
   "metadata": {},
   "source": [
    "#### Define settings variables\n",
    "##### Variables include:\n",
    "- labels: prompt that specifies what GroundingDino searches in the images. Leave as `insect`.\n",
    "- threshold: a threshold that tells GroundingDino whether or not to reject a detection or to accept it. Lower values means more detections but also more faulty detections.\n",
    "- buffer: specifies the amount of border space in the cropped images. `15` is a good value usually.\n",
    "- pixel_scale: how many pixels are in a cm of image on the current camera. Necessary for outputing mm readings of the insect length. Input `10` if you want to output the length in pixel.\n",
    "- start_image: The name of a picture can be specified here (with extention). The code will then skip all the files before. Leave empty if you want to analyze all the images in the folder. Please leave this empty in the batch analysis pipeline. Might cause issues. If you want to start at the folder of a specific day, then put the folder number at the first spot in the brackets ([___:]) where the big arrow is in the main cell (<---). If you want to start from the 5th folder for some reason, then put in a 4.\n",
    "- save_visualisation: activate if you want a visualisation of the detections and tracks saved in \"detection_drawings\"\n",
    "- rank: Defines the taxonomic rank to which insects should be classified if BioClip is used. Can be set to None. This will make the algorithm classify up to the taxonomic rank that first satisfies the requirement set by certainty_threshold (see the function BioClip_inference in helper_funktionen). Setting rank to None will increase compute time.\n",
    "- DIOPSIS_folder: diopsis camera folder containing the raw images to be analyzed. This structure is expected: DIOPSIS_folder/photos/folders_of_days"
   ]
  },
  {
   "cell_type": "markdown",
   "id": "0f28e663-3a6b-4c7c-a1ea-eb28d410e2fa",
   "metadata": {},
   "source": [
    "    WORD OF CAUTION: The 'score' value (in the results) of the BioClip inference will only reflect the certainty for the taxonomic rank up to which the classification went. That means that if you classified up to species level for example, and later in the analysis go up to family level, the score will no longer reflect how certain BioClip is for the family rank. The score always reflects the certainty that is achieved for the taxonomic rank that is stated in the 'highest_classification_rank' column of the results csv. If you first classified to species, but then later decide to switch your analysis to family, you need to run the inference again (ideally with the 'Only_BioClip_inference' notebook in 'utils') in order to obtain the right score values for that taxonomic rank. Otherwise, the 'score' value might appear either way to high or way to low."
   ]
  },
  {
   "cell_type": "code",
   "execution_count": 2,
   "id": "a8aa87b4-35c9-4e94-ab8f-2124fa8d16d8",
   "metadata": {},
   "outputs": [
    {
     "data": {
      "application/vnd.jupyter.widget-view+json": {
       "model_id": "0d2e3d6d87b344788f043bd41cb1cab1",
       "version_major": 2,
       "version_minor": 0
      },
      "text/plain": [
       "Dropdown(description='Annotation algorithm:', layout=Layout(height='30px', width='50%'), options=(('BioClip', …"
      ]
     },
     "metadata": {},
     "output_type": "display_data"
    },
    {
     "data": {
      "application/vnd.jupyter.widget-view+json": {
       "model_id": "8b0d8871a4d64df69decab1e45509bcc",
       "version_major": 2,
       "version_minor": 0
      },
      "text/plain": [
       "Checkbox(value=True, description='Perform image classification with BioClip', indent=False)"
      ]
     },
     "metadata": {},
     "output_type": "display_data"
    },
    {
     "data": {
      "application/vnd.jupyter.widget-view+json": {
       "model_id": "066f2dbf6c8a4b97a109a33693eb85a7",
       "version_major": 2,
       "version_minor": 0
      },
      "text/plain": [
       "Dropdown(description='Taxonomic rank:', index=4, layout=Layout(height='30px', width='50%'), options=(('kingdom…"
      ]
     },
     "metadata": {},
     "output_type": "display_data"
    },
    {
     "data": {
      "application/vnd.jupyter.widget-view+json": {
       "model_id": "9c73c02217ff4e4980b019aab068a904",
       "version_major": 2,
       "version_minor": 0
      },
      "text/plain": [
       "Checkbox(value=False, description='Perform image classification with ApolloNet', indent=False)"
      ]
     },
     "metadata": {},
     "output_type": "display_data"
    },
    {
     "data": {
      "application/vnd.jupyter.widget-view+json": {
       "model_id": "6e3971abcb284be0bb181d816a0747ad",
       "version_major": 2,
       "version_minor": 0
      },
      "text/plain": [
       "Checkbox(value=False, description='Perform image classification with InsectDetect', indent=False)"
      ]
     },
     "metadata": {},
     "output_type": "display_data"
    },
    {
     "data": {
      "application/vnd.jupyter.widget-view+json": {
       "model_id": "46bd5bb24ae74b3a8fd291a6e6b0ac4a",
       "version_major": 2,
       "version_minor": 0
      },
      "text/plain": [
       "Checkbox(value=False, description='Save visualisations', indent=False)"
      ]
     },
     "metadata": {},
     "output_type": "display_data"
    },
    {
     "data": {
      "application/vnd.jupyter.widget-view+json": {
       "model_id": "1029fb5d16fd4d62a003bd260c9f6bc9",
       "version_major": 2,
       "version_minor": 0
      },
      "text/plain": [
       "Text(value='', description='If you want to start at a specific image:', layout=Layout(height='30px', width='50…"
      ]
     },
     "metadata": {},
     "output_type": "display_data"
    }
   ],
   "source": [
    "get_values = create_interactive_widgets()"
   ]
  },
  {
   "cell_type": "code",
   "execution_count": 3,
   "id": "bea18744-3220-473b-a2d9-c0acca7675df",
   "metadata": {},
   "outputs": [],
   "source": [
    "labels = [\"insect\"]\n",
    "threshold = 0.25\n",
    "buffer = 15\n",
    "#pixel_scale = ask_for_pixel_scale()"
   ]
  },
  {
   "cell_type": "code",
   "execution_count": null,
   "id": "a7c7f088-6c19-4b98-a7f4-01913f4d1fe9",
   "metadata": {},
   "outputs": [],
   "source": [
    "def find_day_folders(input_folder, n, seed=42):\n",
    "    random.seed(seed)\n",
    "    day_folders = []\n",
    "    \n",
    "    # Iterate over all subdirectories in the input folder\n",
    "    for subfolder in os.listdir(input_folder):\n",
    "        subfolder_path = os.path.join(input_folder, subfolder)\n",
    "        \n",
    "        if not os.path.isdir(subfolder_path):\n",
    "            continue  # Skip if not a directory\n",
    "        \n",
    "        # Look for \"_analyzed\" subfolders\n",
    "        analyzed_folders = [f for f in os.listdir(subfolder_path) if f.endswith(\"_analyzed\")]\n",
    "        \n",
    "        for analyzed in analyzed_folders:\n",
    "            analyzed_path = os.path.join(subfolder_path, analyzed)\n",
    "            photos_path = os.path.join(analyzed_path, \"photos\")\n",
    "            \n",
    "            if os.path.exists(photos_path) and os.path.isdir(photos_path):\n",
    "                # Collect all day folders in \"photos\"\n",
    "                day_folders.extend([os.path.join(photos_path, day) for day in os.listdir(photos_path) if os.path.isdir(os.path.join(photos_path, day))])\n",
    "    \n",
    "    # Randomly select n folders\n",
    "    if len(day_folders) < n:\n",
    "        print(f\"Warning: Only found {len(day_folders)} folders, selecting all.\")\n",
    "        selected_folders = day_folders\n",
    "    else:\n",
    "        selected_folders = random.sample(day_folders, n)\n",
    "    \n",
    "    return selected_folders"
   ]
  },
  {
   "cell_type": "code",
   "execution_count": 28,
   "id": "d48a8e2d-d781-4c2a-b544-d4616d2a7e6b",
   "metadata": {},
   "outputs": [
    {
     "name": "stdout",
     "output_type": "stream",
     "text": [
      "/Volumes/T7_Shield/Diopsis_Cameras/RESULTS_2024/Images_RAW_and_analyzed/384_Weiss_mid/DIOPSIS-384_analyzed/photos/20240813\n",
      "/Volumes/T7_Shield/Diopsis_Cameras/RESULTS_2024/Images_RAW_and_analyzed/383_Weiss_low/DIOPSIS-383_analyzed/photos/20240714\n",
      "/Volumes/T7_Shield/Diopsis_Cameras/RESULTS_2024/Images_RAW_and_analyzed/387_Jatz_mid/DIOPSIS-387_analyzed/photos/20240909\n",
      "/Volumes/T7_Shield/Diopsis_Cameras/RESULTS_2024/Images_RAW_and_analyzed/387_Jatz_mid/DIOPSIS-387_analyzed/photos/20240809\n",
      "/Volumes/T7_Shield/Diopsis_Cameras/RESULTS_2024/Images_RAW_and_analyzed/387_Jatz_mid/DIOPSIS-387_analyzed/photos/20240718\n",
      "/Volumes/T7_Shield/Diopsis_Cameras/RESULTS_2024/Images_RAW_and_analyzed/384_Weiss_mid/DIOPSIS-384_analyzed/photos/20240910\n",
      "/Volumes/T7_Shield/Diopsis_Cameras/RESULTS_2024/Images_RAW_and_analyzed/384_Weiss_mid/DIOPSIS-384_analyzed/photos/20240803\n",
      "/Volumes/T7_Shield/Diopsis_Cameras/RESULTS_2024/Images_RAW_and_analyzed/421_Jatz_low/Jatzhorn_lower_analyzed/photos/20240920\n",
      "/Volumes/T7_Shield/Diopsis_Cameras/RESULTS_2024/Images_RAW_and_analyzed/383_Weiss_low/DIOPSIS-383_analyzed/photos/20240916\n",
      "/Volumes/T7_Shield/Diopsis_Cameras/RESULTS_2024/Images_RAW_and_analyzed/391_Mon_up/DIOPSIS-391_analyzed/photos/20240723\n",
      "/Volumes/T7_Shield/Diopsis_Cameras/RESULTS_2024/Images_RAW_and_analyzed/383_Weiss_low/DIOPSIS-383_analyzed/photos/20240721\n",
      "/Volumes/T7_Shield/Diopsis_Cameras/RESULTS_2024/Images_RAW_and_analyzed/383_Weiss_low/DIOPSIS-383_analyzed/photos/20240719\n",
      "/Volumes/T7_Shield/Diopsis_Cameras/RESULTS_2024/Images_RAW_and_analyzed/384_Weiss_mid/DIOPSIS-384_analyzed/photos/20240725\n",
      "/Volumes/T7_Shield/Diopsis_Cameras/RESULTS_2024/Images_RAW_and_analyzed/387_Jatz_mid/DIOPSIS-387_analyzed/photos/20240713\n",
      "/Volumes/T7_Shield/Diopsis_Cameras/RESULTS_2024/Images_RAW_and_analyzed/387_Jatz_mid/DIOPSIS-387_analyzed/photos/20240728\n",
      "/Volumes/T7_Shield/Diopsis_Cameras/RESULTS_2024/Images_RAW_and_analyzed/421_Jatz_low/Jatzhorn_lower_analyzed/photos/20240727\n",
      "/Volumes/T7_Shield/Diopsis_Cameras/RESULTS_2024/Images_RAW_and_analyzed/383_Weiss_low/DIOPSIS-383_analyzed/photos/20240716\n",
      "/Volumes/T7_Shield/Diopsis_Cameras/RESULTS_2024/Images_RAW_and_analyzed/385_Weiss_up/DIOPSIS-385_analyzed/photos/20240901\n",
      "/Volumes/T7_Shield/Diopsis_Cameras/RESULTS_2024/Images_RAW_and_analyzed/389_Mon_low/DIOPSIS-389_analyzed/photos/20240923\n",
      "/Volumes/T7_Shield/Diopsis_Cameras/RESULTS_2024/Images_RAW_and_analyzed/387_Jatz_mid/DIOPSIS-387_analyzed/photos/20240715\n"
     ]
    }
   ],
   "source": [
    "# Example usage\n",
    "input_folder = \"/Volumes/T7_Shield/Diopsis_Cameras/RESULTS_2024/Images_RAW_and_analyzed\"\n",
    "n = 20  # Change this to your desired number of folders\n",
    "random_days = find_day_folders(input_folder, n)\n",
    "\n",
    "# Print or use the selected paths\n",
    "for path in random_days:\n",
    "    print(path)"
   ]
  },
  {
   "cell_type": "code",
   "execution_count": 29,
   "id": "44d2741d-7f83-4a5b-9444-c926d5f63072",
   "metadata": {},
   "outputs": [],
   "source": [
    "def plot_tracks_and_detections1(image_array, new_tracks, image):\n",
    "    if len(new_tracks)>0:\n",
    "        image_folder = Path(new_tracks[0][\"image_folder\"])\n",
    "        day = image_folder.name\n",
    "        site = image_folder.parts[-4]\n",
    "        annotation_out_folder = os.path.join(\"/Volumes/T7_Shield/Diopsis_Cameras/RESULTS_2024/Annotated_selection\", site, day)\n",
    "        os.makedirs(annotation_out_folder, exist_ok=True)\n",
    "        annotation_out_path = os.path.join(annotation_out_folder, image)\n",
    "        \n",
    "        # Convert image array to BGR format if it's in RGB\n",
    "        image_bgr = cv2.cvtColor(image_array, cv2.COLOR_RGB2BGR)\n",
    "        \n",
    "        for track in new_tracks:\n",
    "            x_center = track['xcenter']\n",
    "            y_center = track['ycenter']\n",
    "            width = track['crop'].shape[1]\n",
    "            height = track['crop'].shape[0]\n",
    "            #print(f\"Bin drin. Track: {track}\")\n",
    "            if 'saved' in track and track['saved'] == False:\n",
    "                color = (0, 0, 255)  # Red\n",
    "            elif 'sharper' in track and track[\"sharper\"] == True:\n",
    "                #color = (255, 255, 255)  # White\n",
    "                color = (0, 0, 255)  # Red -- Für bessere Sichtbarkeit beim AMT check\n",
    "            else:\n",
    "                color = (0, 255, 0)  # Green\n",
    "            \n",
    "            # Draw rectangle\n",
    "            top_left = (x_center - width // 2, y_center - height // 2)\n",
    "            bottom_right = (x_center + width // 2, y_center + height // 2)\n",
    "            cv2.rectangle(image_bgr, top_left, bottom_right, color, 2)\n",
    "            \n",
    "            # Add text\n",
    "            cv2.putText(image_bgr, str(track['trackid']), (int(track['xcenter'] - 15), int(track['ycenter'] - height/2 - 20)), \n",
    "                        cv2.FONT_HERSHEY_SIMPLEX, 1.5, color, 2, cv2.LINE_AA)\n",
    "            if 'cost' in track and track['cost'] is not None:\n",
    "                cv2.putText(image_bgr, f\"{track['cost']:.2f}\", (int(track['xcenter'] - 50), int(track['ycenter'] + height/2 + 50)), \n",
    "                            cv2.FONT_HERSHEY_SIMPLEX, 1.5, color, 2, cv2.LINE_AA)\n",
    "            if track['age'] != 0:\n",
    "                cv2.putText(image_bgr, str(track['age']), (int(track['xcenter'] - width/2 - 40), int(track['ycenter'] + 20)), \n",
    "                            cv2.FONT_HERSHEY_SIMPLEX, 1.5, color, 2, cv2.LINE_AA)\n",
    "        \n",
    "        # Save the annotated image\n",
    "        cv2.imwrite(annotation_out_path, image_bgr)"
   ]
  },
  {
   "cell_type": "markdown",
   "id": "8c2bfe26-ebb5-4181-8906-79911678227f",
   "metadata": {},
   "source": [
    "Main pipeline cell. All functionallity is included here\\\n",
    "Carefully monitor the printed details since some errors are not cought, but rather only printed. An error summary will appear at the end, telling you whether an error occured during the whole inference or not."
   ]
  },
  {
   "cell_type": "code",
   "execution_count": 30,
   "id": "0856b814-f7c0-454f-b65f-c2b95dedfac2",
   "metadata": {},
   "outputs": [
    {
     "name": "stdout",
     "output_type": "stream",
     "text": [
      "---------- GroundingDino runs on cpu ----------\n"
     ]
    },
    {
     "name": "stderr",
     "output_type": "stream",
     "text": [
      "Device set to use cpu\n"
     ]
    },
    {
     "data": {
      "application/vnd.jupyter.widget-view+json": {
       "model_id": "3374bcda52d44fa783744913fa9c57dd",
       "version_major": 2,
       "version_minor": 0
      },
      "text/plain": [
       "  0%|          | 0/531 [00:00<?, ?it/s]"
      ]
     },
     "metadata": {},
     "output_type": "display_data"
    },
    {
     "name": "stdout",
     "output_type": "stream",
     "text": [
      "Done detecting all the insects and saving cropped versions.\n",
      "Done with day! No length Errors occured :)\n",
      "Elapsed time: 39.94 minutes \n",
      "Time per Image: 4.51 seconds\n"
     ]
    },
    {
     "data": {
      "application/vnd.jupyter.widget-view+json": {
       "model_id": "b56930f3719d44f2840884754d35c685",
       "version_major": 2,
       "version_minor": 0
      },
      "text/plain": [
       "  0%|          | 0/206 [00:00<?, ?it/s]"
      ]
     },
     "metadata": {},
     "output_type": "display_data"
    },
    {
     "name": "stdout",
     "output_type": "stream",
     "text": [
      "Done detecting all the insects and saving cropped versions.\n",
      "Done with day! No length Errors occured :)\n",
      "Elapsed time: 12.39 minutes \n",
      "Time per Image: 3.61 seconds\n"
     ]
    },
    {
     "data": {
      "application/vnd.jupyter.widget-view+json": {
       "model_id": "6519727bbe0b475e843724f47c7fe563",
       "version_major": 2,
       "version_minor": 0
      },
      "text/plain": [
       "  0%|          | 0/236 [00:00<?, ?it/s]"
      ]
     },
     "metadata": {},
     "output_type": "display_data"
    },
    {
     "name": "stdout",
     "output_type": "stream",
     "text": [
      "Done detecting all the insects and saving cropped versions.\n",
      "Done with day! No length Errors occured :)\n",
      "Elapsed time: 15.47 minutes \n",
      "Time per Image: 3.93 seconds\n"
     ]
    },
    {
     "data": {
      "application/vnd.jupyter.widget-view+json": {
       "model_id": "c400a1376a1944f4bfa0d8a7dd9f532d",
       "version_major": 2,
       "version_minor": 0
      },
      "text/plain": [
       "  0%|          | 0/219 [00:00<?, ?it/s]"
      ]
     },
     "metadata": {},
     "output_type": "display_data"
    },
    {
     "name": "stdout",
     "output_type": "stream",
     "text": [
      "Done detecting all the insects and saving cropped versions.\n",
      "Done with day! No length Errors occured :)\n",
      "Elapsed time: 15.01 minutes \n",
      "Time per Image: 4.11 seconds\n"
     ]
    },
    {
     "data": {
      "application/vnd.jupyter.widget-view+json": {
       "model_id": "7a1f116de6b443f480714a4a3b4953d5",
       "version_major": 2,
       "version_minor": 0
      },
      "text/plain": [
       "  0%|          | 0/388 [00:00<?, ?it/s]"
      ]
     },
     "metadata": {},
     "output_type": "display_data"
    },
    {
     "name": "stdout",
     "output_type": "stream",
     "text": [
      "Done detecting all the insects and saving cropped versions.\n",
      "Done with day! No length Errors occured :)\n",
      "Elapsed time: 27.46 minutes \n",
      "Time per Image: 4.25 seconds\n"
     ]
    },
    {
     "data": {
      "application/vnd.jupyter.widget-view+json": {
       "model_id": "974ca5ca47e64fcbb9cfeb91c2db4913",
       "version_major": 2,
       "version_minor": 0
      },
      "text/plain": [
       "  0%|          | 0/215 [00:00<?, ?it/s]"
      ]
     },
     "metadata": {},
     "output_type": "display_data"
    },
    {
     "name": "stdout",
     "output_type": "stream",
     "text": [
      "Done detecting all the insects and saving cropped versions.\n",
      "Done with day! No length Errors occured :)\n",
      "Elapsed time: 13.46 minutes \n",
      "Time per Image: 3.76 seconds\n"
     ]
    },
    {
     "data": {
      "application/vnd.jupyter.widget-view+json": {
       "model_id": "a99e4d68ebaf4b15b7d30c7a7953702c",
       "version_major": 2,
       "version_minor": 0
      },
      "text/plain": [
       "  0%|          | 0/644 [00:00<?, ?it/s]"
      ]
     },
     "metadata": {},
     "output_type": "display_data"
    },
    {
     "name": "stdout",
     "output_type": "stream",
     "text": [
      "Done detecting all the insects and saving cropped versions.\n",
      "Done with day! No length Errors occured :)\n",
      "Elapsed time: 48.78 minutes \n",
      "Time per Image: 4.54 seconds\n"
     ]
    },
    {
     "data": {
      "application/vnd.jupyter.widget-view+json": {
       "model_id": "f0b077624a7f4524b1f2e95a17b4d294",
       "version_major": 2,
       "version_minor": 0
      },
      "text/plain": [
       "  0%|          | 0/112 [00:00<?, ?it/s]"
      ]
     },
     "metadata": {},
     "output_type": "display_data"
    },
    {
     "name": "stdout",
     "output_type": "stream",
     "text": [
      "Done detecting all the insects and saving cropped versions.\n",
      "Done with day! No length Errors occured :)\n",
      "Elapsed time: 5.75 minutes \n",
      "Time per Image: 3.08 seconds\n"
     ]
    },
    {
     "data": {
      "application/vnd.jupyter.widget-view+json": {
       "model_id": "051e38a0478e40cbb01ef1e78c46bee4",
       "version_major": 2,
       "version_minor": 0
      },
      "text/plain": [
       "  0%|          | 0/78 [00:00<?, ?it/s]"
      ]
     },
     "metadata": {},
     "output_type": "display_data"
    },
    {
     "name": "stdout",
     "output_type": "stream",
     "text": [
      "Done detecting all the insects and saving cropped versions.\n",
      "Done with day! No length Errors occured :)\n",
      "Elapsed time: 1.82 minutes \n",
      "Time per Image: 1.40 seconds\n"
     ]
    },
    {
     "data": {
      "application/vnd.jupyter.widget-view+json": {
       "model_id": "4662410b1b214c7bbaa3338f87cbac4a",
       "version_major": 2,
       "version_minor": 0
      },
      "text/plain": [
       "  0%|          | 0/136 [00:00<?, ?it/s]"
      ]
     },
     "metadata": {},
     "output_type": "display_data"
    },
    {
     "name": "stdout",
     "output_type": "stream",
     "text": [
      "Done detecting all the insects and saving cropped versions.\n",
      "Done with day! No length Errors occured :)\n",
      "Elapsed time: 9.81 minutes \n",
      "Time per Image: 4.33 seconds\n"
     ]
    },
    {
     "data": {
      "application/vnd.jupyter.widget-view+json": {
       "model_id": "b6218a84c86f4f9e8b77c5b146057783",
       "version_major": 2,
       "version_minor": 0
      },
      "text/plain": [
       "  0%|          | 0/179 [00:00<?, ?it/s]"
      ]
     },
     "metadata": {},
     "output_type": "display_data"
    },
    {
     "name": "stdout",
     "output_type": "stream",
     "text": [
      "Done detecting all the insects and saving cropped versions.\n",
      "Done with day! No length Errors occured :)\n",
      "Elapsed time: 9.93 minutes \n",
      "Time per Image: 3.33 seconds\n"
     ]
    },
    {
     "data": {
      "application/vnd.jupyter.widget-view+json": {
       "model_id": "75e4d192159a45618add4bb601ec096d",
       "version_major": 2,
       "version_minor": 0
      },
      "text/plain": [
       "  0%|          | 0/248 [00:00<?, ?it/s]"
      ]
     },
     "metadata": {},
     "output_type": "display_data"
    },
    {
     "name": "stdout",
     "output_type": "stream",
     "text": [
      "Done detecting all the insects and saving cropped versions.\n",
      "Done with day! No length Errors occured :)\n",
      "Elapsed time: 15.66 minutes \n",
      "Time per Image: 3.79 seconds\n"
     ]
    },
    {
     "data": {
      "application/vnd.jupyter.widget-view+json": {
       "model_id": "8ea8fd197b2f4652b6baa7b322b5c505",
       "version_major": 2,
       "version_minor": 0
      },
      "text/plain": [
       "  0%|          | 0/282 [00:00<?, ?it/s]"
      ]
     },
     "metadata": {},
     "output_type": "display_data"
    },
    {
     "name": "stdout",
     "output_type": "stream",
     "text": [
      "Done detecting all the insects and saving cropped versions.\n",
      "Done with day! No length Errors occured :)\n",
      "Elapsed time: 17.42 minutes \n",
      "Time per Image: 3.71 seconds\n"
     ]
    },
    {
     "data": {
      "application/vnd.jupyter.widget-view+json": {
       "model_id": "325f053b4cb44b2bb331e9dca74377b3",
       "version_major": 2,
       "version_minor": 0
      },
      "text/plain": [
       "  0%|          | 0/490 [00:00<?, ?it/s]"
      ]
     },
     "metadata": {},
     "output_type": "display_data"
    },
    {
     "name": "stdout",
     "output_type": "stream",
     "text": [
      "Image is truncated or corrupted: /Volumes/T7_Shield/Diopsis_Cameras/RESULTS_2024/Images_RAW_and_analyzed/387_Jatz_mid/DIOPSIS-387_analyzed/photos/20240713/20240713164809.jpg - image file is truncated (11 bytes not processed)\n",
      "Skipping this image.\n",
      "Done detecting all the insects and saving cropped versions.\n",
      "Done with day! No length Errors occured :)\n",
      "Elapsed time: 30.73 minutes \n",
      "Time per Image: 3.76 seconds\n"
     ]
    },
    {
     "data": {
      "application/vnd.jupyter.widget-view+json": {
       "model_id": "f661493fc99e46c38d558d0ae73d5cfd",
       "version_major": 2,
       "version_minor": 0
      },
      "text/plain": [
       "  0%|          | 0/414 [00:00<?, ?it/s]"
      ]
     },
     "metadata": {},
     "output_type": "display_data"
    },
    {
     "name": "stdout",
     "output_type": "stream",
     "text": [
      "Image is truncated or corrupted: /Volumes/T7_Shield/Diopsis_Cameras/RESULTS_2024/Images_RAW_and_analyzed/387_Jatz_mid/DIOPSIS-387_analyzed/photos/20240728/20240728100832.jpg - cannot identify image file '/Volumes/T7_Shield/Diopsis_Cameras/RESULTS_2024/Images_RAW_and_analyzed/387_Jatz_mid/DIOPSIS-387_analyzed/photos/20240728/20240728100832.jpg'\n",
      "Skipping this image.\n",
      "Done detecting all the insects and saving cropped versions.\n",
      "Done with day! No length Errors occured :)\n",
      "Elapsed time: 25.67 minutes \n",
      "Time per Image: 3.72 seconds\n"
     ]
    },
    {
     "data": {
      "application/vnd.jupyter.widget-view+json": {
       "model_id": "cb7158a81fb04c1e8da0e7836ba17a13",
       "version_major": 2,
       "version_minor": 0
      },
      "text/plain": [
       "  0%|          | 0/366 [00:00<?, ?it/s]"
      ]
     },
     "metadata": {},
     "output_type": "display_data"
    },
    {
     "name": "stdout",
     "output_type": "stream",
     "text": [
      "Image is truncated or corrupted: /Volumes/T7_Shield/Diopsis_Cameras/RESULTS_2024/Images_RAW_and_analyzed/421_Jatz_low/Jatzhorn_lower_analyzed/photos/20240727/20240727100513.jpg - image file is truncated (19 bytes not processed)\n",
      "Skipping this image.\n",
      "Done detecting all the insects and saving cropped versions.\n",
      "Done with day! No length Errors occured :)\n",
      "Elapsed time: 21.94 minutes \n",
      "Time per Image: 3.60 seconds\n"
     ]
    },
    {
     "data": {
      "application/vnd.jupyter.widget-view+json": {
       "model_id": "8d5cf18bd4df4ceb9e1304e06152e812",
       "version_major": 2,
       "version_minor": 0
      },
      "text/plain": [
       "  0%|          | 0/353 [00:00<?, ?it/s]"
      ]
     },
     "metadata": {},
     "output_type": "display_data"
    },
    {
     "name": "stdout",
     "output_type": "stream",
     "text": [
      "Done detecting all the insects and saving cropped versions.\n",
      "Done with day! No length Errors occured :)\n",
      "Elapsed time: 21.19 minutes \n",
      "Time per Image: 3.60 seconds\n"
     ]
    },
    {
     "data": {
      "application/vnd.jupyter.widget-view+json": {
       "model_id": "0bad9843955941f39f57024ce43d13fc",
       "version_major": 2,
       "version_minor": 0
      },
      "text/plain": [
       "  0%|          | 0/460 [00:00<?, ?it/s]"
      ]
     },
     "metadata": {},
     "output_type": "display_data"
    },
    {
     "name": "stdout",
     "output_type": "stream",
     "text": [
      "Image is truncated or corrupted: /Volumes/T7_Shield/Diopsis_Cameras/RESULTS_2024/Images_RAW_and_analyzed/385_Weiss_up/DIOPSIS-385_analyzed/photos/20240901/20240901100653.jpg - image file is truncated (6 bytes not processed)\n",
      "Skipping this image.\n",
      "Done detecting all the insects and saving cropped versions.\n",
      "Done with day! No length Errors occured :)\n",
      "Elapsed time: 28.58 minutes \n",
      "Time per Image: 3.73 seconds\n"
     ]
    },
    {
     "data": {
      "application/vnd.jupyter.widget-view+json": {
       "model_id": "e6148dc5012b4822b3ff32b78737a4c0",
       "version_major": 2,
       "version_minor": 0
      },
      "text/plain": [
       "  0%|          | 0/485 [00:00<?, ?it/s]"
      ]
     },
     "metadata": {},
     "output_type": "display_data"
    },
    {
     "name": "stdout",
     "output_type": "stream",
     "text": [
      "Done detecting all the insects and saving cropped versions.\n",
      "Done with day! No length Errors occured :)\n",
      "Elapsed time: 29.31 minutes \n",
      "Time per Image: 3.63 seconds\n"
     ]
    },
    {
     "data": {
      "application/vnd.jupyter.widget-view+json": {
       "model_id": "98ff0da6bc58452cb224b46151565024",
       "version_major": 2,
       "version_minor": 0
      },
      "text/plain": [
       "  0%|          | 0/357 [00:00<?, ?it/s]"
      ]
     },
     "metadata": {},
     "output_type": "display_data"
    },
    {
     "name": "stdout",
     "output_type": "stream",
     "text": [
      "Done detecting all the insects and saving cropped versions.\n",
      "Done with day! No length Errors occured :)\n",
      "Elapsed time: 21.66 minutes \n",
      "Time per Image: 3.64 seconds\n",
      "Time elapsed in total: 6.87 hours\n"
     ]
    },
    {
     "ename": "NameError",
     "evalue": "name 'image_folders' is not defined",
     "output_type": "error",
     "traceback": [
      "\u001b[0;31m---------------------------------------------------------------------------\u001b[0m",
      "\u001b[0;31mNameError\u001b[0m                                 Traceback (most recent call last)",
      "Cell \u001b[0;32mIn[30], line 62\u001b[0m\n\u001b[1;32m     59\u001b[0m global_elapsed_time \u001b[38;5;241m=\u001b[39m global_end_time \u001b[38;5;241m-\u001b[39m global_start_time\n\u001b[1;32m     61\u001b[0m \u001b[38;5;28mprint\u001b[39m(\u001b[38;5;124mf\u001b[39m\u001b[38;5;124m\"\u001b[39m\u001b[38;5;124mTime elapsed in total: \u001b[39m\u001b[38;5;132;01m{\u001b[39;00m(global_elapsed_time\u001b[38;5;241m/\u001b[39m\u001b[38;5;241m60\u001b[39m)\u001b[38;5;241m/\u001b[39m\u001b[38;5;241m60\u001b[39m\u001b[38;5;132;01m:\u001b[39;00m\u001b[38;5;124m.2f\u001b[39m\u001b[38;5;132;01m}\u001b[39;00m\u001b[38;5;124m hours\u001b[39m\u001b[38;5;124m\"\u001b[39m)\n\u001b[0;32m---> 62\u001b[0m \u001b[38;5;28mprint\u001b[39m(\u001b[38;5;124mf\u001b[39m\u001b[38;5;124m\"\u001b[39m\u001b[38;5;124mPipeline took \u001b[39m\u001b[38;5;132;01m{\u001b[39;00m\u001b[38;5;28mround\u001b[39m((global_elapsed_time\u001b[38;5;241m/\u001b[39m\u001b[38;5;28mlen\u001b[39m(\u001b[43mimage_folders\u001b[49m))\u001b[38;5;241m/\u001b[39m\u001b[38;5;241m60\u001b[39m,\u001b[38;5;250m \u001b[39m\u001b[38;5;241m2\u001b[39m)\u001b[38;5;132;01m}\u001b[39;00m\u001b[38;5;124m minutes per day on average\u001b[39m\u001b[38;5;124m\"\u001b[39m)\n",
      "\u001b[0;31mNameError\u001b[0m: name 'image_folders' is not defined"
     ]
    }
   ],
   "source": [
    "settings = get_values()\n",
    "global_start_time = time.time()\n",
    "\n",
    "global_error = False\n",
    "#classifier = TreeOfLifeClassifier()\n",
    "tracker = AMTTracker(config)\n",
    "object_detector = load_grounding_dino_model()\n",
    "\n",
    "#image_folders = [folder for folder in os.listdir(os.path.join(DIOPSIS_folder, \"photos\")) if not folder.startswith('.')]\n",
    "#image_folders = sorted(image_folders)\n",
    "\n",
    "for path in random_days[:]: #  <------------------------------HERE----------------------------------------HERE-------------------------\n",
    "    #image_folder = os.path.join(DIOPSIS_folder, \"photos\", img_folder)\n",
    "    start_time = time.time()\n",
    "    \n",
    "    start_processing = False\n",
    "    blobs = []\n",
    "    trails = {}\n",
    "    first_pass = True\n",
    "    images = os.listdir(path)\n",
    "    images = sorted(images)\n",
    "    \n",
    "    for image in tqdm(images):\n",
    "    #for image in images:\n",
    "        image_arg = os.path.join(path, image)\n",
    "        skip, start_processing = should_image_be_skipped(settings.start_image, start_processing, image_arg, image, path)\n",
    "        if skip:\n",
    "            continue\n",
    "        detections = detect(\n",
    "            object_detector,\n",
    "            image=image_arg,\n",
    "            labels=labels,\n",
    "            threshold=threshold\n",
    "        )\n",
    "        #print(\"Nr. of detections:\", len(detections))\n",
    "        image_array = Image.open(image_arg)\n",
    "        image_array = np.array(image_array)\n",
    "        blobs = convert_bounding_boxes(detections, image, image_array, path, buffer)\n",
    "        if first_pass:\n",
    "            tracker.savedois = blobs\n",
    "        new_tracks, _ = tracker.managetracks(tracker.savedois, blobs, first_pass)\n",
    "        tracker.savedois = new_tracks\n",
    "        first_pass = False\n",
    "    \n",
    "        if settings.save_visualisation:\n",
    "            plot_tracks_and_detections1(image_array, new_tracks, image)\n",
    "    \n",
    "    #print(\"--------\")\n",
    "    \n",
    "    ## Classifying the cropped images\n",
    "    print(\"Done detecting all the insects and saving cropped versions.\")\n",
    "    \n",
    "    end_time = time.time()\n",
    "    elapsed_time = end_time - start_time\n",
    "    \n",
    "    print(f\"Done with day! No length Errors occured :)\\nElapsed time: {elapsed_time/60:.2f} minutes \\nTime per Image: {elapsed_time/len(images):.2f} seconds\")\n",
    "\n",
    "global_end_time = time.time()\n",
    "global_elapsed_time = global_end_time - global_start_time\n",
    "\n",
    "print(f\"Time elapsed in total: {(global_elapsed_time/60)/60:.2f} hours\")\n",
    "print(f\"Pipeline took {round((global_elapsed_time/len(image_folders))/60, 2)} minutes per day on average\")"
   ]
  },
  {
   "cell_type": "code",
   "execution_count": null,
   "id": "8deb8ad3-3535-41d0-9117-13ae5fc0ba4f",
   "metadata": {},
   "outputs": [],
   "source": []
  }
 ],
 "metadata": {
  "kernelspec": {
   "display_name": "Python 3 (ipykernel)",
   "language": "python",
   "name": "python3"
  },
  "language_info": {
   "codemirror_mode": {
    "name": "ipython",
    "version": 3
   },
   "file_extension": ".py",
   "mimetype": "text/x-python",
   "name": "python",
   "nbconvert_exporter": "python",
   "pygments_lexer": "ipython3",
   "version": "3.12.4"
  }
 },
 "nbformat": 4,
 "nbformat_minor": 5
}
