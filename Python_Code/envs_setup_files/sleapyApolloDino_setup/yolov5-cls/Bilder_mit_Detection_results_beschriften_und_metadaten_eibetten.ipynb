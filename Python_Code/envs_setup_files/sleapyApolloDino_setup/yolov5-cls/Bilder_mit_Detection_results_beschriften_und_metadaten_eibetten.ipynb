{
 "cells": [
  {
   "cell_type": "code",
   "execution_count": 12,
   "id": "6a6d9520-331a-437b-99b8-10214ffc37a5",
   "metadata": {},
   "outputs": [],
   "source": [
    "import pandas as pd\n",
    "from PIL import Image, ImageDraw, ImageFont\n",
    "from PIL import PngImagePlugin\n",
    "import os"
   ]
  },
  {
   "cell_type": "code",
   "execution_count": 13,
   "id": "a30d5d84-16b5-43c1-b879-7660867f7110",
   "metadata": {},
   "outputs": [],
   "source": [
    "# Load the .csv file into a pandas DataFrame\n",
    "df = pd.read_csv(r\"C:\\Users\\rolingni\\AppData\\Local\\anaconda3\\envs\\InsectDetect\\yolov5-cls\\runs\\predict-cls\\camtrap15\\results\\classification_results.csv\")"
   ]
  },
  {
   "cell_type": "markdown",
   "id": "2d7160e1-5daf-4d70-9fff-4e8f80884707",
   "metadata": {},
   "source": [
    "###### Wenn Metadaten eingebettet werden sollen muss \"save_as_png\" auf True gesetzt werden. Die Metadaten können leider nicht vom Windows Viewer gelesen werden"
   ]
  },
  {
   "cell_type": "code",
   "execution_count": 14,
   "id": "244dce5d-a72c-400e-8dea-bf603f503860",
   "metadata": {},
   "outputs": [],
   "source": [
    "cropped_images_folder = r\"C:\\Users\\rolingni\\Pictures\\20240626\\cropped\"\n",
    "save_as_png = False"
   ]
  },
  {
   "cell_type": "code",
   "execution_count": 15,
   "id": "0b0712eb-5662-463a-bb9d-27214a7c22bf",
   "metadata": {},
   "outputs": [],
   "source": [
    "# Iterate over the rows of the DataFrame\n",
    "for index, row in df.iterrows():\n",
    "    # Get the filename, class name, and detection probability\n",
    "    filename = row['img_name']\n",
    "    class_name = row['top1']\n",
    "    detection_probability = row['top1_prob']\n",
    "\n",
    "    # Open the corresponding image file using PIL\n",
    "    image_path = os.path.join(cropped_images_folder, filename)\n",
    "    image = Image.open(image_path)\n",
    "\n",
    "    draw = ImageDraw.Draw(image)\n",
    "\n",
    "    # Define the text and position\n",
    "    text = f\"{class_name}\\n{detection_probability}\"\n",
    "    position = (10, 10)\n",
    "\n",
    "    # Define the font (you may need to specify the full path to the font file on your system)\n",
    "    font = ImageFont.truetype(\"arial.ttf\", 16)\n",
    "\n",
    "    # Add the text to the image\n",
    "    draw.text(position, text, fill=\"purple\", font=font)\n",
    "\n",
    "    # Create a metadata dictionary\n",
    "    metadata = PngImagePlugin.PngInfo()\n",
    "\n",
    "    # Add the class name and detection probability to the metadata\n",
    "    metadata.add_text('detection_class', class_name)\n",
    "    metadata.add_text('detection_probability', str(detection_probability))\n",
    "\n",
    "    save_path = os.path.join(cropped_images_folder, \"with_metadata\")\n",
    "    os.makedirs(save_path, exist_ok=True)\n",
    "    if save_as_png:\n",
    "        filename_png = os.path.splitext(filename)[0] + '.png'\n",
    "        save_path = os.path.join(save_path, filename_png)\n",
    "    else:\n",
    "        save_path = os.path.join(save_path, filename)\n",
    "    # Save the image with the new metadata\n",
    "    image.save(save_path, pnginfo=metadata)"
   ]
  },
  {
   "cell_type": "code",
   "execution_count": null,
   "id": "2e40db1f-7d35-4df9-80fb-e6b3b31767ec",
   "metadata": {},
   "outputs": [],
   "source": []
  }
 ],
 "metadata": {
  "kernelspec": {
   "display_name": "Python 3 (ipykernel)",
   "language": "python",
   "name": "python3"
  },
  "language_info": {
   "codemirror_mode": {
    "name": "ipython",
    "version": 3
   },
   "file_extension": ".py",
   "mimetype": "text/x-python",
   "name": "python",
   "nbconvert_exporter": "python",
   "pygments_lexer": "ipython3",
   "version": "3.12.4"
  }
 },
 "nbformat": 4,
 "nbformat_minor": 5
}
