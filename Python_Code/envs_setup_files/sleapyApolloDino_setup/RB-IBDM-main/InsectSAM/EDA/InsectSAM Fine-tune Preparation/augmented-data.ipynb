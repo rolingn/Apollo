{
 "cells": [
  {
   "cell_type": "markdown",
   "metadata": {},
   "source": [
    "# Augmented dataset with rotations and flips"
   ]
  },
  {
   "cell_type": "code",
   "execution_count": 6,
   "metadata": {},
   "outputs": [
    {
     "name": "stdout",
     "output_type": "stream",
     "text": [
      "Augmentation completed. Check the augmented images and masks directories.\n"
     ]
    }
   ],
   "source": [
    "import os\n",
    "from PIL import Image\n",
    "import numpy as np\n",
    "import random\n",
    "\n",
    "images_path = '/Users/martintomov/Desktop/diopsis_public_classification_clean/rb-ibdm-dataset/finetune-dataset/image'\n",
    "masks_path = '/Users/martintomov/Desktop/diopsis_public_classification_clean/rb-ibdm-dataset/finetune-dataset/label'\n",
    "aug_images_path = '/Users/martintomov/Desktop/diopsis_public_classification_clean/rb-ibdm-dataset/finetune-dataset/image-aug'\n",
    "aug_masks_path = '/Users/martintomov/Desktop/diopsis_public_classification_clean/rb-ibdm-dataset/finetune-dataset/label-aug'\n",
    "\n",
    "# Ensure the output directories exist\n",
    "os.makedirs(aug_images_path, exist_ok=True)\n",
    "os.makedirs(aug_masks_path, exist_ok=True)\n",
    "\n",
    "# Load images and masks filenames, ignoring .DS_Store\n",
    "images_filenames = [f for f in sorted(os.listdir(images_path)) if f != '.DS_Store']\n",
    "masks_filenames = [f for f in sorted(os.listdir(masks_path)) if f != '.DS_Store']\n",
    "\n",
    "# Function to augment an image and a mask\n",
    "def augment_image_and_mask(image_path, mask_path, output_image_path, output_mask_path, angle, size):\n",
    "    image = Image.open(image_path)\n",
    "    mask = Image.open(mask_path)\n",
    "    \n",
    "    image = image.resize(size, Image.Resampling.LANCZOS)\n",
    "    mask = mask.resize(size, Image.Resampling.LANCZOS)\n",
    "    \n",
    "    image = image.rotate(angle, expand=True)\n",
    "    mask = mask.rotate(angle, expand=True)\n",
    "    \n",
    "    image.save(output_image_path)\n",
    "    mask.save(output_mask_path)\n",
    "\n",
    "# Augmentation settings\n",
    "desired_count = 1002\n",
    "angles = [90, 180, 270] \n",
    "size = (256, 256)\n",
    "\n",
    "# Start augmentation counter from 267\n",
    "start_counter = 267\n",
    "current_count = len(images_filenames)\n",
    "augmentation_factor = (desired_count - start_counter + 1) // current_count\n",
    "remaining_images = (desired_count - start_counter + 1) - augmentation_factor * current_count\n",
    "\n",
    "# Start augmentation\n",
    "counter = start_counter\n",
    "for i, (image_filename, mask_filename) in enumerate(zip(images_filenames, masks_filenames)):\n",
    "    image_path = os.path.join(images_path, image_filename)\n",
    "    mask_path = os.path.join(masks_path, mask_filename)\n",
    "    \n",
    "    times_to_augment = augmentation_factor + (1 if i < remaining_images else 0)\n",
    "    \n",
    "    for j in range(times_to_augment):\n",
    "        angle = random.choice(angles)\n",
    "        output_image_path = os.path.join(aug_images_path, f\"{counter}.jpg\")\n",
    "        output_mask_path = os.path.join(aug_masks_path, f\"{counter}.png\")\n",
    "        augment_image_and_mask(image_path, mask_path, output_image_path, output_mask_path, angle, size)\n",
    "        counter += 1\n",
    "\n",
    "print(\"Augmentation completed. Check the augmented images and masks directories.\")"
   ]
  },
  {
   "cell_type": "code",
   "execution_count": 7,
   "metadata": {},
   "outputs": [
    {
     "name": "stdout",
     "output_type": "stream",
     "text": [
      "Processing completed. Each image and its corresponding label have been modified in sync.\n"
     ]
    }
   ],
   "source": [
    "import os\n",
    "from PIL import Image\n",
    "import random\n",
    "\n",
    "# Directories\n",
    "images_dir = '/Users/martintomov/Desktop/diopsis_public_classification_clean/rb-ibdm-dataset/finetune-dataset/image-aug'\n",
    "labels_dir = '/Users/martintomov/Desktop/diopsis_public_classification_clean/rb-ibdm-dataset/finetune-dataset/label-aug'\n",
    "\n",
    "# Ensure filenames match between images and labels\n",
    "image_filenames = [f for f in sorted(os.listdir(images_dir)) if f.endswith('.jpg')]\n",
    "label_filenames = [f.replace('.jpg', '.png') for f in image_filenames]\n",
    "\n",
    "# Rotation angles\n",
    "angles = [-270, -180, -90, 90, 180, 270]\n",
    "\n",
    "# Function to randomly rotate and/or flip an image and its corresponding label\n",
    "def modify_image_and_label(image_path, label_path):\n",
    "    image = Image.open(image_path)\n",
    "    label = Image.open(label_path)\n",
    "    \n",
    "    angle = random.choice(angles)\n",
    "    image = image.rotate(angle, expand=True)\n",
    "    label = label.rotate(angle, expand=True)\n",
    "    \n",
    "    if random.choice([True, False]):\n",
    "        image = image.transpose(Image.FLIP_LEFT_RIGHT)\n",
    "        label = label.transpose(Image.FLIP_LEFT_RIGHT)\n",
    "    \n",
    "    image.save(image_path)\n",
    "    label.save(label_path)\n",
    "\n",
    "# Process each pair of image and label\n",
    "for image_filename in image_filenames:\n",
    "    image_path = os.path.join(images_dir, image_filename)\n",
    "    label_filename = image_filename.replace('.jpg', '.png')\n",
    "    label_path = os.path.join(labels_dir, label_filename)\n",
    "    \n",
    "    modify_image_and_label(image_path, label_path)\n",
    "\n",
    "print(\"Processing completed. Each image and its corresponding label have been modified in sync.\")"
   ]
  }
 ],
 "metadata": {
  "kernelspec": {
   "display_name": "Python 3",
   "language": "python",
   "name": "python3"
  },
  "language_info": {
   "codemirror_mode": {
    "name": "ipython",
    "version": 3
   },
   "file_extension": ".py",
   "mimetype": "text/x-python",
   "name": "python",
   "nbconvert_exporter": "python",
   "pygments_lexer": "ipython3",
   "version": "3.8.16"
  }
 },
 "nbformat": 4,
 "nbformat_minor": 2
}
