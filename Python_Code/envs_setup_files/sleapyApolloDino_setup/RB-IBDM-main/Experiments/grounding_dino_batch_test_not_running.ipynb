{
 "cells": [
  {
   "cell_type": "markdown",
   "id": "2f8479ce-2a68-41c5-8ffb-17a78bb0b15b",
   "metadata": {},
   "source": [
    "# Does not Run"
   ]
  },
  {
   "cell_type": "code",
   "execution_count": 1,
   "id": "0c52fa8b-4241-49a1-842c-05ffcec4ef08",
   "metadata": {},
   "outputs": [],
   "source": [
    "import os\n",
    "import torch\n",
    "from PIL import Image\n",
    "from transformers import AutoProcessor, AutoModelForZeroShotObjectDetection\n",
    "from FunktionenZumImportieren.classes import *\n",
    "from FunktionenZumImportieren.helper_funktionen import *"
   ]
  },
  {
   "cell_type": "code",
   "execution_count": 10,
   "id": "ffd0bd80-b353-4cb5-a9a3-90946fc376eb",
   "metadata": {},
   "outputs": [
    {
     "data": {
      "text/plain": [
       "<transformers.pipelines.zero_shot_object_detection.ZeroShotObjectDetectionPipeline at 0x18d7b9fd5b0>"
      ]
     },
     "execution_count": 10,
     "metadata": {},
     "output_type": "execute_result"
    }
   ],
   "source": [
    "object_detector = load_grounding_dino_model()\n",
    "object_detector"
   ]
  },
  {
   "cell_type": "code",
   "execution_count": 3,
   "id": "126ab3b3-7e40-4356-97c7-b0a46a0eb1cd",
   "metadata": {},
   "outputs": [],
   "source": [
    "labels = [\"insect\"]\n",
    "threshold = 0.3\n",
    "image_folder = r\"C:\\Users\\rolingni\\Desktop\\input_test\""
   ]
  },
  {
   "cell_type": "code",
   "execution_count": 78,
   "id": "a4a54c63-8710-40b1-95b9-a8a2cdba9015",
   "metadata": {},
   "outputs": [
    {
     "data": {
      "text/plain": [
       "[{'image': <PIL.JpegImagePlugin.JpegImageFile image mode=RGB size=3280x2464>,\n",
       "  'candidate_labels': ['insect']},\n",
       " {'image': <PIL.JpegImagePlugin.JpegImageFile image mode=RGB size=3280x2464>,\n",
       "  'candidate_labels': ['insect']}]"
      ]
     },
     "execution_count": 78,
     "metadata": {},
     "output_type": "execute_result"
    }
   ],
   "source": [
    "def load_image_paths_from_folder(folder: str) -> List[Dict[str, Any]]:\n",
    "    image_paths = []\n",
    "    for filename in os.listdir(folder):\n",
    "        img_path = os.path.join(folder, filename)\n",
    "        if os.path.isfile(img_path):  # Ensure it's a file\n",
    "            img = Image.open(img_path)\n",
    "            image_info = {'image': img,  # Path to the image\n",
    "                \"candidate_labels\": labels  # Example labels\n",
    "            }\n",
    "            image_paths.append(image_info)\n",
    "    return image_paths\n",
    "\n",
    "images = load_image_paths_from_folder(image_folder)\n",
    "images"
   ]
  },
  {
   "cell_type": "code",
   "execution_count": 79,
   "id": "6c99cb51-8518-42d9-9f0a-d00c5c254d30",
   "metadata": {},
   "outputs": [],
   "source": [
    "def detect_batch(\n",
    "    object_detector,\n",
    "    images: List[Image.Image],\n",
    "    labels: List[str],\n",
    "    threshold: float = 0.3\n",
    ") -> List[List[Dict[str, Any]]]:\n",
    "    labels = [label if label.endswith(\".\") else label+\".\" for label in labels]\n",
    "    results = object_detector(images, candidate_labels=labels, threshold=threshold)\n",
    "    batch_results = [[DetectionResult.from_dict(result) for result in image_results] for image_results in results]\n",
    "    return batch_results"
   ]
  },
  {
   "cell_type": "code",
   "execution_count": 80,
   "id": "b093389e-f9d0-4baf-bc09-47e181137a4a",
   "metadata": {},
   "outputs": [],
   "source": [
    "def detect(\n",
    "    object_detector,\n",
    "    image: Image.Image,\n",
    "    labels: List[str],\n",
    "    threshold: float = 0.3\n",
    ") -> List[Dict[str, Any]]:\n",
    "    \"\"\"\n",
    "    Use Grounding DINO to detect a set of labels in an image in a zero-shot fashion.\n",
    "    \"\"\"\n",
    "\n",
    "    labels = [label if label.endswith(\".\") else label+\".\" for label in labels]\n",
    "\n",
    "    results = object_detector(image,  candidate_labels=labels, threshold=threshold)\n",
    "    print(results)\n",
    "    results = [DetectionResult.from_dict(result) for result in results]\n",
    "\n",
    "    return results"
   ]
  },
  {
   "cell_type": "code",
   "execution_count": 81,
   "id": "b78e737a-c8f4-4ba4-afe9-88c1d78467e5",
   "metadata": {},
   "outputs": [],
   "source": [
    "def batch_process_images(folder: str, labels: List[str], threshold: float = 0.3):\n",
    "    object_detector = load_grounding_dino_model()\n",
    "    images = load_image_paths_from_folder(folder)\n",
    "    print(images)\n",
    "    detections = detect(object_detector, images, labels, threshold)\n",
    "    return detections"
   ]
  },
  {
   "cell_type": "code",
   "execution_count": 82,
   "id": "dcc56087-d189-4786-9f6a-49f3e0787da4",
   "metadata": {},
   "outputs": [
    {
     "name": "stdout",
     "output_type": "stream",
     "text": [
      "[{'image': <PIL.JpegImagePlugin.JpegImageFile image mode=RGB size=3280x2464 at 0x18D7B62A2A0>, 'candidate_labels': ['insect']}, {'image': <PIL.JpegImagePlugin.JpegImageFile image mode=RGB size=3280x2464 at 0x18D7B62AA20>, 'candidate_labels': ['insect']}]\n",
      "[[], []]\n"
     ]
    },
    {
     "ename": "TypeError",
     "evalue": "list indices must be integers or slices, not str",
     "output_type": "error",
     "traceback": [
      "\u001b[1;31m---------------------------------------------------------------------------\u001b[0m",
      "\u001b[1;31mTypeError\u001b[0m                                 Traceback (most recent call last)",
      "Cell \u001b[1;32mIn[82], line 1\u001b[0m\n\u001b[1;32m----> 1\u001b[0m detections \u001b[38;5;241m=\u001b[39m \u001b[43mbatch_process_images\u001b[49m\u001b[43m(\u001b[49m\u001b[43mimage_folder\u001b[49m\u001b[43m,\u001b[49m\u001b[43m \u001b[49m\u001b[43mlabels\u001b[49m\u001b[43m,\u001b[49m\u001b[43m \u001b[49m\u001b[43mthreshold\u001b[49m\u001b[43m)\u001b[49m\n",
      "Cell \u001b[1;32mIn[81], line 5\u001b[0m, in \u001b[0;36mbatch_process_images\u001b[1;34m(folder, labels, threshold)\u001b[0m\n\u001b[0;32m      3\u001b[0m images \u001b[38;5;241m=\u001b[39m load_image_paths_from_folder(folder)\n\u001b[0;32m      4\u001b[0m \u001b[38;5;28mprint\u001b[39m(images)\n\u001b[1;32m----> 5\u001b[0m detections \u001b[38;5;241m=\u001b[39m \u001b[43mdetect\u001b[49m\u001b[43m(\u001b[49m\u001b[43mobject_detector\u001b[49m\u001b[43m,\u001b[49m\u001b[43m \u001b[49m\u001b[43mimages\u001b[49m\u001b[43m,\u001b[49m\u001b[43m \u001b[49m\u001b[43mlabels\u001b[49m\u001b[43m,\u001b[49m\u001b[43m \u001b[49m\u001b[43mthreshold\u001b[49m\u001b[43m)\u001b[49m\n\u001b[0;32m      6\u001b[0m \u001b[38;5;28;01mreturn\u001b[39;00m detections\n",
      "Cell \u001b[1;32mIn[80], line 15\u001b[0m, in \u001b[0;36mdetect\u001b[1;34m(object_detector, image, labels, threshold)\u001b[0m\n\u001b[0;32m     13\u001b[0m results \u001b[38;5;241m=\u001b[39m object_detector(image,  candidate_labels\u001b[38;5;241m=\u001b[39mlabels, threshold\u001b[38;5;241m=\u001b[39mthreshold)\n\u001b[0;32m     14\u001b[0m \u001b[38;5;28mprint\u001b[39m(results)\n\u001b[1;32m---> 15\u001b[0m results \u001b[38;5;241m=\u001b[39m [\u001b[43mDetectionResult\u001b[49m\u001b[38;5;241;43m.\u001b[39;49m\u001b[43mfrom_dict\u001b[49m\u001b[43m(\u001b[49m\u001b[43mresult\u001b[49m\u001b[43m)\u001b[49m \u001b[38;5;28;01mfor\u001b[39;00m result \u001b[38;5;129;01min\u001b[39;00m results]\n\u001b[0;32m     17\u001b[0m \u001b[38;5;28;01mreturn\u001b[39;00m results\n",
      "File \u001b[1;32m~\\AppData\\Local\\anaconda3\\envs\\InsectDetectSAM\\RB-IBDM-main\\FunktionenZumImportieren\\classes.py:41\u001b[0m, in \u001b[0;36mDetectionResult.from_dict\u001b[1;34m(cls, detection_dict)\u001b[0m\n\u001b[0;32m     39\u001b[0m \u001b[38;5;129m@classmethod\u001b[39m\n\u001b[0;32m     40\u001b[0m \u001b[38;5;28;01mdef\u001b[39;00m \u001b[38;5;21mfrom_dict\u001b[39m(\u001b[38;5;28mcls\u001b[39m, detection_dict: Dict) \u001b[38;5;241m-\u001b[39m\u001b[38;5;241m>\u001b[39m \u001b[38;5;124m'\u001b[39m\u001b[38;5;124mDetectionResult\u001b[39m\u001b[38;5;124m'\u001b[39m:\n\u001b[1;32m---> 41\u001b[0m     box \u001b[38;5;241m=\u001b[39m BoundingBox(xmin\u001b[38;5;241m=\u001b[39m\u001b[43mdetection_dict\u001b[49m\u001b[43m[\u001b[49m\u001b[38;5;124;43m'\u001b[39;49m\u001b[38;5;124;43mbox\u001b[39;49m\u001b[38;5;124;43m'\u001b[39;49m\u001b[43m]\u001b[49m[\u001b[38;5;124m'\u001b[39m\u001b[38;5;124mxmin\u001b[39m\u001b[38;5;124m'\u001b[39m],\n\u001b[0;32m     42\u001b[0m                       ymin\u001b[38;5;241m=\u001b[39mdetection_dict[\u001b[38;5;124m'\u001b[39m\u001b[38;5;124mbox\u001b[39m\u001b[38;5;124m'\u001b[39m][\u001b[38;5;124m'\u001b[39m\u001b[38;5;124mymin\u001b[39m\u001b[38;5;124m'\u001b[39m],\n\u001b[0;32m     43\u001b[0m                       xmax\u001b[38;5;241m=\u001b[39mdetection_dict[\u001b[38;5;124m'\u001b[39m\u001b[38;5;124mbox\u001b[39m\u001b[38;5;124m'\u001b[39m][\u001b[38;5;124m'\u001b[39m\u001b[38;5;124mxmax\u001b[39m\u001b[38;5;124m'\u001b[39m],\n\u001b[0;32m     44\u001b[0m                       ymax\u001b[38;5;241m=\u001b[39mdetection_dict[\u001b[38;5;124m'\u001b[39m\u001b[38;5;124mbox\u001b[39m\u001b[38;5;124m'\u001b[39m][\u001b[38;5;124m'\u001b[39m\u001b[38;5;124mymax\u001b[39m\u001b[38;5;124m'\u001b[39m])\n\u001b[0;32m     45\u001b[0m     \u001b[38;5;28;01mreturn\u001b[39;00m \u001b[38;5;28mcls\u001b[39m(score\u001b[38;5;241m=\u001b[39mdetection_dict[\u001b[38;5;124m'\u001b[39m\u001b[38;5;124mscore\u001b[39m\u001b[38;5;124m'\u001b[39m],\n\u001b[0;32m     46\u001b[0m                label\u001b[38;5;241m=\u001b[39mdetection_dict[\u001b[38;5;124m'\u001b[39m\u001b[38;5;124mlabel\u001b[39m\u001b[38;5;124m'\u001b[39m],\n\u001b[0;32m     47\u001b[0m                box\u001b[38;5;241m=\u001b[39mbox,\n\u001b[0;32m     48\u001b[0m                center\u001b[38;5;241m=\u001b[39mbox\u001b[38;5;241m.\u001b[39mcenter)\n",
      "\u001b[1;31mTypeError\u001b[0m: list indices must be integers or slices, not str"
     ]
    }
   ],
   "source": [
    "detections = batch_process_images(image_folder, labels, threshold)"
   ]
  },
  {
   "cell_type": "code",
   "execution_count": 70,
   "id": "1ac75968-7220-4f3c-bb67-0977bc451875",
   "metadata": {},
   "outputs": [
    {
     "data": {
      "text/plain": [
       "[[], []]"
      ]
     },
     "execution_count": 70,
     "metadata": {},
     "output_type": "execute_result"
    }
   ],
   "source": [
    "detections"
   ]
  },
  {
   "cell_type": "code",
   "execution_count": null,
   "id": "1b592fde-56a7-4c81-bf7e-7a6bcc1b1e86",
   "metadata": {},
   "outputs": [],
   "source": []
  }
 ],
 "metadata": {
  "kernelspec": {
   "display_name": "Python 3 (ipykernel)",
   "language": "python",
   "name": "python3"
  },
  "language_info": {
   "codemirror_mode": {
    "name": "ipython",
    "version": 3
   },
   "file_extension": ".py",
   "mimetype": "text/x-python",
   "name": "python",
   "nbconvert_exporter": "python",
   "pygments_lexer": "ipython3",
   "version": "3.12.4"
  }
 },
 "nbformat": 4,
 "nbformat_minor": 5
}
