{
 "cells": [
  {
   "cell_type": "markdown",
   "id": "72010975-3b6d-405d-b7a2-13c66fdd7934",
   "metadata": {},
   "source": [
    "This notebook contains the main pipeline to analyze insect images "
   ]
  },
  {
   "cell_type": "markdown",
   "id": "5b44ab56-1656-4fd3-91e9-b6bc573bec50",
   "metadata": {},
   "source": [
    "##### Implemented:\n",
    "- Looks at the brightness of each image. If the image is to dark, it will not be analyzed and moved to the `dark_frames` folder.\n",
    "- Identifies insects in the image with GroundinDino, defines a bounding-box and saves a cropped image of the insect in the `cropped` folder.\n",
    "- Checks whether the detection has already appeared on one of the last images to prevent saving a cropped image of the same individuum over and over. The tracker from AMT (Automatic Moth Trap: https://stangeia.hobern.net/autonomous-moth-trap-image-pipeline/) was implemented for this task.\n",
    "- AMT also includes funtionality that attempts to optimize the cropped image of an individuum by saving a new version of the insect if it is sharper than the old one.\n",
    "- The code quickly checks the size of each detection. If it is unrealistically big, the crop is saved in the `potentially_faulty` folder.\n",
    "- Saves the raw images with the tracking visualized on them in another subfolder called `detection_drawings` - if activated.\n",
    "- Goes through all the cropped images in `cropped` again and sorts out any that are not recognized as an insect. Moves these images into the `potentially_faulty` folder. A custom trained algorithm (Apollo Environment, inference_dirt_classifier.py) is responsible for this. Room for improvement here through better training data.\n",
    "- Classifies the cropped images using the InsectDetect classifier (https://github.com/maxsitt/insect-detect/tree/main?tab=readme-ov-file), ApolloNet - a self trained neural Network, or BioClip (https://imageomics.github.io/bioclip/) (https://github.com/Imageomics/pybioclip)\n",
    "- Measures the length of the insects in the cropped images using a custom trained version of the SLEAP pipeline (https://sleap.ai/tutorials/initial-training.html)"
   ]
  },
  {
   "cell_type": "code",
   "execution_count": 2,
   "id": "76eae0bf-9adf-4a31-9f83-f054f5b35c23",
   "metadata": {},
   "outputs": [
    {
     "name": "stdout",
     "output_type": "stream",
     "text": [
      "The envs directory is: C:\\Users\\rolingni\\AppData\\Local\\anaconda3\\envs\n"
     ]
    }
   ],
   "source": [
    "from transformers import AutoModelForMaskGeneration, AutoProcessor, pipeline\n",
    "from ipywidgets import interact, interactive, fixed, interact_manual, Layout\n",
    "from PIL import Image, ImageDraw, ImageFont, PngImagePlugin\n",
    "from typing import Any, List, Dict, Optional, Union, Tuple\n",
    "from scipy.optimize import linear_sum_assignment\n",
    "from bioclip import TreeOfLifeClassifier, Rank\n",
    "from IPython.display import clear_output\n",
    "import matplotlib.patches as patches\n",
    "import plotly.graph_objects as go\n",
    "from dataclasses import dataclass\n",
    "import matplotlib.pyplot as plt\n",
    "from tqdm.notebook import tqdm\n",
    "from collections import deque\n",
    "import ipywidgets as widgets\n",
    "import plotly.express as px\n",
    "import pandas as pd\n",
    "import numpy as np\n",
    "import subprocess\n",
    "import warnings\n",
    "import requests\n",
    "import random\n",
    "import torch\n",
    "import glob\n",
    "import json\n",
    "import math\n",
    "import time\n",
    "import csv\n",
    "import cv2\n",
    "import os\n",
    "import re\n",
    "\n",
    "### Selfmade functions\n",
    "from FunktionenZumImportieren.helper_funktionen_clean import *\n",
    "from FunktionenZumImportieren.settings_widgets import *\n",
    "from AMT_functions.colors import reportcolors\n",
    "from AMT_functions.amt_tracker import *\n",
    "\n",
    "warnings.simplefilter(action='always', category=UserWarning)\n",
    "warnings.formatwarning = custom_warning_format\n",
    "warnings.filterwarnings('ignore')\n",
    "\n",
    "envs_path = get_local_env_path()"
   ]
  },
  {
   "cell_type": "markdown",
   "id": "106398b3-e2b8-446b-986c-4772b972c17a",
   "metadata": {},
   "source": [
    "#### Define settings variables\n",
    "##### Variables include:\n",
    "- labels: prompt that specifies what GroundingDino searches in the images. Leave as `insect`.\n",
    "- threshold: a threshold that tells GroundingDino whether or not to reject a detection or to accept it. Lower values means more detections but also more faulty detections.\n",
    "- buffer: specifies the amount of border space in the cropped images. `15` is a good value usually.\n",
    "- pixel_scale: how many pixels are in a cm of image on the current camera. Necessary for outputing mm readings of the insect length. Input `10` if you want to output the length in pixel.\n",
    "- start_image: The name of a picture can be specified here (with extention). The code will then skip all the files before. Leave empty if you want to analyze all the images in the folder. Please leave this empty in the batch analysis pipeline. Might cause issues. If you want to start at the folder of a specific day, then put the folder number at the first spot in the brackets ([___:]) where the big arrow is in the main cell (<---). If you want to start from the 5th folder for some reason, then put in a 4.\n",
    "- save_visualisation: activate if you want a visualisation of the detections and tracks saved in \"detection_drawings\"\n",
    "- rank: Defines the taxonomic rank to which insects should be classified if BioClip is used. Can be set to None. This will make the algorithm classify up to the taxonomic rank that first satisfies the requirement set by certainty_threshold (see the function BioClip_inference in helper_funktionen). Setting rank to None will increase compute time.\n",
    "- DIOPSIS_folder: diopsis camera folder containing the raw images to be analyzed. This structure is expected: DIOPSIS_folder/photos/folders_of_days"
   ]
  },
  {
   "cell_type": "markdown",
   "id": "0f28e663-3a6b-4c7c-a1ea-eb28d410e2fa",
   "metadata": {},
   "source": [
    "    WORD OF CAUTION: The 'score' value (in the results) of the BioClip inference will only reflect the certainty for the taxonomic rank up to which the classification went. That means that if you classified up to species level for example, and later in the analysis go up to family level, the score will no longer reflect how certain BioClip is for the family rank. The score always reflects the certainty that is achieved for the taxonomic rank that is stated in the 'highest_classification_rank' column of the results csv. If you first classified to species, but then later decide to switch your analysis to family, you need to run the inference again (ideally with the 'Only_BioClip_inference' notebook in 'utils') in order to obtain the right score values for that taxonomic rank. Otherwise, the 'score' value might appear either way to high or way to low."
   ]
  },
  {
   "cell_type": "code",
   "execution_count": 3,
   "id": "a8aa87b4-35c9-4e94-ab8f-2124fa8d16d8",
   "metadata": {},
   "outputs": [
    {
     "data": {
      "application/vnd.jupyter.widget-view+json": {
       "model_id": "11d99502ff3643c688567452a64712bf",
       "version_major": 2,
       "version_minor": 0
      },
      "text/plain": [
       "Dropdown(description='Annotation algorithm:', layout=Layout(height='30px', width='50%'), options=(('BioClip', …"
      ]
     },
     "metadata": {},
     "output_type": "display_data"
    },
    {
     "data": {
      "application/vnd.jupyter.widget-view+json": {
       "model_id": "f9d8ff44708a47c9bf92c001218f1723",
       "version_major": 2,
       "version_minor": 0
      },
      "text/plain": [
       "Checkbox(value=True, description='Perform image classification with BioClip', indent=False)"
      ]
     },
     "metadata": {},
     "output_type": "display_data"
    },
    {
     "data": {
      "application/vnd.jupyter.widget-view+json": {
       "model_id": "edeb25645c3940649f38f22a95af0391",
       "version_major": 2,
       "version_minor": 0
      },
      "text/plain": [
       "Dropdown(description='Taxonomic rank:', index=4, layout=Layout(height='30px', width='50%'), options=(('kingdom…"
      ]
     },
     "metadata": {},
     "output_type": "display_data"
    },
    {
     "data": {
      "application/vnd.jupyter.widget-view+json": {
       "model_id": "cf2aa0227dc14604993bf0042af9703f",
       "version_major": 2,
       "version_minor": 0
      },
      "text/plain": [
       "Checkbox(value=False, description='Perform image classification with ApolloNet', indent=False)"
      ]
     },
     "metadata": {},
     "output_type": "display_data"
    },
    {
     "data": {
      "application/vnd.jupyter.widget-view+json": {
       "model_id": "aad8709a4ffc45428ea91899f7420063",
       "version_major": 2,
       "version_minor": 0
      },
      "text/plain": [
       "Checkbox(value=False, description='Perform image classification with InsectDetect', indent=False)"
      ]
     },
     "metadata": {},
     "output_type": "display_data"
    },
    {
     "data": {
      "application/vnd.jupyter.widget-view+json": {
       "model_id": "e4daf142b4f14362bd8dae6df22700f6",
       "version_major": 2,
       "version_minor": 0
      },
      "text/plain": [
       "Checkbox(value=False, description='Save visualisations', indent=False)"
      ]
     },
     "metadata": {},
     "output_type": "display_data"
    },
    {
     "data": {
      "application/vnd.jupyter.widget-view+json": {
       "model_id": "a3ba9d30442a45b08b97cbf9ccd3f102",
       "version_major": 2,
       "version_minor": 0
      },
      "text/plain": [
       "Text(value='', description='If you want to start at a specific image:', layout=Layout(height='30px', width='50…"
      ]
     },
     "metadata": {},
     "output_type": "display_data"
    }
   ],
   "source": [
    "get_values = create_interactive_widgets()"
   ]
  },
  {
   "cell_type": "code",
   "execution_count": 3,
   "id": "bea18744-3220-473b-a2d9-c0acca7675df",
   "metadata": {},
   "outputs": [
    {
     "name": "stdin",
     "output_type": "stream",
     "text": [
      "Give the pixel scale of the current camera (in pixel per cm): 92\n"
     ]
    }
   ],
   "source": [
    "labels = [\"insect\"]\n",
    "threshold = 0.25\n",
    "buffer = 15\n",
    "pixel_scale = ask_for_pixel_scale()"
   ]
  },
  {
   "cell_type": "code",
   "execution_count": 4,
   "id": "a7d31e5b-0c05-4bfd-9854-73d7f2d46a0f",
   "metadata": {},
   "outputs": [],
   "source": [
    "## On Mac:\n",
    "DIOPSIS_folder = \"/Users/rentaluser/Desktop/DIOPSIS-383\"\n",
    "\n",
    "## On Windows:\n",
    "#DIOPSIS_folder = r\"C:\\Users\\rolingni\\Desktop\\input_test4\""
   ]
  },
  {
   "cell_type": "markdown",
   "id": "8c2bfe26-ebb5-4181-8906-79911678227f",
   "metadata": {},
   "source": [
    "Main pipeline cell. All functionallity is included here\\\n",
    "Carefully monitor the printed details since some errors are not cought, but rather only printed. An error summary will appear at the end, telling you whether an error occured during the whole inference or not."
   ]
  },
  {
   "cell_type": "code",
   "execution_count": 5,
   "id": "0856b814-f7c0-454f-b65f-c2b95dedfac2",
   "metadata": {},
   "outputs": [
    {
     "name": "stdout",
     "output_type": "stream",
     "text": [
      "---------- GroundingDino runs on cpu ----------\n"
     ]
    },
    {
     "data": {
      "application/vnd.jupyter.widget-view+json": {
       "model_id": "60340899bdfa46d49dd9a13a7534fb49",
       "version_major": 2,
       "version_minor": 0
      },
      "text/plain": [
       "20240625:   0%|          | 0/363 [00:00<?, ?it/s]"
      ]
     },
     "metadata": {},
     "output_type": "display_data"
    },
    {
     "name": "stdout",
     "output_type": "stream",
     "text": [
      "Done detecting all the insects and saving cropped versions.\n",
      "Double-checking for faulty detections...\n",
      "Found 5 potentially faulty crops. Moved them to the potentially_faulty folder.\n",
      "--------\n",
      "Classifying crops now.\n",
      "The tree of life is growing: running BioClip algorithm for image classification now...\n",
      "Classified all images up to family-level\n",
      "--------\n",
      "Done classifying the insects. Measuring body lengths now...\n",
      "Length measurements ran clean\n",
      "--------\n",
      "Done measuring. Annotating all results onto cropped images now...\n",
      "--------\n",
      "Done with day! No length Errors occured :)\n",
      "Elapsed time: 41.73 minutes \n",
      "Time per Image: 6.90 seconds\n"
     ]
    },
    {
     "data": {
      "application/vnd.jupyter.widget-view+json": {
       "model_id": "89b3d32d796949d7a37a24d5cc3424c5",
       "version_major": 2,
       "version_minor": 0
      },
      "text/plain": [
       "20240626:   0%|          | 0/639 [00:00<?, ?it/s]"
      ]
     },
     "metadata": {},
     "output_type": "display_data"
    },
    {
     "name": "stdout",
     "output_type": "stream",
     "text": [
      "Done detecting all the insects and saving cropped versions.\n",
      "Double-checking for faulty detections...\n",
      "Found 9 potentially faulty crops. Moved them to the potentially_faulty folder.\n",
      "--------\n",
      "Classifying crops now.\n",
      "The tree of life is growing: running BioClip algorithm for image classification now...\n",
      "Classified all images up to family-level\n",
      "--------\n",
      "Done classifying the insects. Measuring body lengths now...\n",
      "Length measurements ran clean\n",
      "--------\n",
      "Done measuring. Annotating all results onto cropped images now...\n",
      "--------\n",
      "Done with day! No length Errors occured :)\n",
      "Elapsed time: 76.27 minutes \n",
      "Time per Image: 7.16 seconds\n"
     ]
    },
    {
     "data": {
      "application/vnd.jupyter.widget-view+json": {
       "model_id": "051419cbd3b44f459b9bc54283e1f7d5",
       "version_major": 2,
       "version_minor": 0
      },
      "text/plain": [
       "20240627:   0%|          | 0/570 [00:00<?, ?it/s]"
      ]
     },
     "metadata": {},
     "output_type": "display_data"
    },
    {
     "name": "stdout",
     "output_type": "stream",
     "text": [
      "Done detecting all the insects and saving cropped versions.\n",
      "Double-checking for faulty detections...\n",
      "Found 10 potentially faulty crops. Moved them to the potentially_faulty folder.\n",
      "--------\n",
      "Classifying crops now.\n",
      "The tree of life is growing: running BioClip algorithm for image classification now...\n",
      "Classified all images up to family-level\n",
      "--------\n",
      "Done classifying the insects. Measuring body lengths now...\n",
      "Length measurements ran clean\n",
      "--------\n",
      "Done measuring. Annotating all results onto cropped images now...\n",
      "--------\n",
      "Done with day! No length Errors occured :)\n",
      "Elapsed time: 63.47 minutes \n",
      "Time per Image: 6.68 seconds\n"
     ]
    },
    {
     "data": {
      "application/vnd.jupyter.widget-view+json": {
       "model_id": "521471fa2d514bc7b0d925ec52362a66",
       "version_major": 2,
       "version_minor": 0
      },
      "text/plain": [
       "20240628:   0%|          | 0/245 [00:00<?, ?it/s]"
      ]
     },
     "metadata": {},
     "output_type": "display_data"
    },
    {
     "name": "stdout",
     "output_type": "stream",
     "text": [
      "Done detecting all the insects and saving cropped versions.\n",
      "Double-checking for faulty detections...\n",
      "Found 5 potentially faulty crops. Moved them to the potentially_faulty folder.\n",
      "--------\n",
      "Classifying crops now.\n",
      "The tree of life is growing: running BioClip algorithm for image classification now...\n",
      "Classified all images up to family-level\n",
      "--------\n",
      "Done classifying the insects. Measuring body lengths now...\n",
      "Length measurements ran clean\n",
      "--------\n",
      "Done measuring. Annotating all results onto cropped images now...\n",
      "--------\n",
      "Done with day! No length Errors occured :)\n",
      "Elapsed time: 20.20 minutes \n",
      "Time per Image: 4.95 seconds\n"
     ]
    },
    {
     "data": {
      "application/vnd.jupyter.widget-view+json": {
       "model_id": "ce6e137c14ef422d8463f93a483e137e",
       "version_major": 2,
       "version_minor": 0
      },
      "text/plain": [
       "20240629:   0%|          | 0/241 [00:00<?, ?it/s]"
      ]
     },
     "metadata": {},
     "output_type": "display_data"
    },
    {
     "name": "stdout",
     "output_type": "stream",
     "text": [
      "Done detecting all the insects and saving cropped versions.\n",
      "Double-checking for faulty detections...\n",
      "Found 3 potentially faulty crops. Moved them to the potentially_faulty folder.\n",
      "--------\n",
      "Classifying crops now.\n",
      "The tree of life is growing: running BioClip algorithm for image classification now...\n",
      "Classified all images up to family-level\n",
      "--------\n",
      "Done classifying the insects. Measuring body lengths now...\n",
      "Length measurements ran clean\n",
      "--------\n",
      "Done measuring. Annotating all results onto cropped images now...\n",
      "--------\n",
      "Done with day! No length Errors occured :)\n",
      "Elapsed time: 19.51 minutes \n",
      "Time per Image: 4.86 seconds\n"
     ]
    },
    {
     "data": {
      "application/vnd.jupyter.widget-view+json": {
       "model_id": "b452f3f59141405aab8503adf49a6929",
       "version_major": 2,
       "version_minor": 0
      },
      "text/plain": [
       "20240630:   0%|          | 0/245 [00:00<?, ?it/s]"
      ]
     },
     "metadata": {},
     "output_type": "display_data"
    },
    {
     "name": "stdout",
     "output_type": "stream",
     "text": [
      "Done detecting all the insects and saving cropped versions.\n",
      "Double-checking for faulty detections...\n",
      "Found 2 potentially faulty crops. Moved them to the potentially_faulty folder.\n",
      "--------\n",
      "Classifying crops now.\n",
      "The tree of life is growing: running BioClip algorithm for image classification now...\n",
      "Classified all images up to family-level\n",
      "--------\n",
      "Done classifying the insects. Measuring body lengths now...\n",
      "Length measurements ran clean\n",
      "--------\n",
      "Done measuring. Annotating all results onto cropped images now...\n",
      "--------\n",
      "Done with day! No length Errors occured :)\n",
      "Elapsed time: 19.91 minutes \n",
      "Time per Image: 4.88 seconds\n"
     ]
    },
    {
     "data": {
      "application/vnd.jupyter.widget-view+json": {
       "model_id": "e0cb7099b2234923ad6c27cbb7d4f003",
       "version_major": 2,
       "version_minor": 0
      },
      "text/plain": [
       "20240701:   0%|          | 0/245 [00:00<?, ?it/s]"
      ]
     },
     "metadata": {},
     "output_type": "display_data"
    },
    {
     "name": "stdout",
     "output_type": "stream",
     "text": [
      "Done detecting all the insects and saving cropped versions.\n",
      "Double-checking for faulty detections...\n",
      "Found 4 potentially faulty crops. Moved them to the potentially_faulty folder.\n",
      "--------\n",
      "Classifying crops now.\n",
      "The tree of life is growing: running BioClip algorithm for image classification now...\n",
      "Classified all images up to family-level\n",
      "--------\n",
      "Done classifying the insects. Measuring body lengths now...\n",
      "Length measurements ran clean\n",
      "--------\n",
      "Done measuring. Annotating all results onto cropped images now...\n",
      "--------\n",
      "Done with day! No length Errors occured :)\n",
      "Elapsed time: 19.24 minutes \n",
      "Time per Image: 4.71 seconds\n"
     ]
    },
    {
     "data": {
      "application/vnd.jupyter.widget-view+json": {
       "model_id": "f4743bfe50114295b8ecc027e6f731b1",
       "version_major": 2,
       "version_minor": 0
      },
      "text/plain": [
       "20240702:   0%|          | 0/245 [00:00<?, ?it/s]"
      ]
     },
     "metadata": {},
     "output_type": "display_data"
    },
    {
     "name": "stdout",
     "output_type": "stream",
     "text": [
      "Done detecting all the insects and saving cropped versions.\n",
      "Double-checking for faulty detections...\n",
      "Found 1 potentially faulty crops. Moved them to the potentially_faulty folder.\n",
      "--------\n",
      "Classifying crops now.\n",
      "The tree of life is growing: running BioClip algorithm for image classification now...\n",
      "Classified all images up to family-level\n",
      "--------\n",
      "Done classifying the insects. Measuring body lengths now...\n",
      "Length measurements ran clean\n",
      "--------\n",
      "Done measuring. Annotating all results onto cropped images now...\n",
      "--------\n",
      "Done with day! No length Errors occured :)\n",
      "Elapsed time: 19.66 minutes \n",
      "Time per Image: 4.81 seconds\n"
     ]
    },
    {
     "data": {
      "application/vnd.jupyter.widget-view+json": {
       "model_id": "45f8679c605d403b9a31c18e150241e5",
       "version_major": 2,
       "version_minor": 0
      },
      "text/plain": [
       "20240703:   0%|          | 0/239 [00:00<?, ?it/s]"
      ]
     },
     "metadata": {},
     "output_type": "display_data"
    },
    {
     "name": "stdout",
     "output_type": "stream",
     "text": [
      "Done detecting all the insects and saving cropped versions.\n",
      "Double-checking for faulty detections...\n",
      "Found 1 potentially faulty crops. Moved them to the potentially_faulty folder.\n",
      "--------\n",
      "Classifying crops now.\n",
      "The tree of life is growing: running BioClip algorithm for image classification now...\n",
      "Classified all images up to family-level\n",
      "--------\n",
      "Done classifying the insects. Measuring body lengths now...\n",
      "Length measurements ran clean\n",
      "--------\n",
      "Done measuring. Annotating all results onto cropped images now...\n",
      "--------\n",
      "Done with day! No length Errors occured :)\n",
      "Elapsed time: 18.82 minutes \n",
      "Time per Image: 4.72 seconds\n"
     ]
    },
    {
     "data": {
      "application/vnd.jupyter.widget-view+json": {
       "model_id": "49f142091d4c4fe6949cf9dec02e099c",
       "version_major": 2,
       "version_minor": 0
      },
      "text/plain": [
       "20240704:   0%|          | 0/242 [00:00<?, ?it/s]"
      ]
     },
     "metadata": {},
     "output_type": "display_data"
    },
    {
     "name": "stdout",
     "output_type": "stream",
     "text": [
      "Done detecting all the insects and saving cropped versions.\n",
      "Double-checking for faulty detections...\n",
      "Found 7 potentially faulty crops. Moved them to the potentially_faulty folder.\n",
      "--------\n",
      "Classifying crops now.\n",
      "The tree of life is growing: running BioClip algorithm for image classification now...\n",
      "Classified all images up to family-level\n",
      "--------\n",
      "Done classifying the insects. Measuring body lengths now...\n",
      "Length measurements ran clean\n",
      "--------\n",
      "Done measuring. Annotating all results onto cropped images now...\n",
      "--------\n",
      "Done with day! No length Errors occured :)\n",
      "Elapsed time: 19.18 minutes \n",
      "Time per Image: 4.76 seconds\n"
     ]
    },
    {
     "data": {
      "application/vnd.jupyter.widget-view+json": {
       "model_id": "3bf48a3190bb48e3916e4fee6c828568",
       "version_major": 2,
       "version_minor": 0
      },
      "text/plain": [
       "20240705:   0%|          | 0/243 [00:00<?, ?it/s]"
      ]
     },
     "metadata": {},
     "output_type": "display_data"
    },
    {
     "name": "stdout",
     "output_type": "stream",
     "text": [
      "Done detecting all the insects and saving cropped versions.\n",
      "Double-checking for faulty detections...\n",
      "Found 12 potentially faulty crops. Moved them to the potentially_faulty folder.\n",
      "--------\n",
      "Classifying crops now.\n",
      "The tree of life is growing: running BioClip algorithm for image classification now...\n",
      "Classified all images up to family-level\n",
      "--------\n",
      "Done classifying the insects. Measuring body lengths now...\n",
      "Length measurements ran clean\n",
      "--------\n",
      "Done measuring. Annotating all results onto cropped images now...\n",
      "--------\n",
      "Done with day! No length Errors occured :)\n",
      "Elapsed time: 19.85 minutes \n",
      "Time per Image: 4.90 seconds\n"
     ]
    },
    {
     "data": {
      "application/vnd.jupyter.widget-view+json": {
       "model_id": "389f5730322f4ec1a940ebd22ff8ae4a",
       "version_major": 2,
       "version_minor": 0
      },
      "text/plain": [
       "20240706:   0%|          | 0/238 [00:00<?, ?it/s]"
      ]
     },
     "metadata": {},
     "output_type": "display_data"
    },
    {
     "name": "stdout",
     "output_type": "stream",
     "text": [
      "Done detecting all the insects and saving cropped versions.\n",
      "Double-checking for faulty detections...\n",
      "Found 1 potentially faulty crops. Moved them to the potentially_faulty folder.\n",
      "--------\n",
      "Classifying crops now.\n",
      "The tree of life is growing: running BioClip algorithm for image classification now...\n",
      "Classified all images up to family-level\n",
      "--------\n",
      "Done classifying the insects. Measuring body lengths now...\n",
      "Length measurements ran clean\n",
      "--------\n",
      "Done measuring. Annotating all results onto cropped images now...\n",
      "--------\n",
      "Done with day! No length Errors occured :)\n",
      "Elapsed time: 19.49 minutes \n",
      "Time per Image: 4.91 seconds\n"
     ]
    },
    {
     "data": {
      "application/vnd.jupyter.widget-view+json": {
       "model_id": "6687abbffcfc444490429aeb86140c0d",
       "version_major": 2,
       "version_minor": 0
      },
      "text/plain": [
       "20240707:   0%|          | 0/230 [00:00<?, ?it/s]"
      ]
     },
     "metadata": {},
     "output_type": "display_data"
    },
    {
     "name": "stdout",
     "output_type": "stream",
     "text": [
      "Image is truncated or corrupted: /Users/rentaluser/Desktop/DIOPSIS-383/photos/20240707/20240707063733.jpg - image file is truncated (4 bytes not processed)\n",
      "Skipping this image.\n",
      "Done detecting all the insects and saving cropped versions.\n",
      "Double-checking for faulty detections...\n",
      "All crops seem to be insects :)\n",
      "--------\n",
      "Classifying crops now.\n",
      "The tree of life is growing: running BioClip algorithm for image classification now...\n",
      "Classified all images up to family-level\n",
      "--------\n",
      "Done classifying the insects. Measuring body lengths now...\n",
      "Length measurements ran clean\n",
      "--------\n",
      "Done measuring. Annotating all results onto cropped images now...\n",
      "--------\n",
      "Done with day! No length Errors occured :)\n",
      "Elapsed time: 18.35 minutes \n",
      "Time per Image: 4.79 seconds\n"
     ]
    },
    {
     "data": {
      "application/vnd.jupyter.widget-view+json": {
       "model_id": "68a8f626a62d49cea6f2060c00240cc7",
       "version_major": 2,
       "version_minor": 0
      },
      "text/plain": [
       "20240708:   0%|          | 0/245 [00:00<?, ?it/s]"
      ]
     },
     "metadata": {},
     "output_type": "display_data"
    },
    {
     "name": "stdout",
     "output_type": "stream",
     "text": [
      "Done detecting all the insects and saving cropped versions.\n",
      "Double-checking for faulty detections...\n",
      "Found 7 potentially faulty crops. Moved them to the potentially_faulty folder.\n",
      "--------\n",
      "Classifying crops now.\n",
      "The tree of life is growing: running BioClip algorithm for image classification now...\n",
      "Classified all images up to family-level\n",
      "--------\n",
      "Done classifying the insects. Measuring body lengths now...\n",
      "Length measurements ran clean\n",
      "--------\n",
      "Done measuring. Annotating all results onto cropped images now...\n",
      "--------\n",
      "Done with day! No length Errors occured :)\n",
      "Elapsed time: 20.23 minutes \n",
      "Time per Image: 4.95 seconds\n"
     ]
    },
    {
     "data": {
      "application/vnd.jupyter.widget-view+json": {
       "model_id": "8396f37fd07a4efcbb1d1f84ba34172b",
       "version_major": 2,
       "version_minor": 0
      },
      "text/plain": [
       "20240709:   0%|          | 0/249 [00:00<?, ?it/s]"
      ]
     },
     "metadata": {},
     "output_type": "display_data"
    },
    {
     "name": "stdout",
     "output_type": "stream",
     "text": [
      "Done detecting all the insects and saving cropped versions.\n",
      "Double-checking for faulty detections...\n",
      "Found 11 potentially faulty crops. Moved them to the potentially_faulty folder.\n",
      "--------\n",
      "Classifying crops now.\n",
      "The tree of life is growing: running BioClip algorithm for image classification now...\n",
      "Classified all images up to family-level\n",
      "--------\n",
      "Done classifying the insects. Measuring body lengths now...\n",
      "Length measurements ran clean\n",
      "--------\n",
      "Done measuring. Annotating all results onto cropped images now...\n",
      "--------\n",
      "Done with day! No length Errors occured :)\n",
      "Elapsed time: 20.11 minutes \n",
      "Time per Image: 4.85 seconds\n"
     ]
    },
    {
     "data": {
      "application/vnd.jupyter.widget-view+json": {
       "model_id": "3292929b12d6420d95b1e52b974304bb",
       "version_major": 2,
       "version_minor": 0
      },
      "text/plain": [
       "20240710:   0%|          | 0/243 [00:00<?, ?it/s]"
      ]
     },
     "metadata": {},
     "output_type": "display_data"
    },
    {
     "name": "stdout",
     "output_type": "stream",
     "text": [
      "Done detecting all the insects and saving cropped versions.\n",
      "Double-checking for faulty detections...\n",
      "Found 8 potentially faulty crops. Moved them to the potentially_faulty folder.\n",
      "--------\n",
      "Classifying crops now.\n",
      "The tree of life is growing: running BioClip algorithm for image classification now...\n",
      "Classified all images up to family-level\n",
      "--------\n",
      "Done classifying the insects. Measuring body lengths now...\n",
      "Length measurements ran clean\n",
      "--------\n",
      "Done measuring. Annotating all results onto cropped images now...\n",
      "--------\n",
      "Done with day! No length Errors occured :)\n",
      "Elapsed time: 19.63 minutes \n",
      "Time per Image: 4.85 seconds\n"
     ]
    },
    {
     "data": {
      "application/vnd.jupyter.widget-view+json": {
       "model_id": "39b74b5b1c4742369b0ba3fe25c844f6",
       "version_major": 2,
       "version_minor": 0
      },
      "text/plain": [
       "20240711:   0%|          | 0/259 [00:00<?, ?it/s]"
      ]
     },
     "metadata": {},
     "output_type": "display_data"
    },
    {
     "name": "stdout",
     "output_type": "stream",
     "text": [
      "Done detecting all the insects and saving cropped versions.\n",
      "Double-checking for faulty detections...\n",
      "Found 12 potentially faulty crops. Moved them to the potentially_faulty folder.\n",
      "--------\n",
      "Classifying crops now.\n",
      "The tree of life is growing: running BioClip algorithm for image classification now...\n",
      "Classified all images up to family-level\n",
      "--------\n",
      "Done classifying the insects. Measuring body lengths now...\n",
      "Length measurements ran clean\n",
      "--------\n",
      "Done measuring. Annotating all results onto cropped images now...\n",
      "--------\n",
      "Done with day! No length Errors occured :)\n",
      "Elapsed time: 19.91 minutes \n",
      "Time per Image: 4.61 seconds\n"
     ]
    },
    {
     "data": {
      "application/vnd.jupyter.widget-view+json": {
       "model_id": "e1c31231d99f4c1a920561df6b3c1472",
       "version_major": 2,
       "version_minor": 0
      },
      "text/plain": [
       "20240712:   0%|          | 0/288 [00:00<?, ?it/s]"
      ]
     },
     "metadata": {},
     "output_type": "display_data"
    },
    {
     "name": "stdout",
     "output_type": "stream",
     "text": [
      "Done detecting all the insects and saving cropped versions.\n",
      "Double-checking for faulty detections...\n",
      "Found 11 potentially faulty crops. Moved them to the potentially_faulty folder.\n",
      "--------\n",
      "Classifying crops now.\n",
      "The tree of life is growing: running BioClip algorithm for image classification now...\n",
      "Classified all images up to family-level\n",
      "--------\n",
      "Done classifying the insects. Measuring body lengths now...\n",
      "Length measurements ran clean\n",
      "--------\n",
      "Done measuring. Annotating all results onto cropped images now...\n",
      "--------\n",
      "Done with day! No length Errors occured :)\n",
      "Elapsed time: 27.02 minutes \n",
      "Time per Image: 5.63 seconds\n"
     ]
    },
    {
     "data": {
      "application/vnd.jupyter.widget-view+json": {
       "model_id": "7f6e3c24fda2436397985ef6f996e016",
       "version_major": 2,
       "version_minor": 0
      },
      "text/plain": [
       "20240713:   0%|          | 0/194 [00:00<?, ?it/s]"
      ]
     },
     "metadata": {},
     "output_type": "display_data"
    },
    {
     "name": "stdout",
     "output_type": "stream",
     "text": [
      "Done detecting all the insects and saving cropped versions.\n",
      "Double-checking for faulty detections...\n",
      "Found 1 potentially faulty crops. Moved them to the potentially_faulty folder.\n",
      "--------\n",
      "Classifying crops now.\n",
      "The tree of life is growing: running BioClip algorithm for image classification now...\n",
      "Classified all images up to family-level\n",
      "--------\n",
      "Done classifying the insects. Measuring body lengths now...\n",
      "Length measurements ran clean\n",
      "--------\n",
      "Done measuring. Annotating all results onto cropped images now...\n",
      "--------\n",
      "Done with day! No length Errors occured :)\n",
      "Elapsed time: 15.31 minutes \n",
      "Time per Image: 4.74 seconds\n"
     ]
    },
    {
     "data": {
      "application/vnd.jupyter.widget-view+json": {
       "model_id": "f2f1aaba688442e893507e8b67cf8a5f",
       "version_major": 2,
       "version_minor": 0
      },
      "text/plain": [
       "20240714:   0%|          | 0/201 [00:00<?, ?it/s]"
      ]
     },
     "metadata": {},
     "output_type": "display_data"
    },
    {
     "name": "stdout",
     "output_type": "stream",
     "text": [
      "Done detecting all the insects and saving cropped versions.\n",
      "Double-checking for faulty detections...\n",
      "Found 7 potentially faulty crops. Moved them to the potentially_faulty folder.\n",
      "--------\n",
      "Classifying crops now.\n",
      "The tree of life is growing: running BioClip algorithm for image classification now...\n",
      "Classified all images up to family-level\n",
      "--------\n",
      "Done classifying the insects. Measuring body lengths now...\n",
      "Length measurements ran clean\n",
      "--------\n",
      "Done measuring. Annotating all results onto cropped images now...\n",
      "--------\n",
      "Done with day! No length Errors occured :)\n",
      "Elapsed time: 17.22 minutes \n",
      "Time per Image: 5.14 seconds\n"
     ]
    },
    {
     "data": {
      "application/vnd.jupyter.widget-view+json": {
       "model_id": "63ec74655c8f46bf9451c4cfb2552461",
       "version_major": 2,
       "version_minor": 0
      },
      "text/plain": [
       "20240715:   0%|          | 0/277 [00:00<?, ?it/s]"
      ]
     },
     "metadata": {},
     "output_type": "display_data"
    },
    {
     "name": "stdout",
     "output_type": "stream",
     "text": [
      "Image is truncated or corrupted: /Users/rentaluser/Desktop/DIOPSIS-383/photos/20240715/20240715100905.jpg - image file is truncated (19 bytes not processed)\n",
      "Skipping this image.\n",
      "Done detecting all the insects and saving cropped versions.\n",
      "Double-checking for faulty detections...\n",
      "Found 17 potentially faulty crops. Moved them to the potentially_faulty folder.\n",
      "--------\n",
      "Classifying crops now.\n",
      "The tree of life is growing: running BioClip algorithm for image classification now...\n",
      "Classified all images up to family-level\n",
      "--------\n",
      "Done classifying the insects. Measuring body lengths now...\n",
      "Length measurements ran clean\n",
      "--------\n",
      "Done measuring. Annotating all results onto cropped images now...\n",
      "--------\n",
      "Done with day! No length Errors occured :)\n",
      "Elapsed time: 26.36 minutes \n",
      "Time per Image: 5.71 seconds\n"
     ]
    },
    {
     "data": {
      "application/vnd.jupyter.widget-view+json": {
       "model_id": "db39f6d8cd8f4f0e8251ff00ebf13d89",
       "version_major": 2,
       "version_minor": 0
      },
      "text/plain": [
       "20240716:   0%|          | 0/348 [00:00<?, ?it/s]"
      ]
     },
     "metadata": {},
     "output_type": "display_data"
    },
    {
     "name": "stdout",
     "output_type": "stream",
     "text": [
      "Done detecting all the insects and saving cropped versions.\n",
      "Double-checking for faulty detections...\n",
      "Found 10 potentially faulty crops. Moved them to the potentially_faulty folder.\n",
      "--------\n",
      "Classifying crops now.\n",
      "The tree of life is growing: running BioClip algorithm for image classification now...\n",
      "Classified all images up to family-level\n",
      "--------\n",
      "Done classifying the insects. Measuring body lengths now...\n",
      "Length measurements ran clean\n",
      "--------\n",
      "Done measuring. Annotating all results onto cropped images now...\n",
      "--------\n",
      "Done with day! No length Errors occured :)\n",
      "Elapsed time: 34.32 minutes \n",
      "Time per Image: 5.92 seconds\n"
     ]
    },
    {
     "data": {
      "application/vnd.jupyter.widget-view+json": {
       "model_id": "397fd253cd96446db0d4349ee8ecbfbd",
       "version_major": 2,
       "version_minor": 0
      },
      "text/plain": [
       "20240717:   0%|          | 0/199 [00:00<?, ?it/s]"
      ]
     },
     "metadata": {},
     "output_type": "display_data"
    },
    {
     "name": "stdout",
     "output_type": "stream",
     "text": [
      "Done detecting all the insects and saving cropped versions.\n",
      "Double-checking for faulty detections...\n",
      "Found 4 potentially faulty crops. Moved them to the potentially_faulty folder.\n",
      "--------\n",
      "Classifying crops now.\n",
      "The tree of life is growing: running BioClip algorithm for image classification now...\n",
      "Classified all images up to family-level\n",
      "--------\n",
      "Done classifying the insects. Measuring body lengths now...\n",
      "Length measurements ran clean\n",
      "--------\n",
      "Done measuring. Annotating all results onto cropped images now...\n",
      "--------\n",
      "Done with day! No length Errors occured :)\n",
      "Elapsed time: 16.51 minutes \n",
      "Time per Image: 4.98 seconds\n"
     ]
    },
    {
     "data": {
      "application/vnd.jupyter.widget-view+json": {
       "model_id": "98a43cd16b3c4f4e94286d38a2b05907",
       "version_major": 2,
       "version_minor": 0
      },
      "text/plain": [
       "20240718:   0%|          | 0/259 [00:00<?, ?it/s]"
      ]
     },
     "metadata": {},
     "output_type": "display_data"
    },
    {
     "name": "stdout",
     "output_type": "stream",
     "text": [
      "Done detecting all the insects and saving cropped versions.\n",
      "Double-checking for faulty detections...\n",
      "Found 15 potentially faulty crops. Moved them to the potentially_faulty folder.\n",
      "--------\n",
      "Classifying crops now.\n",
      "The tree of life is growing: running BioClip algorithm for image classification now...\n",
      "Classified all images up to family-level\n",
      "--------\n",
      "Done classifying the insects. Measuring body lengths now...\n",
      "Length measurements ran clean\n",
      "--------\n",
      "Done measuring. Annotating all results onto cropped images now...\n",
      "--------\n",
      "Done with day! No length Errors occured :)\n",
      "Elapsed time: 22.88 minutes \n",
      "Time per Image: 5.30 seconds\n"
     ]
    },
    {
     "data": {
      "application/vnd.jupyter.widget-view+json": {
       "model_id": "6eccdd2340aa4a538ce710856d00fd16",
       "version_major": 2,
       "version_minor": 0
      },
      "text/plain": [
       "20240719:   0%|          | 0/243 [00:00<?, ?it/s]"
      ]
     },
     "metadata": {},
     "output_type": "display_data"
    },
    {
     "name": "stdout",
     "output_type": "stream",
     "text": [
      "Done detecting all the insects and saving cropped versions.\n",
      "Double-checking for faulty detections...\n",
      "Found 6 potentially faulty crops. Moved them to the potentially_faulty folder.\n",
      "--------\n",
      "Classifying crops now.\n",
      "The tree of life is growing: running BioClip algorithm for image classification now...\n",
      "Classified all images up to family-level\n",
      "--------\n",
      "Done classifying the insects. Measuring body lengths now...\n",
      "Length measurements ran clean\n",
      "--------\n",
      "Done measuring. Annotating all results onto cropped images now...\n",
      "--------\n",
      "Done with day! No length Errors occured :)\n",
      "Elapsed time: 21.33 minutes \n",
      "Time per Image: 5.27 seconds\n"
     ]
    },
    {
     "data": {
      "application/vnd.jupyter.widget-view+json": {
       "model_id": "816a6e37c09d4ec7abaf9fb06adb3f78",
       "version_major": 2,
       "version_minor": 0
      },
      "text/plain": [
       "20240720:   0%|          | 0/242 [00:00<?, ?it/s]"
      ]
     },
     "metadata": {},
     "output_type": "display_data"
    },
    {
     "name": "stdout",
     "output_type": "stream",
     "text": [
      "Done detecting all the insects and saving cropped versions.\n",
      "Double-checking for faulty detections...\n",
      "Found 4 potentially faulty crops. Moved them to the potentially_faulty folder.\n",
      "--------\n",
      "Classifying crops now.\n",
      "The tree of life is growing: running BioClip algorithm for image classification now...\n",
      "Classified all images up to family-level\n",
      "--------\n",
      "Done classifying the insects. Measuring body lengths now...\n",
      "Length measurements ran clean\n",
      "--------\n",
      "Done measuring. Annotating all results onto cropped images now...\n",
      "--------\n",
      "Done with day! No length Errors occured :)\n",
      "Elapsed time: 21.63 minutes \n",
      "Time per Image: 5.36 seconds\n"
     ]
    },
    {
     "data": {
      "application/vnd.jupyter.widget-view+json": {
       "model_id": "22a8fe4cf82f4cbaabcd4c27c68abdcd",
       "version_major": 2,
       "version_minor": 0
      },
      "text/plain": [
       "20240721:   0%|          | 0/174 [00:00<?, ?it/s]"
      ]
     },
     "metadata": {},
     "output_type": "display_data"
    },
    {
     "name": "stdout",
     "output_type": "stream",
     "text": [
      "Done detecting all the insects and saving cropped versions.\n",
      "Double-checking for faulty detections...\n",
      "Found 3 potentially faulty crops. Moved them to the potentially_faulty folder.\n",
      "--------\n",
      "Classifying crops now.\n",
      "The tree of life is growing: running BioClip algorithm for image classification now...\n",
      "Classified all images up to family-level\n",
      "--------\n",
      "Done classifying the insects. Measuring body lengths now...\n",
      "Length measurements ran clean\n",
      "--------\n",
      "Done measuring. Annotating all results onto cropped images now...\n",
      "--------\n",
      "Done with day! No length Errors occured :)\n",
      "Elapsed time: 13.97 minutes \n",
      "Time per Image: 4.82 seconds\n"
     ]
    },
    {
     "data": {
      "application/vnd.jupyter.widget-view+json": {
       "model_id": "5d6ac9733db34a01ba422b785a6a507e",
       "version_major": 2,
       "version_minor": 0
      },
      "text/plain": [
       "20240722:   0%|          | 0/200 [00:00<?, ?it/s]"
      ]
     },
     "metadata": {},
     "output_type": "display_data"
    },
    {
     "name": "stdout",
     "output_type": "stream",
     "text": [
      "Done detecting all the insects and saving cropped versions.\n",
      "Double-checking for faulty detections...\n",
      "Found 1 potentially faulty crops. Moved them to the potentially_faulty folder.\n",
      "--------\n",
      "Classifying crops now.\n",
      "The tree of life is growing: running BioClip algorithm for image classification now...\n",
      "Classified all images up to family-level\n",
      "--------\n",
      "Done classifying the insects. Measuring body lengths now...\n",
      "Length measurements ran clean\n",
      "--------\n",
      "Done measuring. Annotating all results onto cropped images now...\n",
      "--------\n",
      "Done with day! No length Errors occured :)\n",
      "Elapsed time: 16.73 minutes \n",
      "Time per Image: 5.02 seconds\n"
     ]
    },
    {
     "data": {
      "application/vnd.jupyter.widget-view+json": {
       "model_id": "b356df42582b4259b844c297f5df7d75",
       "version_major": 2,
       "version_minor": 0
      },
      "text/plain": [
       "20240723:   0%|          | 0/182 [00:00<?, ?it/s]"
      ]
     },
     "metadata": {},
     "output_type": "display_data"
    },
    {
     "name": "stdout",
     "output_type": "stream",
     "text": [
      "Image is truncated or corrupted: /Users/rentaluser/Desktop/DIOPSIS-383/photos/20240723/20240723103948.jpg - image file is truncated (14 bytes not processed)\n",
      "Skipping this image.\n",
      "Done detecting all the insects and saving cropped versions.\n",
      "Double-checking for faulty detections...\n",
      "Found 3 potentially faulty crops. Moved them to the potentially_faulty folder.\n",
      "--------\n",
      "Classifying crops now.\n",
      "The tree of life is growing: running BioClip algorithm for image classification now...\n",
      "Classified all images up to family-level\n",
      "--------\n",
      "Done classifying the insects. Measuring body lengths now...\n",
      "Length measurements ran clean\n",
      "--------\n",
      "Done measuring. Annotating all results onto cropped images now...\n",
      "--------\n",
      "Done with day! No length Errors occured :)\n",
      "Elapsed time: 13.84 minutes \n",
      "Time per Image: 4.56 seconds\n"
     ]
    },
    {
     "data": {
      "application/vnd.jupyter.widget-view+json": {
       "model_id": "8aff6f5d8a6349949ab2bb1772b79d33",
       "version_major": 2,
       "version_minor": 0
      },
      "text/plain": [
       "20240724:   0%|          | 0/179 [00:00<?, ?it/s]"
      ]
     },
     "metadata": {},
     "output_type": "display_data"
    },
    {
     "name": "stdout",
     "output_type": "stream",
     "text": [
      "Image is truncated or corrupted: /Users/rentaluser/Desktop/DIOPSIS-383/photos/20240724/20240724104048.jpg - cannot identify image file '/Users/rentaluser/Desktop/DIOPSIS-383/photos/20240724/20240724104048.jpg'\n",
      "Skipping this image.\n",
      "Image is truncated or corrupted: /Users/rentaluser/Desktop/DIOPSIS-383/photos/20240724/20240724114229.jpg - image file is truncated (49 bytes not processed)\n",
      "Skipping this image.\n",
      "Image is truncated or corrupted: /Users/rentaluser/Desktop/DIOPSIS-383/photos/20240724/20240724123752.jpg - cannot identify image file '/Users/rentaluser/Desktop/DIOPSIS-383/photos/20240724/20240724123752.jpg'\n",
      "Skipping this image.\n",
      "Image is truncated or corrupted: /Users/rentaluser/Desktop/DIOPSIS-383/photos/20240724/20240724155655.jpg - cannot identify image file '/Users/rentaluser/Desktop/DIOPSIS-383/photos/20240724/20240724155655.jpg'\n",
      "Skipping this image.\n",
      "Image is truncated or corrupted: /Users/rentaluser/Desktop/DIOPSIS-383/photos/20240724/20240724175831.jpg - cannot identify image file '/Users/rentaluser/Desktop/DIOPSIS-383/photos/20240724/20240724175831.jpg'\n",
      "Skipping this image.\n",
      "Image is truncated or corrupted: /Users/rentaluser/Desktop/DIOPSIS-383/photos/20240724/20240724182201.jpg - cannot identify image file '/Users/rentaluser/Desktop/DIOPSIS-383/photos/20240724/20240724182201.jpg'\n",
      "Skipping this image.\n",
      "Image is truncated or corrupted: /Users/rentaluser/Desktop/DIOPSIS-383/photos/20240724/20240724195644.jpg - cannot identify image file '/Users/rentaluser/Desktop/DIOPSIS-383/photos/20240724/20240724195644.jpg'\n",
      "Skipping this image.\n",
      "Image is truncated or corrupted: /Users/rentaluser/Desktop/DIOPSIS-383/photos/20240724/20240724215046.jpg - cannot identify image file '/Users/rentaluser/Desktop/DIOPSIS-383/photos/20240724/20240724215046.jpg'\n",
      "Skipping this image.\n",
      "Image is truncated or corrupted: /Users/rentaluser/Desktop/DIOPSIS-383/photos/20240724/20240724234408.jpg - cannot identify image file '/Users/rentaluser/Desktop/DIOPSIS-383/photos/20240724/20240724234408.jpg'\n",
      "Skipping this image.\n",
      "Done detecting all the insects and saving cropped versions.\n",
      "Double-checking for faulty detections...\n",
      "Found 1 potentially faulty crops. Moved them to the potentially_faulty folder.\n",
      "--------\n",
      "Classifying crops now.\n",
      "The tree of life is growing: running BioClip algorithm for image classification now...\n",
      "Classified all images up to family-level\n",
      "--------\n",
      "Done classifying the insects. Measuring body lengths now...\n",
      "Length measurements ran clean\n",
      "--------\n",
      "Done measuring. Annotating all results onto cropped images now...\n",
      "--------\n",
      "Done with day! No length Errors occured :)\n",
      "Elapsed time: 13.06 minutes \n",
      "Time per Image: 4.38 seconds\n"
     ]
    },
    {
     "data": {
      "application/vnd.jupyter.widget-view+json": {
       "model_id": "d02edaa2af814b9a943023dc26c8bc65",
       "version_major": 2,
       "version_minor": 0
      },
      "text/plain": [
       "20240725:   0%|          | 0/180 [00:00<?, ?it/s]"
      ]
     },
     "metadata": {},
     "output_type": "display_data"
    },
    {
     "name": "stdout",
     "output_type": "stream",
     "text": [
      "Done detecting all the insects and saving cropped versions.\n",
      "Double-checking for faulty detections...\n",
      "Found 4 potentially faulty crops. Moved them to the potentially_faulty folder.\n",
      "--------\n",
      "Classifying crops now.\n",
      "The tree of life is growing: running BioClip algorithm for image classification now...\n",
      "Classified all images up to family-level\n",
      "--------\n",
      "Done classifying the insects. Measuring body lengths now...\n",
      "Length measurements ran clean\n",
      "--------\n",
      "Done measuring. Annotating all results onto cropped images now...\n",
      "--------\n",
      "Done with day! No length Errors occured :)\n",
      "Elapsed time: 13.78 minutes \n",
      "Time per Image: 4.59 seconds\n"
     ]
    },
    {
     "data": {
      "application/vnd.jupyter.widget-view+json": {
       "model_id": "55d5d30b927e44658ade67db304054ae",
       "version_major": 2,
       "version_minor": 0
      },
      "text/plain": [
       "20240726:   0%|          | 0/194 [00:00<?, ?it/s]"
      ]
     },
     "metadata": {},
     "output_type": "display_data"
    },
    {
     "name": "stdout",
     "output_type": "stream",
     "text": [
      "Done detecting all the insects and saving cropped versions.\n",
      "Double-checking for faulty detections...\n",
      "Found 4 potentially faulty crops. Moved them to the potentially_faulty folder.\n",
      "--------\n",
      "Classifying crops now.\n",
      "The tree of life is growing: running BioClip algorithm for image classification now...\n",
      "Classified all images up to family-level\n",
      "--------\n",
      "Done classifying the insects. Measuring body lengths now...\n",
      "Length measurements ran clean\n",
      "--------\n",
      "Done measuring. Annotating all results onto cropped images now...\n",
      "--------\n",
      "Done with day! No length Errors occured :)\n",
      "Elapsed time: 14.68 minutes \n",
      "Time per Image: 4.54 seconds\n"
     ]
    },
    {
     "data": {
      "application/vnd.jupyter.widget-view+json": {
       "model_id": "2d7b26142c99448b84d7cb1eab6f4763",
       "version_major": 2,
       "version_minor": 0
      },
      "text/plain": [
       "20240727:   0%|          | 0/281 [00:00<?, ?it/s]"
      ]
     },
     "metadata": {},
     "output_type": "display_data"
    },
    {
     "name": "stdout",
     "output_type": "stream",
     "text": [
      "Done detecting all the insects and saving cropped versions.\n",
      "Double-checking for faulty detections...\n",
      "Found 9 potentially faulty crops. Moved them to the potentially_faulty folder.\n",
      "--------\n",
      "Classifying crops now.\n",
      "The tree of life is growing: running BioClip algorithm for image classification now...\n",
      "Classified all images up to family-level\n",
      "--------\n",
      "Done classifying the insects. Measuring body lengths now...\n",
      "Length measurements ran clean\n",
      "--------\n",
      "Done measuring. Annotating all results onto cropped images now...\n",
      "--------\n",
      "Done with day! No length Errors occured :)\n",
      "Elapsed time: 24.86 minutes \n",
      "Time per Image: 5.31 seconds\n"
     ]
    },
    {
     "data": {
      "application/vnd.jupyter.widget-view+json": {
       "model_id": "7374ababb8954ad4b1f32ee404f0a8b2",
       "version_major": 2,
       "version_minor": 0
      },
      "text/plain": [
       "20240728:   0%|          | 0/177 [00:00<?, ?it/s]"
      ]
     },
     "metadata": {},
     "output_type": "display_data"
    },
    {
     "name": "stdout",
     "output_type": "stream",
     "text": [
      "Done detecting all the insects and saving cropped versions.\n",
      "Double-checking for faulty detections...\n",
      "All crops seem to be insects :)\n",
      "--------\n",
      "Classifying crops now.\n",
      "The tree of life is growing: running BioClip algorithm for image classification now...\n",
      "Classified all images up to family-level\n",
      "--------\n",
      "Done classifying the insects. Measuring body lengths now...\n",
      "Length measurements ran clean\n",
      "--------\n",
      "Done measuring. Annotating all results onto cropped images now...\n",
      "--------\n",
      "Done with day! No length Errors occured :)\n",
      "Elapsed time: 14.74 minutes \n",
      "Time per Image: 5.00 seconds\n"
     ]
    },
    {
     "data": {
      "application/vnd.jupyter.widget-view+json": {
       "model_id": "2d64fcbb42714439bc4cbc916a4b9dcc",
       "version_major": 2,
       "version_minor": 0
      },
      "text/plain": [
       "20240729:   0%|          | 0/195 [00:00<?, ?it/s]"
      ]
     },
     "metadata": {},
     "output_type": "display_data"
    },
    {
     "name": "stdout",
     "output_type": "stream",
     "text": [
      "Done detecting all the insects and saving cropped versions.\n",
      "Double-checking for faulty detections...\n",
      "Found 5 potentially faulty crops. Moved them to the potentially_faulty folder.\n",
      "--------\n",
      "Classifying crops now.\n",
      "The tree of life is growing: running BioClip algorithm for image classification now...\n",
      "Classified all images up to family-level\n",
      "--------\n",
      "Done classifying the insects. Measuring body lengths now...\n",
      "Length measurements ran clean\n",
      "--------\n",
      "Done measuring. Annotating all results onto cropped images now...\n",
      "--------\n",
      "Done with day! No length Errors occured :)\n",
      "Elapsed time: 15.19 minutes \n",
      "Time per Image: 4.67 seconds\n"
     ]
    },
    {
     "data": {
      "application/vnd.jupyter.widget-view+json": {
       "model_id": "51bfba50ca1e498fad2adbe575b7ae43",
       "version_major": 2,
       "version_minor": 0
      },
      "text/plain": [
       "20240730:   0%|          | 0/217 [00:00<?, ?it/s]"
      ]
     },
     "metadata": {},
     "output_type": "display_data"
    },
    {
     "name": "stdout",
     "output_type": "stream",
     "text": [
      "Done detecting all the insects and saving cropped versions.\n",
      "Double-checking for faulty detections...\n",
      "Found 6 potentially faulty crops. Moved them to the potentially_faulty folder.\n",
      "--------\n",
      "Classifying crops now.\n",
      "The tree of life is growing: running BioClip algorithm for image classification now...\n",
      "Classified all images up to family-level\n",
      "--------\n",
      "Done classifying the insects. Measuring body lengths now...\n",
      "Length measurements ran clean\n",
      "--------\n",
      "Done measuring. Annotating all results onto cropped images now...\n",
      "--------\n",
      "Done with day! No length Errors occured :)\n",
      "Elapsed time: 17.04 minutes \n",
      "Time per Image: 4.71 seconds\n"
     ]
    },
    {
     "data": {
      "application/vnd.jupyter.widget-view+json": {
       "model_id": "f92a7daf9f8d4f5bb91743b4e514cedb",
       "version_major": 2,
       "version_minor": 0
      },
      "text/plain": [
       "20240731:   0%|          | 0/206 [00:00<?, ?it/s]"
      ]
     },
     "metadata": {},
     "output_type": "display_data"
    },
    {
     "name": "stdout",
     "output_type": "stream",
     "text": [
      "Done detecting all the insects and saving cropped versions.\n",
      "Double-checking for faulty detections...\n",
      "Found 5 potentially faulty crops. Moved them to the potentially_faulty folder.\n",
      "--------\n",
      "Classifying crops now.\n",
      "The tree of life is growing: running BioClip algorithm for image classification now...\n",
      "Classified all images up to family-level\n",
      "--------\n",
      "Done classifying the insects. Measuring body lengths now...\n",
      "Length measurements ran clean\n",
      "--------\n",
      "Done measuring. Annotating all results onto cropped images now...\n",
      "--------\n",
      "Done with day! No length Errors occured :)\n",
      "Elapsed time: 15.37 minutes \n",
      "Time per Image: 4.48 seconds\n"
     ]
    },
    {
     "data": {
      "application/vnd.jupyter.widget-view+json": {
       "model_id": "eeeeff6365ec4fbba06558c39f94bab9",
       "version_major": 2,
       "version_minor": 0
      },
      "text/plain": [
       "20240801:   0%|          | 0/223 [00:00<?, ?it/s]"
      ]
     },
     "metadata": {},
     "output_type": "display_data"
    },
    {
     "name": "stdout",
     "output_type": "stream",
     "text": [
      "Done detecting all the insects and saving cropped versions.\n",
      "Double-checking for faulty detections...\n",
      "All crops seem to be insects :)\n",
      "--------\n",
      "Classifying crops now.\n",
      "The tree of life is growing: running BioClip algorithm for image classification now...\n",
      "Classified all images up to family-level\n",
      "--------\n",
      "Done classifying the insects. Measuring body lengths now...\n",
      "Length measurements ran clean\n",
      "--------\n",
      "Done measuring. Annotating all results onto cropped images now...\n",
      "--------\n",
      "Done with day! No length Errors occured :)\n",
      "Elapsed time: 19.65 minutes \n",
      "Time per Image: 5.29 seconds\n"
     ]
    },
    {
     "data": {
      "application/vnd.jupyter.widget-view+json": {
       "model_id": "a1f2eee21ba941a68163d8332fcb3c8e",
       "version_major": 2,
       "version_minor": 0
      },
      "text/plain": [
       "20240802:   0%|          | 0/377 [00:00<?, ?it/s]"
      ]
     },
     "metadata": {},
     "output_type": "display_data"
    },
    {
     "name": "stdout",
     "output_type": "stream",
     "text": [
      "Done detecting all the insects and saving cropped versions.\n",
      "Double-checking for faulty detections...\n",
      "Found 12 potentially faulty crops. Moved them to the potentially_faulty folder.\n",
      "--------\n",
      "Classifying crops now.\n",
      "The tree of life is growing: running BioClip algorithm for image classification now...\n",
      "Classified all images up to family-level\n",
      "--------\n",
      "Done classifying the insects. Measuring body lengths now...\n",
      "Length measurements ran clean\n",
      "--------\n",
      "Done measuring. Annotating all results onto cropped images now...\n",
      "--------\n",
      "Done with day! No length Errors occured :)\n",
      "Elapsed time: 34.44 minutes \n",
      "Time per Image: 5.48 seconds\n"
     ]
    },
    {
     "data": {
      "application/vnd.jupyter.widget-view+json": {
       "model_id": "a7f79cd279f241158f89e2a46afc4bb5",
       "version_major": 2,
       "version_minor": 0
      },
      "text/plain": [
       "20240803:   0%|          | 0/242 [00:00<?, ?it/s]"
      ]
     },
     "metadata": {},
     "output_type": "display_data"
    },
    {
     "name": "stdout",
     "output_type": "stream",
     "text": [
      "Done detecting all the insects and saving cropped versions.\n",
      "Double-checking for faulty detections...\n",
      "Found 5 potentially faulty crops. Moved them to the potentially_faulty folder.\n",
      "--------\n",
      "Classifying crops now.\n",
      "The tree of life is growing: running BioClip algorithm for image classification now...\n",
      "Classified all images up to family-level\n",
      "--------\n",
      "Done classifying the insects. Measuring body lengths now...\n",
      "Length measurements ran clean\n",
      "--------\n",
      "Done measuring. Annotating all results onto cropped images now...\n",
      "--------\n",
      "Done with day! No length Errors occured :)\n",
      "Elapsed time: 21.32 minutes \n",
      "Time per Image: 5.29 seconds\n"
     ]
    },
    {
     "data": {
      "application/vnd.jupyter.widget-view+json": {
       "model_id": "eadf103562654b499eb2e32cb76dbbef",
       "version_major": 2,
       "version_minor": 0
      },
      "text/plain": [
       "20240804:   0%|          | 0/189 [00:00<?, ?it/s]"
      ]
     },
     "metadata": {},
     "output_type": "display_data"
    },
    {
     "name": "stdout",
     "output_type": "stream",
     "text": [
      "Done detecting all the insects and saving cropped versions.\n",
      "Double-checking for faulty detections...\n",
      "Found 7 potentially faulty crops. Moved them to the potentially_faulty folder.\n",
      "--------\n",
      "Classifying crops now.\n",
      "The tree of life is growing: running BioClip algorithm for image classification now...\n",
      "Classified all images up to family-level\n",
      "--------\n",
      "Done classifying the insects. Measuring body lengths now...\n",
      "Length measurements ran clean\n",
      "--------\n",
      "Done measuring. Annotating all results onto cropped images now...\n",
      "--------\n",
      "Done with day! No length Errors occured :)\n",
      "Elapsed time: 14.28 minutes \n",
      "Time per Image: 4.53 seconds\n"
     ]
    },
    {
     "data": {
      "application/vnd.jupyter.widget-view+json": {
       "model_id": "d67883accdb34f89ae31aa40c8e573f3",
       "version_major": 2,
       "version_minor": 0
      },
      "text/plain": [
       "20240805:   0%|          | 0/219 [00:00<?, ?it/s]"
      ]
     },
     "metadata": {},
     "output_type": "display_data"
    },
    {
     "name": "stdout",
     "output_type": "stream",
     "text": [
      "Done detecting all the insects and saving cropped versions.\n",
      "Double-checking for faulty detections...\n",
      "Found 9 potentially faulty crops. Moved them to the potentially_faulty folder.\n",
      "--------\n",
      "Classifying crops now.\n",
      "The tree of life is growing: running BioClip algorithm for image classification now...\n",
      "Classified all images up to family-level\n",
      "--------\n",
      "Done classifying the insects. Measuring body lengths now...\n",
      "Length measurements ran clean\n",
      "--------\n",
      "Done measuring. Annotating all results onto cropped images now...\n",
      "--------\n",
      "Done with day! No length Errors occured :)\n",
      "Elapsed time: 16.85 minutes \n",
      "Time per Image: 4.62 seconds\n"
     ]
    },
    {
     "data": {
      "application/vnd.jupyter.widget-view+json": {
       "model_id": "4add989138df4075a5097144492d5737",
       "version_major": 2,
       "version_minor": 0
      },
      "text/plain": [
       "20240806:   0%|          | 0/233 [00:00<?, ?it/s]"
      ]
     },
     "metadata": {},
     "output_type": "display_data"
    },
    {
     "name": "stdout",
     "output_type": "stream",
     "text": [
      "Done detecting all the insects and saving cropped versions.\n",
      "Double-checking for faulty detections...\n",
      "Found 12 potentially faulty crops. Moved them to the potentially_faulty folder.\n",
      "--------\n",
      "Classifying crops now.\n",
      "The tree of life is growing: running BioClip algorithm for image classification now...\n",
      "Classified all images up to family-level\n",
      "--------\n",
      "Done classifying the insects. Measuring body lengths now...\n",
      "Length measurements ran clean\n",
      "--------\n",
      "Done measuring. Annotating all results onto cropped images now...\n",
      "--------\n",
      "Done with day! No length Errors occured :)\n",
      "Elapsed time: 20.06 minutes \n",
      "Time per Image: 5.17 seconds\n"
     ]
    },
    {
     "data": {
      "application/vnd.jupyter.widget-view+json": {
       "model_id": "f4c0b9f2c55d4654839020502fc447c9",
       "version_major": 2,
       "version_minor": 0
      },
      "text/plain": [
       "20240807:   0%|          | 0/404 [00:00<?, ?it/s]"
      ]
     },
     "metadata": {},
     "output_type": "display_data"
    },
    {
     "name": "stdout",
     "output_type": "stream",
     "text": [
      "Done detecting all the insects and saving cropped versions.\n",
      "Double-checking for faulty detections...\n",
      "Found 14 potentially faulty crops. Moved them to the potentially_faulty folder.\n",
      "--------\n",
      "Classifying crops now.\n",
      "The tree of life is growing: running BioClip algorithm for image classification now...\n",
      "Classified all images up to family-level\n",
      "--------\n",
      "Done classifying the insects. Measuring body lengths now...\n",
      "Length measurements ran clean\n",
      "--------\n",
      "Done measuring. Annotating all results onto cropped images now...\n",
      "--------\n",
      "Done with day! No length Errors occured :)\n",
      "Elapsed time: 39.06 minutes \n",
      "Time per Image: 5.80 seconds\n"
     ]
    },
    {
     "data": {
      "application/vnd.jupyter.widget-view+json": {
       "model_id": "c1594481e3dd4c15ab26b00dc0864884",
       "version_major": 2,
       "version_minor": 0
      },
      "text/plain": [
       "20240808:   0%|          | 0/226 [00:00<?, ?it/s]"
      ]
     },
     "metadata": {},
     "output_type": "display_data"
    },
    {
     "name": "stdout",
     "output_type": "stream",
     "text": [
      "Done detecting all the insects and saving cropped versions.\n",
      "Double-checking for faulty detections...\n",
      "Found 5 potentially faulty crops. Moved them to the potentially_faulty folder.\n",
      "--------\n",
      "Classifying crops now.\n",
      "The tree of life is growing: running BioClip algorithm for image classification now...\n",
      "Classified all images up to family-level\n",
      "--------\n",
      "Done classifying the insects. Measuring body lengths now...\n",
      "Length measurements ran clean\n",
      "--------\n",
      "Done measuring. Annotating all results onto cropped images now...\n",
      "--------\n",
      "Done with day! No length Errors occured :)\n",
      "Elapsed time: 18.43 minutes \n",
      "Time per Image: 4.89 seconds\n"
     ]
    },
    {
     "data": {
      "application/vnd.jupyter.widget-view+json": {
       "model_id": "b2f53bb833594649835e0975bcb3ed49",
       "version_major": 2,
       "version_minor": 0
      },
      "text/plain": [
       "20240809:   0%|          | 0/239 [00:00<?, ?it/s]"
      ]
     },
     "metadata": {},
     "output_type": "display_data"
    },
    {
     "name": "stdout",
     "output_type": "stream",
     "text": [
      "Done detecting all the insects and saving cropped versions.\n",
      "Double-checking for faulty detections...\n",
      "Found 5 potentially faulty crops. Moved them to the potentially_faulty folder.\n",
      "--------\n",
      "Classifying crops now.\n",
      "The tree of life is growing: running BioClip algorithm for image classification now...\n",
      "Classified all images up to family-level\n",
      "--------\n",
      "Done classifying the insects. Measuring body lengths now...\n",
      "Length measurements ran clean\n",
      "--------\n",
      "Done measuring. Annotating all results onto cropped images now...\n",
      "--------\n",
      "Done with day! No length Errors occured :)\n",
      "Elapsed time: 18.75 minutes \n",
      "Time per Image: 4.71 seconds\n"
     ]
    },
    {
     "data": {
      "application/vnd.jupyter.widget-view+json": {
       "model_id": "bc2be8af351b4cd9a0f9b32f70021118",
       "version_major": 2,
       "version_minor": 0
      },
      "text/plain": [
       "20240810:   0%|          | 0/208 [00:00<?, ?it/s]"
      ]
     },
     "metadata": {},
     "output_type": "display_data"
    },
    {
     "name": "stdout",
     "output_type": "stream",
     "text": [
      "Done detecting all the insects and saving cropped versions.\n",
      "Double-checking for faulty detections...\n",
      "Found 4 potentially faulty crops. Moved them to the potentially_faulty folder.\n",
      "--------\n",
      "Classifying crops now.\n",
      "The tree of life is growing: running BioClip algorithm for image classification now...\n",
      "Classified all images up to family-level\n",
      "--------\n",
      "Done classifying the insects. Measuring body lengths now...\n",
      "Length measurements ran clean\n",
      "--------\n",
      "Done measuring. Annotating all results onto cropped images now...\n",
      "--------\n",
      "Done with day! No length Errors occured :)\n",
      "Elapsed time: 15.66 minutes \n",
      "Time per Image: 4.52 seconds\n"
     ]
    },
    {
     "data": {
      "application/vnd.jupyter.widget-view+json": {
       "model_id": "9e7e46a05620489b9b7fa6d427ff9ea2",
       "version_major": 2,
       "version_minor": 0
      },
      "text/plain": [
       "20240811:   0%|          | 0/225 [00:00<?, ?it/s]"
      ]
     },
     "metadata": {},
     "output_type": "display_data"
    },
    {
     "name": "stdout",
     "output_type": "stream",
     "text": [
      "Done detecting all the insects and saving cropped versions.\n",
      "Double-checking for faulty detections...\n",
      "Found 10 potentially faulty crops. Moved them to the potentially_faulty folder.\n",
      "--------\n",
      "Classifying crops now.\n",
      "The tree of life is growing: running BioClip algorithm for image classification now...\n",
      "Classified all images up to family-level\n",
      "--------\n",
      "Done classifying the insects. Measuring body lengths now...\n",
      "Length measurements ran clean\n",
      "--------\n",
      "Done measuring. Annotating all results onto cropped images now...\n",
      "--------\n",
      "Done with day! No length Errors occured :)\n",
      "Elapsed time: 18.49 minutes \n",
      "Time per Image: 4.93 seconds\n"
     ]
    },
    {
     "data": {
      "application/vnd.jupyter.widget-view+json": {
       "model_id": "4580fa17d12e4a3a8279d676daca2aa8",
       "version_major": 2,
       "version_minor": 0
      },
      "text/plain": [
       "20240812:   0%|          | 0/219 [00:00<?, ?it/s]"
      ]
     },
     "metadata": {},
     "output_type": "display_data"
    },
    {
     "name": "stdout",
     "output_type": "stream",
     "text": [
      "Done detecting all the insects and saving cropped versions.\n",
      "Double-checking for faulty detections...\n",
      "Found 3 potentially faulty crops. Moved them to the potentially_faulty folder.\n",
      "--------\n",
      "Classifying crops now.\n",
      "The tree of life is growing: running BioClip algorithm for image classification now...\n",
      "Classified all images up to family-level\n",
      "--------\n",
      "Done classifying the insects. Measuring body lengths now...\n",
      "Length measurements ran clean\n",
      "--------\n",
      "Done measuring. Annotating all results onto cropped images now...\n",
      "--------\n",
      "Done with day! No length Errors occured :)\n",
      "Elapsed time: 15.51 minutes \n",
      "Time per Image: 4.25 seconds\n"
     ]
    },
    {
     "data": {
      "application/vnd.jupyter.widget-view+json": {
       "model_id": "ee103c9ca1524e54a5c22e4a7ddcb947",
       "version_major": 2,
       "version_minor": 0
      },
      "text/plain": [
       "20240813:   0%|          | 0/336 [00:00<?, ?it/s]"
      ]
     },
     "metadata": {},
     "output_type": "display_data"
    },
    {
     "name": "stdout",
     "output_type": "stream",
     "text": [
      "Done detecting all the insects and saving cropped versions.\n",
      "Double-checking for faulty detections...\n",
      "Found 6 potentially faulty crops. Moved them to the potentially_faulty folder.\n",
      "--------\n",
      "Classifying crops now.\n",
      "The tree of life is growing: running BioClip algorithm for image classification now...\n",
      "Classified all images up to family-level\n",
      "--------\n",
      "Done classifying the insects. Measuring body lengths now...\n",
      "Length measurements ran clean\n",
      "--------\n",
      "Done measuring. Annotating all results onto cropped images now...\n",
      "--------\n",
      "Done with day! No length Errors occured :)\n",
      "Elapsed time: 35.41 minutes \n",
      "Time per Image: 6.32 seconds\n"
     ]
    },
    {
     "data": {
      "application/vnd.jupyter.widget-view+json": {
       "model_id": "fe67d8045f6c460daf9e51792a75a670",
       "version_major": 2,
       "version_minor": 0
      },
      "text/plain": [
       "20240814:   0%|          | 0/448 [00:00<?, ?it/s]"
      ]
     },
     "metadata": {},
     "output_type": "display_data"
    },
    {
     "name": "stdout",
     "output_type": "stream",
     "text": [
      "Done detecting all the insects and saving cropped versions.\n",
      "Double-checking for faulty detections...\n",
      "Found 29 potentially faulty crops. Moved them to the potentially_faulty folder.\n",
      "--------\n",
      "Classifying crops now.\n",
      "The tree of life is growing: running BioClip algorithm for image classification now...\n",
      "Classified all images up to family-level\n",
      "--------\n",
      "Done classifying the insects. Measuring body lengths now...\n",
      "Length measurements ran clean\n",
      "--------\n",
      "Done measuring. Annotating all results onto cropped images now...\n",
      "--------\n",
      "Done with day! No length Errors occured :)\n",
      "Elapsed time: 48.34 minutes \n",
      "Time per Image: 6.47 seconds\n"
     ]
    },
    {
     "data": {
      "application/vnd.jupyter.widget-view+json": {
       "model_id": "f29e89da285c4f25bf24a34db0b793c2",
       "version_major": 2,
       "version_minor": 0
      },
      "text/plain": [
       "20240815:   0%|          | 0/566 [00:00<?, ?it/s]"
      ]
     },
     "metadata": {},
     "output_type": "display_data"
    },
    {
     "name": "stdout",
     "output_type": "stream",
     "text": [
      "Image is truncated or corrupted: /Users/rentaluser/Desktop/DIOPSIS-383/photos/20240815/20240815221350.jpg - cannot identify image file '/Users/rentaluser/Desktop/DIOPSIS-383/photos/20240815/20240815221350.jpg'\n",
      "Skipping this image.\n",
      "Done detecting all the insects and saving cropped versions.\n",
      "Double-checking for faulty detections...\n",
      "Found 27 potentially faulty crops. Moved them to the potentially_faulty folder.\n",
      "--------\n",
      "Classifying crops now.\n",
      "The tree of life is growing: running BioClip algorithm for image classification now...\n",
      "Classified all images up to family-level\n",
      "--------\n",
      "Done classifying the insects. Measuring body lengths now...\n",
      "Length measurements ran clean\n",
      "--------\n",
      "Done measuring. Annotating all results onto cropped images now...\n",
      "--------\n",
      "Done with day! No length Errors occured :)\n",
      "Elapsed time: 63.98 minutes \n",
      "Time per Image: 6.78 seconds\n"
     ]
    },
    {
     "data": {
      "application/vnd.jupyter.widget-view+json": {
       "model_id": "fbc467c26f0241c780679214150ae660",
       "version_major": 2,
       "version_minor": 0
      },
      "text/plain": [
       "20240816:   0%|          | 0/477 [00:00<?, ?it/s]"
      ]
     },
     "metadata": {},
     "output_type": "display_data"
    },
    {
     "name": "stdout",
     "output_type": "stream",
     "text": [
      "Image is truncated or corrupted: /Users/rentaluser/Desktop/DIOPSIS-383/photos/20240816/20240816235929.jpg - image file is truncated (20 bytes not processed)\n",
      "Skipping this image.\n",
      "Done detecting all the insects and saving cropped versions.\n",
      "Double-checking for faulty detections...\n",
      "Found 6 potentially faulty crops. Moved them to the potentially_faulty folder.\n",
      "--------\n",
      "Classifying crops now.\n",
      "The tree of life is growing: running BioClip algorithm for image classification now...\n",
      "Classified all images up to family-level\n",
      "--------\n",
      "Done classifying the insects. Measuring body lengths now...\n",
      "Length measurements ran clean\n",
      "--------\n",
      "Done measuring. Annotating all results onto cropped images now...\n",
      "--------\n",
      "Done with day! No length Errors occured :)\n",
      "Elapsed time: 50.92 minutes \n",
      "Time per Image: 6.41 seconds\n"
     ]
    },
    {
     "data": {
      "application/vnd.jupyter.widget-view+json": {
       "model_id": "2c9ddad59dd349039ec7690fe45ffd13",
       "version_major": 2,
       "version_minor": 0
      },
      "text/plain": [
       "20240817:   0%|          | 0/374 [00:00<?, ?it/s]"
      ]
     },
     "metadata": {},
     "output_type": "display_data"
    },
    {
     "name": "stdout",
     "output_type": "stream",
     "text": [
      "Done detecting all the insects and saving cropped versions.\n",
      "Double-checking for faulty detections...\n",
      "Found 16 potentially faulty crops. Moved them to the potentially_faulty folder.\n",
      "--------\n",
      "Classifying crops now.\n",
      "The tree of life is growing: running BioClip algorithm for image classification now...\n",
      "Classified all images up to family-level\n",
      "--------\n",
      "Done classifying the insects. Measuring body lengths now...\n",
      "Length measurements ran clean\n",
      "--------\n",
      "Done measuring. Annotating all results onto cropped images now...\n",
      "--------\n",
      "Done with day! No length Errors occured :)\n",
      "Elapsed time: 37.95 minutes \n",
      "Time per Image: 6.09 seconds\n"
     ]
    },
    {
     "data": {
      "application/vnd.jupyter.widget-view+json": {
       "model_id": "e92280c722814db4937b4e596469fd72",
       "version_major": 2,
       "version_minor": 0
      },
      "text/plain": [
       "20240818:   0%|          | 0/186 [00:00<?, ?it/s]"
      ]
     },
     "metadata": {},
     "output_type": "display_data"
    },
    {
     "name": "stdout",
     "output_type": "stream",
     "text": [
      "Done detecting all the insects and saving cropped versions.\n",
      "Double-checking for faulty detections...\n",
      "All crops seem to be insects :)\n",
      "--------\n",
      "Classifying crops now.\n",
      "The tree of life is growing: running BioClip algorithm for image classification now...\n",
      "Classified all images up to family-level\n",
      "--------\n",
      "Done classifying the insects. Measuring body lengths now...\n",
      "Length measurements ran clean\n",
      "--------\n",
      "Done measuring. Annotating all results onto cropped images now...\n",
      "--------\n",
      "Done with day! No length Errors occured :)\n",
      "Elapsed time: 12.96 minutes \n",
      "Time per Image: 4.18 seconds\n"
     ]
    },
    {
     "data": {
      "application/vnd.jupyter.widget-view+json": {
       "model_id": "a0ba95996fd740598a1d9799d30cbe8d",
       "version_major": 2,
       "version_minor": 0
      },
      "text/plain": [
       "20240819:   0%|          | 0/420 [00:00<?, ?it/s]"
      ]
     },
     "metadata": {},
     "output_type": "display_data"
    },
    {
     "name": "stdout",
     "output_type": "stream",
     "text": [
      "Done detecting all the insects and saving cropped versions.\n",
      "Double-checking for faulty detections...\n",
      "Found 34 potentially faulty crops. Moved them to the potentially_faulty folder.\n",
      "--------\n",
      "Classifying crops now.\n",
      "The tree of life is growing: running BioClip algorithm for image classification now...\n",
      "Classified all images up to family-level\n",
      "--------\n",
      "Done classifying the insects. Measuring body lengths now...\n",
      "Length measurements ran clean\n",
      "--------\n",
      "Done measuring. Annotating all results onto cropped images now...\n",
      "--------\n",
      "Done with day! No length Errors occured :)\n",
      "Elapsed time: 44.38 minutes \n",
      "Time per Image: 6.34 seconds\n"
     ]
    },
    {
     "data": {
      "application/vnd.jupyter.widget-view+json": {
       "model_id": "ed213df39d9d4b4582eb0fd65e9639ea",
       "version_major": 2,
       "version_minor": 0
      },
      "text/plain": [
       "20240820:   0%|          | 0/380 [00:00<?, ?it/s]"
      ]
     },
     "metadata": {},
     "output_type": "display_data"
    },
    {
     "name": "stdout",
     "output_type": "stream",
     "text": [
      "Done detecting all the insects and saving cropped versions.\n",
      "Double-checking for faulty detections...\n",
      "Found 17 potentially faulty crops. Moved them to the potentially_faulty folder.\n",
      "--------\n",
      "Classifying crops now.\n",
      "The tree of life is growing: running BioClip algorithm for image classification now...\n",
      "Classified all images up to family-level\n",
      "--------\n",
      "Done classifying the insects. Measuring body lengths now...\n",
      "Length measurements ran clean\n",
      "--------\n",
      "Done measuring. Annotating all results onto cropped images now...\n",
      "--------\n",
      "Done with day! No length Errors occured :)\n",
      "Elapsed time: 42.47 minutes \n",
      "Time per Image: 6.71 seconds\n"
     ]
    },
    {
     "data": {
      "application/vnd.jupyter.widget-view+json": {
       "model_id": "3a9d579f3fc742c49cf8384046deba5c",
       "version_major": 2,
       "version_minor": 0
      },
      "text/plain": [
       "20240821:   0%|          | 0/447 [00:00<?, ?it/s]"
      ]
     },
     "metadata": {},
     "output_type": "display_data"
    },
    {
     "name": "stdout",
     "output_type": "stream",
     "text": [
      "Done detecting all the insects and saving cropped versions.\n",
      "Double-checking for faulty detections...\n",
      "Found 13 potentially faulty crops. Moved them to the potentially_faulty folder.\n",
      "--------\n",
      "Classifying crops now.\n",
      "The tree of life is growing: running BioClip algorithm for image classification now...\n",
      "Classified all images up to family-level\n",
      "--------\n",
      "Done classifying the insects. Measuring body lengths now...\n",
      "Length measurements ran clean\n",
      "--------\n",
      "Done measuring. Annotating all results onto cropped images now...\n",
      "--------\n",
      "Done with day! No length Errors occured :)\n",
      "Elapsed time: 48.16 minutes \n",
      "Time per Image: 6.46 seconds\n"
     ]
    },
    {
     "data": {
      "application/vnd.jupyter.widget-view+json": {
       "model_id": "2d08c6b181f4424e98446022e945ac54",
       "version_major": 2,
       "version_minor": 0
      },
      "text/plain": [
       "20240822:   0%|          | 0/267 [00:00<?, ?it/s]"
      ]
     },
     "metadata": {},
     "output_type": "display_data"
    },
    {
     "name": "stdout",
     "output_type": "stream",
     "text": [
      "Done detecting all the insects and saving cropped versions.\n",
      "Double-checking for faulty detections...\n",
      "Found 5 potentially faulty crops. Moved them to the potentially_faulty folder.\n",
      "--------\n",
      "Classifying crops now.\n",
      "The tree of life is growing: running BioClip algorithm for image classification now...\n",
      "Classified all images up to family-level\n",
      "--------\n",
      "Done classifying the insects. Measuring body lengths now...\n",
      "Length measurements ran clean\n",
      "--------\n",
      "Done measuring. Annotating all results onto cropped images now...\n",
      "--------\n",
      "Done with day! No length Errors occured :)\n",
      "Elapsed time: 26.04 minutes \n",
      "Time per Image: 5.85 seconds\n"
     ]
    },
    {
     "data": {
      "application/vnd.jupyter.widget-view+json": {
       "model_id": "fc2ad00a6164426c9a7ddfcde5e4c992",
       "version_major": 2,
       "version_minor": 0
      },
      "text/plain": [
       "20240823:   0%|          | 0/409 [00:00<?, ?it/s]"
      ]
     },
     "metadata": {},
     "output_type": "display_data"
    },
    {
     "name": "stdout",
     "output_type": "stream",
     "text": [
      "Image is truncated or corrupted: /Users/rentaluser/Desktop/DIOPSIS-383/photos/20240823/20240823092713.jpg - image file is truncated (77 bytes not processed)\n",
      "Skipping this image.\n",
      "Image is truncated or corrupted: /Users/rentaluser/Desktop/DIOPSIS-383/photos/20240823/20240823160358.jpg - cannot identify image file '/Users/rentaluser/Desktop/DIOPSIS-383/photos/20240823/20240823160358.jpg'\n",
      "Skipping this image.\n",
      "Image is truncated or corrupted: /Users/rentaluser/Desktop/DIOPSIS-383/photos/20240823/20240823204228.jpg - cannot identify image file '/Users/rentaluser/Desktop/DIOPSIS-383/photos/20240823/20240823204228.jpg'\n",
      "Skipping this image.\n",
      "Image is truncated or corrupted: /Users/rentaluser/Desktop/DIOPSIS-383/photos/20240823/20240823210955.jpg - cannot identify image file '/Users/rentaluser/Desktop/DIOPSIS-383/photos/20240823/20240823210955.jpg'\n",
      "Skipping this image.\n",
      "Image is truncated or corrupted: /Users/rentaluser/Desktop/DIOPSIS-383/photos/20240823/20240823212444.jpg - cannot identify image file '/Users/rentaluser/Desktop/DIOPSIS-383/photos/20240823/20240823212444.jpg'\n",
      "Skipping this image.\n",
      "Image is truncated or corrupted: /Users/rentaluser/Desktop/DIOPSIS-383/photos/20240823/20240823214722.jpg - cannot identify image file '/Users/rentaluser/Desktop/DIOPSIS-383/photos/20240823/20240823214722.jpg'\n",
      "Skipping this image.\n",
      "Image is truncated or corrupted: /Users/rentaluser/Desktop/DIOPSIS-383/photos/20240823/20240823215923.jpg - cannot identify image file '/Users/rentaluser/Desktop/DIOPSIS-383/photos/20240823/20240823215923.jpg'\n",
      "Skipping this image.\n",
      "Image is truncated or corrupted: /Users/rentaluser/Desktop/DIOPSIS-383/photos/20240823/20240823220449.jpg - cannot identify image file '/Users/rentaluser/Desktop/DIOPSIS-383/photos/20240823/20240823220449.jpg'\n",
      "Skipping this image.\n",
      "Image is truncated or corrupted: /Users/rentaluser/Desktop/DIOPSIS-383/photos/20240823/20240823222416.jpg - cannot identify image file '/Users/rentaluser/Desktop/DIOPSIS-383/photos/20240823/20240823222416.jpg'\n",
      "Skipping this image.\n",
      "Image is truncated or corrupted: /Users/rentaluser/Desktop/DIOPSIS-383/photos/20240823/20240823225623.jpg - cannot identify image file '/Users/rentaluser/Desktop/DIOPSIS-383/photos/20240823/20240823225623.jpg'\n",
      "Skipping this image.\n",
      "Image is truncated or corrupted: /Users/rentaluser/Desktop/DIOPSIS-383/photos/20240823/20240823225708.jpg - cannot identify image file '/Users/rentaluser/Desktop/DIOPSIS-383/photos/20240823/20240823225708.jpg'\n",
      "Skipping this image.\n",
      "Image is truncated or corrupted: /Users/rentaluser/Desktop/DIOPSIS-383/photos/20240823/20240823230505.jpg - cannot identify image file '/Users/rentaluser/Desktop/DIOPSIS-383/photos/20240823/20240823230505.jpg'\n",
      "Skipping this image.\n",
      "Image is truncated or corrupted: /Users/rentaluser/Desktop/DIOPSIS-383/photos/20240823/20240823230927.jpg - cannot identify image file '/Users/rentaluser/Desktop/DIOPSIS-383/photos/20240823/20240823230927.jpg'\n",
      "Skipping this image.\n",
      "Done detecting all the insects and saving cropped versions.\n",
      "Double-checking for faulty detections...\n",
      "Found 19 potentially faulty crops. Moved them to the potentially_faulty folder.\n",
      "--------\n",
      "Classifying crops now.\n",
      "The tree of life is growing: running BioClip algorithm for image classification now...\n",
      "Classified all images up to family-level\n",
      "--------\n",
      "Done classifying the insects. Measuring body lengths now...\n",
      "Length measurements ran clean\n",
      "--------\n",
      "Done measuring. Annotating all results onto cropped images now...\n",
      "--------\n",
      "Done with day! No length Errors occured :)\n",
      "Elapsed time: 42.50 minutes \n",
      "Time per Image: 6.24 seconds\n"
     ]
    },
    {
     "data": {
      "application/vnd.jupyter.widget-view+json": {
       "model_id": "1058290e6740440fa3a899e72c7bc968",
       "version_major": 2,
       "version_minor": 0
      },
      "text/plain": [
       "20240824:   0%|          | 0/426 [00:00<?, ?it/s]"
      ]
     },
     "metadata": {},
     "output_type": "display_data"
    },
    {
     "name": "stdout",
     "output_type": "stream",
     "text": [
      "Image is truncated or corrupted: /Users/rentaluser/Desktop/DIOPSIS-383/photos/20240824/20240824233358.jpg - cannot identify image file '/Users/rentaluser/Desktop/DIOPSIS-383/photos/20240824/20240824233358.jpg'\n",
      "Skipping this image.\n",
      "Done detecting all the insects and saving cropped versions.\n",
      "Double-checking for faulty detections...\n",
      "Found 14 potentially faulty crops. Moved them to the potentially_faulty folder.\n",
      "--------\n",
      "Classifying crops now.\n",
      "The tree of life is growing: running BioClip algorithm for image classification now...\n",
      "Classified all images up to family-level\n",
      "--------\n",
      "Done classifying the insects. Measuring body lengths now...\n",
      "Length measurements ran clean\n",
      "--------\n",
      "Done measuring. Annotating all results onto cropped images now...\n",
      "--------\n",
      "Done with day! No length Errors occured :)\n",
      "Elapsed time: 46.18 minutes \n",
      "Time per Image: 6.50 seconds\n"
     ]
    },
    {
     "data": {
      "application/vnd.jupyter.widget-view+json": {
       "model_id": "6df8d18490524516ab4fac26adbf9fc8",
       "version_major": 2,
       "version_minor": 0
      },
      "text/plain": [
       "20240825:   0%|          | 0/287 [00:00<?, ?it/s]"
      ]
     },
     "metadata": {},
     "output_type": "display_data"
    },
    {
     "name": "stdout",
     "output_type": "stream",
     "text": [
      "Image is truncated or corrupted: /Users/rentaluser/Desktop/DIOPSIS-383/photos/20240825/20240825100842.jpg - cannot identify image file '/Users/rentaluser/Desktop/DIOPSIS-383/photos/20240825/20240825100842.jpg'\n",
      "Skipping this image.\n",
      "Done detecting all the insects and saving cropped versions.\n",
      "Double-checking for faulty detections...\n",
      "Found 1 potentially faulty crops. Moved them to the potentially_faulty folder.\n",
      "--------\n",
      "Classifying crops now.\n",
      "The tree of life is growing: running BioClip algorithm for image classification now...\n",
      "Classified all images up to family-level\n",
      "--------\n",
      "Done classifying the insects. Measuring body lengths now...\n",
      "Length measurements ran clean\n",
      "--------\n",
      "Done measuring. Annotating all results onto cropped images now...\n",
      "--------\n",
      "Done with day! No length Errors occured :)\n",
      "Elapsed time: 27.12 minutes \n",
      "Time per Image: 5.67 seconds\n"
     ]
    },
    {
     "data": {
      "application/vnd.jupyter.widget-view+json": {
       "model_id": "9d714f02f0a64d38a175f6eb67f4900d",
       "version_major": 2,
       "version_minor": 0
      },
      "text/plain": [
       "20240826:   0%|          | 0/305 [00:00<?, ?it/s]"
      ]
     },
     "metadata": {},
     "output_type": "display_data"
    },
    {
     "name": "stdout",
     "output_type": "stream",
     "text": [
      "Done detecting all the insects and saving cropped versions.\n",
      "Double-checking for faulty detections...\n",
      "Found 5 potentially faulty crops. Moved them to the potentially_faulty folder.\n",
      "--------\n",
      "Classifying crops now.\n",
      "The tree of life is growing: running BioClip algorithm for image classification now...\n",
      "Classified all images up to family-level\n",
      "--------\n",
      "Done classifying the insects. Measuring body lengths now...\n",
      "Length measurements ran clean\n",
      "--------\n",
      "Done measuring. Annotating all results onto cropped images now...\n",
      "--------\n",
      "Done with day! No length Errors occured :)\n",
      "Elapsed time: 28.34 minutes \n",
      "Time per Image: 5.58 seconds\n"
     ]
    },
    {
     "data": {
      "application/vnd.jupyter.widget-view+json": {
       "model_id": "de2be5e0e46f497dbeb64df686b28368",
       "version_major": 2,
       "version_minor": 0
      },
      "text/plain": [
       "20240827:   0%|          | 0/331 [00:00<?, ?it/s]"
      ]
     },
     "metadata": {},
     "output_type": "display_data"
    },
    {
     "name": "stdout",
     "output_type": "stream",
     "text": [
      "Done detecting all the insects and saving cropped versions.\n",
      "Double-checking for faulty detections...\n",
      "Found 14 potentially faulty crops. Moved them to the potentially_faulty folder.\n",
      "--------\n",
      "Classifying crops now.\n",
      "The tree of life is growing: running BioClip algorithm for image classification now...\n",
      "Classified all images up to family-level\n",
      "--------\n",
      "Done classifying the insects. Measuring body lengths now...\n",
      "Length measurements ran clean\n",
      "--------\n",
      "Done measuring. Annotating all results onto cropped images now...\n",
      "--------\n",
      "Done with day! No length Errors occured :)\n",
      "Elapsed time: 31.65 minutes \n",
      "Time per Image: 5.74 seconds\n"
     ]
    },
    {
     "data": {
      "application/vnd.jupyter.widget-view+json": {
       "model_id": "fc9f7ee0c0494834904653d91f3e3e92",
       "version_major": 2,
       "version_minor": 0
      },
      "text/plain": [
       "20240828:   0%|          | 0/480 [00:00<?, ?it/s]"
      ]
     },
     "metadata": {},
     "output_type": "display_data"
    },
    {
     "name": "stdout",
     "output_type": "stream",
     "text": [
      "Done detecting all the insects and saving cropped versions.\n",
      "Double-checking for faulty detections...\n",
      "Found 22 potentially faulty crops. Moved them to the potentially_faulty folder.\n",
      "--------\n",
      "Classifying crops now.\n",
      "The tree of life is growing: running BioClip algorithm for image classification now...\n",
      "Classified all images up to family-level\n",
      "--------\n",
      "Done classifying the insects. Measuring body lengths now...\n",
      "Length measurements ran clean\n",
      "--------\n",
      "Done measuring. Annotating all results onto cropped images now...\n",
      "--------\n",
      "Done with day! No length Errors occured :)\n",
      "Elapsed time: 52.00 minutes \n",
      "Time per Image: 6.50 seconds\n"
     ]
    },
    {
     "data": {
      "application/vnd.jupyter.widget-view+json": {
       "model_id": "a618211d637c4e52a6b0016b0dec8244",
       "version_major": 2,
       "version_minor": 0
      },
      "text/plain": [
       "20240829:   0%|          | 0/608 [00:00<?, ?it/s]"
      ]
     },
     "metadata": {},
     "output_type": "display_data"
    },
    {
     "name": "stdout",
     "output_type": "stream",
     "text": [
      "Done detecting all the insects and saving cropped versions.\n",
      "Double-checking for faulty detections...\n",
      "Found 39 potentially faulty crops. Moved them to the potentially_faulty folder.\n",
      "--------\n",
      "Classifying crops now.\n",
      "The tree of life is growing: running BioClip algorithm for image classification now...\n",
      "Classified all images up to family-level\n",
      "--------\n",
      "Done classifying the insects. Measuring body lengths now...\n",
      "Length measurements ran clean\n",
      "--------\n",
      "Done measuring. Annotating all results onto cropped images now...\n",
      "--------\n",
      "Done with day! No length Errors occured :)\n",
      "Elapsed time: 69.08 minutes \n",
      "Time per Image: 6.82 seconds\n"
     ]
    },
    {
     "data": {
      "application/vnd.jupyter.widget-view+json": {
       "model_id": "6affbdf6348d4d319cb3987c2f4a72de",
       "version_major": 2,
       "version_minor": 0
      },
      "text/plain": [
       "20240830:   0%|          | 0/650 [00:00<?, ?it/s]"
      ]
     },
     "metadata": {},
     "output_type": "display_data"
    },
    {
     "name": "stdout",
     "output_type": "stream",
     "text": [
      "Done detecting all the insects and saving cropped versions.\n",
      "Double-checking for faulty detections...\n",
      "Found 42 potentially faulty crops. Moved them to the potentially_faulty folder.\n",
      "--------\n",
      "Classifying crops now.\n",
      "The tree of life is growing: running BioClip algorithm for image classification now...\n",
      "Classified all images up to family-level\n",
      "--------\n",
      "Done classifying the insects. Measuring body lengths now...\n",
      "Length measurements ran clean\n",
      "--------\n",
      "Done measuring. Annotating all results onto cropped images now...\n",
      "--------\n",
      "Done with day! No length Errors occured :)\n",
      "Elapsed time: 72.18 minutes \n",
      "Time per Image: 6.66 seconds\n"
     ]
    },
    {
     "data": {
      "application/vnd.jupyter.widget-view+json": {
       "model_id": "b967afa71d70429e9a588b23549013bd",
       "version_major": 2,
       "version_minor": 0
      },
      "text/plain": [
       "20240831:   0%|          | 0/513 [00:00<?, ?it/s]"
      ]
     },
     "metadata": {},
     "output_type": "display_data"
    },
    {
     "name": "stdout",
     "output_type": "stream",
     "text": [
      "Done detecting all the insects and saving cropped versions.\n",
      "Double-checking for faulty detections...\n",
      "Found 14 potentially faulty crops. Moved them to the potentially_faulty folder.\n",
      "--------\n",
      "Classifying crops now.\n",
      "The tree of life is growing: running BioClip algorithm for image classification now...\n",
      "Classified all images up to family-level\n",
      "--------\n",
      "Done classifying the insects. Measuring body lengths now...\n",
      "Length measurements ran clean\n",
      "--------\n",
      "Done measuring. Annotating all results onto cropped images now...\n",
      "--------\n",
      "Done with day! No length Errors occured :)\n",
      "Elapsed time: 54.06 minutes \n",
      "Time per Image: 6.32 seconds\n"
     ]
    },
    {
     "data": {
      "application/vnd.jupyter.widget-view+json": {
       "model_id": "6b1e17d5e30f4c7ebaba4b764eaa6fbb",
       "version_major": 2,
       "version_minor": 0
      },
      "text/plain": [
       "20240901:   0%|          | 0/456 [00:00<?, ?it/s]"
      ]
     },
     "metadata": {},
     "output_type": "display_data"
    },
    {
     "name": "stdout",
     "output_type": "stream",
     "text": [
      "Image is truncated or corrupted: /Users/rentaluser/Desktop/DIOPSIS-383/photos/20240901/20240901230906.jpg - cannot identify image file '/Users/rentaluser/Desktop/DIOPSIS-383/photos/20240901/20240901230906.jpg'\n",
      "Skipping this image.\n",
      "Done detecting all the insects and saving cropped versions.\n",
      "Double-checking for faulty detections...\n",
      "Found 14 potentially faulty crops. Moved them to the potentially_faulty folder.\n",
      "--------\n",
      "Classifying crops now.\n",
      "The tree of life is growing: running BioClip algorithm for image classification now...\n",
      "Classified all images up to family-level\n",
      "--------\n",
      "Done classifying the insects. Measuring body lengths now...\n",
      "Length measurements ran clean\n",
      "--------\n",
      "Done measuring. Annotating all results onto cropped images now...\n",
      "--------\n",
      "Done with day! No length Errors occured :)\n",
      "Elapsed time: 45.49 minutes \n",
      "Time per Image: 5.99 seconds\n"
     ]
    },
    {
     "data": {
      "application/vnd.jupyter.widget-view+json": {
       "model_id": "42a73cf2d9544a3188fcd32d777e45b6",
       "version_major": 2,
       "version_minor": 0
      },
      "text/plain": [
       "20240902:   0%|          | 0/187 [00:00<?, ?it/s]"
      ]
     },
     "metadata": {},
     "output_type": "display_data"
    },
    {
     "name": "stdout",
     "output_type": "stream",
     "text": [
      "Image is truncated or corrupted: /Users/rentaluser/Desktop/DIOPSIS-383/photos/20240902/20240902100720.jpg - image file is truncated (1 bytes not processed)\n",
      "Skipping this image.\n",
      "Done detecting all the insects and saving cropped versions.\n",
      "Double-checking for faulty detections...\n",
      "Found 8 potentially faulty crops. Moved them to the potentially_faulty folder.\n",
      "--------\n",
      "Classifying crops now.\n",
      "The tree of life is growing: running BioClip algorithm for image classification now...\n",
      "Classified all images up to family-level\n",
      "--------\n",
      "Done classifying the insects. Measuring body lengths now...\n",
      "Length measurements ran clean\n",
      "--------\n",
      "Done measuring. Annotating all results onto cropped images now...\n",
      "--------\n",
      "Done with day! No length Errors occured :)\n",
      "Elapsed time: 15.83 minutes \n",
      "Time per Image: 5.08 seconds\n"
     ]
    },
    {
     "data": {
      "application/vnd.jupyter.widget-view+json": {
       "model_id": "eb7c68c8daa2447c9cb820908e06cace",
       "version_major": 2,
       "version_minor": 0
      },
      "text/plain": [
       "20240903:   0%|          | 0/420 [00:00<?, ?it/s]"
      ]
     },
     "metadata": {},
     "output_type": "display_data"
    },
    {
     "name": "stdout",
     "output_type": "stream",
     "text": [
      "Done detecting all the insects and saving cropped versions.\n",
      "Double-checking for faulty detections...\n",
      "Found 15 potentially faulty crops. Moved them to the potentially_faulty folder.\n",
      "--------\n",
      "Classifying crops now.\n",
      "The tree of life is growing: running BioClip algorithm for image classification now...\n",
      "Classified all images up to family-level\n",
      "--------\n",
      "Done classifying the insects. Measuring body lengths now...\n",
      "Length measurements ran clean\n",
      "--------\n",
      "Done measuring. Annotating all results onto cropped images now...\n",
      "--------\n",
      "Done with day! No length Errors occured :)\n",
      "Elapsed time: 44.29 minutes \n",
      "Time per Image: 6.33 seconds\n"
     ]
    },
    {
     "data": {
      "application/vnd.jupyter.widget-view+json": {
       "model_id": "13fddc2c42bb460195a11a65986e4eb3",
       "version_major": 2,
       "version_minor": 0
      },
      "text/plain": [
       "20240904:   0%|          | 0/469 [00:00<?, ?it/s]"
      ]
     },
     "metadata": {},
     "output_type": "display_data"
    },
    {
     "name": "stdout",
     "output_type": "stream",
     "text": [
      "Image is truncated or corrupted: /Users/rentaluser/Desktop/DIOPSIS-383/photos/20240904/20240904232835.jpg - cannot identify image file '/Users/rentaluser/Desktop/DIOPSIS-383/photos/20240904/20240904232835.jpg'\n",
      "Skipping this image.\n",
      "Done detecting all the insects and saving cropped versions.\n",
      "Double-checking for faulty detections...\n",
      "Found 43 potentially faulty crops. Moved them to the potentially_faulty folder.\n",
      "--------\n",
      "Classifying crops now.\n",
      "The tree of life is growing: running BioClip algorithm for image classification now...\n",
      "Classified all images up to family-level\n",
      "--------\n",
      "Done classifying the insects. Measuring body lengths now...\n",
      "Length measurements ran clean\n",
      "--------\n",
      "Done measuring. Annotating all results onto cropped images now...\n",
      "--------\n",
      "Done with day! No length Errors occured :)\n",
      "Elapsed time: 47.12 minutes \n",
      "Time per Image: 6.03 seconds\n"
     ]
    },
    {
     "data": {
      "application/vnd.jupyter.widget-view+json": {
       "model_id": "af17d3e9ce5d49968619817b40cc9d54",
       "version_major": 2,
       "version_minor": 0
      },
      "text/plain": [
       "20240905:   0%|          | 0/222 [00:00<?, ?it/s]"
      ]
     },
     "metadata": {},
     "output_type": "display_data"
    },
    {
     "name": "stdout",
     "output_type": "stream",
     "text": [
      "Image is truncated or corrupted: /Users/rentaluser/Desktop/DIOPSIS-383/photos/20240905/20240905100524.jpg - image file is truncated (1 bytes not processed)\n",
      "Skipping this image.\n",
      "Image is truncated or corrupted: /Users/rentaluser/Desktop/DIOPSIS-383/photos/20240905/20240905212458.jpg - image file is truncated (7 bytes not processed)\n",
      "Skipping this image.\n",
      "Done detecting all the insects and saving cropped versions.\n",
      "Double-checking for faulty detections...\n",
      "Found 7 potentially faulty crops. Moved them to the potentially_faulty folder.\n",
      "--------\n",
      "Classifying crops now.\n",
      "The tree of life is growing: running BioClip algorithm for image classification now...\n",
      "Classified all images up to family-level\n",
      "--------\n",
      "Done classifying the insects. Measuring body lengths now...\n",
      "Length measurements ran clean\n",
      "--------\n",
      "Done measuring. Annotating all results onto cropped images now...\n",
      "--------\n",
      "Done with day! No length Errors occured :)\n",
      "Elapsed time: 19.74 minutes \n",
      "Time per Image: 5.34 seconds\n"
     ]
    },
    {
     "data": {
      "application/vnd.jupyter.widget-view+json": {
       "model_id": "cf15426985c04c62844375367a6af2ed",
       "version_major": 2,
       "version_minor": 0
      },
      "text/plain": [
       "20240906:   0%|          | 0/238 [00:00<?, ?it/s]"
      ]
     },
     "metadata": {},
     "output_type": "display_data"
    },
    {
     "name": "stdout",
     "output_type": "stream",
     "text": [
      "Done detecting all the insects and saving cropped versions.\n",
      "Double-checking for faulty detections...\n",
      "Found 21 potentially faulty crops. Moved them to the potentially_faulty folder.\n",
      "--------\n",
      "Classifying crops now.\n",
      "The tree of life is growing: running BioClip algorithm for image classification now...\n",
      "Classified all images up to family-level\n",
      "--------\n",
      "Done classifying the insects. Measuring body lengths now...\n",
      "Length measurements ran clean\n",
      "--------\n",
      "Done measuring. Annotating all results onto cropped images now...\n",
      "--------\n",
      "Done with day! No length Errors occured :)\n",
      "Elapsed time: 22.23 minutes \n",
      "Time per Image: 5.60 seconds\n"
     ]
    },
    {
     "data": {
      "application/vnd.jupyter.widget-view+json": {
       "model_id": "2d14e0e004b34593949f3f3172ff3aa2",
       "version_major": 2,
       "version_minor": 0
      },
      "text/plain": [
       "20240907:   0%|          | 0/308 [00:00<?, ?it/s]"
      ]
     },
     "metadata": {},
     "output_type": "display_data"
    },
    {
     "name": "stdout",
     "output_type": "stream",
     "text": [
      "Image is truncated or corrupted: /Users/rentaluser/Desktop/DIOPSIS-383/photos/20240907/20240907115736.jpg - cannot identify image file '/Users/rentaluser/Desktop/DIOPSIS-383/photos/20240907/20240907115736.jpg'\n",
      "Skipping this image.\n",
      "Image is truncated or corrupted: /Users/rentaluser/Desktop/DIOPSIS-383/photos/20240907/20240907232153.jpg - cannot identify image file '/Users/rentaluser/Desktop/DIOPSIS-383/photos/20240907/20240907232153.jpg'\n",
      "Skipping this image.\n",
      "Done detecting all the insects and saving cropped versions.\n",
      "Double-checking for faulty detections...\n",
      "Found 28 potentially faulty crops. Moved them to the potentially_faulty folder.\n",
      "--------\n",
      "Classifying crops now.\n",
      "The tree of life is growing: running BioClip algorithm for image classification now...\n",
      "Classified all images up to family-level\n",
      "--------\n",
      "Done classifying the insects. Measuring body lengths now...\n",
      "Length measurements ran clean\n",
      "--------\n",
      "Done measuring. Annotating all results onto cropped images now...\n",
      "--------\n",
      "Done with day! No length Errors occured :)\n",
      "Elapsed time: 30.24 minutes \n",
      "Time per Image: 5.89 seconds\n"
     ]
    },
    {
     "data": {
      "application/vnd.jupyter.widget-view+json": {
       "model_id": "a5c4b54c1e824634bfd88be8cc29a9e7",
       "version_major": 2,
       "version_minor": 0
      },
      "text/plain": [
       "20240908:   0%|          | 0/205 [00:00<?, ?it/s]"
      ]
     },
     "metadata": {},
     "output_type": "display_data"
    },
    {
     "name": "stdout",
     "output_type": "stream",
     "text": [
      "Done detecting all the insects and saving cropped versions.\n",
      "Double-checking for faulty detections...\n",
      "Found 12 potentially faulty crops. Moved them to the potentially_faulty folder.\n",
      "--------\n",
      "Classifying crops now.\n",
      "The tree of life is growing: running BioClip algorithm for image classification now...\n",
      "Classified all images up to family-level\n",
      "--------\n",
      "Done classifying the insects. Measuring body lengths now...\n",
      "Length measurements ran clean\n",
      "--------\n",
      "Done measuring. Annotating all results onto cropped images now...\n",
      "--------\n",
      "Done with day! No length Errors occured :)\n",
      "Elapsed time: 18.20 minutes \n",
      "Time per Image: 5.33 seconds\n"
     ]
    },
    {
     "data": {
      "application/vnd.jupyter.widget-view+json": {
       "model_id": "33dba70e7ac641c4a47f26b75f75181d",
       "version_major": 2,
       "version_minor": 0
      },
      "text/plain": [
       "20240909:   0%|          | 0/199 [00:00<?, ?it/s]"
      ]
     },
     "metadata": {},
     "output_type": "display_data"
    },
    {
     "name": "stdout",
     "output_type": "stream",
     "text": [
      "Done detecting all the insects and saving cropped versions.\n",
      "Double-checking for faulty detections...\n",
      "Found 2 potentially faulty crops. Moved them to the potentially_faulty folder.\n",
      "--------\n",
      "Classifying crops now.\n",
      "The tree of life is growing: running BioClip algorithm for image classification now...\n",
      "Classified all images up to family-level\n",
      "--------\n",
      "Done classifying the insects. Measuring body lengths now...\n",
      "Length measurements ran clean\n",
      "--------\n",
      "Done measuring. Annotating all results onto cropped images now...\n",
      "--------\n",
      "Done with day! No length Errors occured :)\n",
      "Elapsed time: 17.93 minutes \n",
      "Time per Image: 5.40 seconds\n"
     ]
    },
    {
     "data": {
      "application/vnd.jupyter.widget-view+json": {
       "model_id": "eb2aa7464734444db5d4431d72791645",
       "version_major": 2,
       "version_minor": 0
      },
      "text/plain": [
       "20240910:   0%|          | 0/207 [00:00<?, ?it/s]"
      ]
     },
     "metadata": {},
     "output_type": "display_data"
    },
    {
     "name": "stdout",
     "output_type": "stream",
     "text": [
      "Done detecting all the insects and saving cropped versions.\n",
      "Double-checking for faulty detections...\n",
      "Found 2 potentially faulty crops. Moved them to the potentially_faulty folder.\n",
      "--------\n",
      "Classifying crops now.\n",
      "The tree of life is growing: running BioClip algorithm for image classification now...\n",
      "Classified all images up to family-level\n",
      "--------\n",
      "Done classifying the insects. Measuring body lengths now...\n",
      "Length measurements ran clean\n",
      "--------\n",
      "Done measuring. Annotating all results onto cropped images now...\n",
      "--------\n",
      "Done with day! No length Errors occured :)\n",
      "Elapsed time: 15.12 minutes \n",
      "Time per Image: 4.38 seconds\n"
     ]
    },
    {
     "data": {
      "application/vnd.jupyter.widget-view+json": {
       "model_id": "60d6910abd0743bc895a9cde1cee36d8",
       "version_major": 2,
       "version_minor": 0
      },
      "text/plain": [
       "20240911:   0%|          | 0/169 [00:00<?, ?it/s]"
      ]
     },
     "metadata": {},
     "output_type": "display_data"
    },
    {
     "name": "stdout",
     "output_type": "stream",
     "text": [
      "Done detecting all the insects and saving cropped versions.\n",
      "Double-checking for faulty detections...\n",
      "Found 2 potentially faulty crops. Moved them to the potentially_faulty folder.\n",
      "--------\n",
      "Classifying crops now.\n",
      "The tree of life is growing: running BioClip algorithm for image classification now...\n",
      "Classified all images up to family-level\n",
      "--------\n",
      "Done classifying the insects. Measuring body lengths now...\n",
      "Length measurements ran clean\n",
      "--------\n",
      "Done measuring. Annotating all results onto cropped images now...\n",
      "--------\n",
      "Done with day! No length Errors occured :)\n",
      "Elapsed time: 13.66 minutes \n",
      "Time per Image: 4.85 seconds\n"
     ]
    },
    {
     "data": {
      "application/vnd.jupyter.widget-view+json": {
       "model_id": "d241ff4dfe9d44b0bd3c6fa587625e70",
       "version_major": 2,
       "version_minor": 0
      },
      "text/plain": [
       "20240912:   0%|          | 0/178 [00:00<?, ?it/s]"
      ]
     },
     "metadata": {},
     "output_type": "display_data"
    },
    {
     "name": "stdout",
     "output_type": "stream",
     "text": [
      "Done detecting all the insects and saving cropped versions.\n",
      "Double-checking for faulty detections...\n",
      "Found 2 potentially faulty crops. Moved them to the potentially_faulty folder.\n",
      "--------\n",
      "No crops available for further analysis\n",
      "Classifying crops now.\n",
      "Done measuring. Annotating all results onto cropped images now...\n",
      "No BioClip results found.\n",
      "--------\n",
      "Done with day! No length Errors occured :)\n",
      "Elapsed time: 11.74 minutes \n",
      "Time per Image: 3.96 seconds\n"
     ]
    },
    {
     "data": {
      "application/vnd.jupyter.widget-view+json": {
       "model_id": "8075b632895648adb79aa6d71d8dd20c",
       "version_major": 2,
       "version_minor": 0
      },
      "text/plain": [
       "20240913:   0%|          | 0/194 [00:00<?, ?it/s]"
      ]
     },
     "metadata": {},
     "output_type": "display_data"
    },
    {
     "name": "stdout",
     "output_type": "stream",
     "text": [
      "Done detecting all the insects and saving cropped versions.\n",
      "Double-checking for faulty detections...\n",
      "Found 5 potentially faulty crops. Moved them to the potentially_faulty folder.\n",
      "--------\n",
      "No crops available for further analysis\n",
      "Classifying crops now.\n",
      "Done measuring. Annotating all results onto cropped images now...\n",
      "No BioClip results found.\n",
      "--------\n",
      "Done with day! No length Errors occured :)\n",
      "Elapsed time: 11.52 minutes \n",
      "Time per Image: 3.56 seconds\n"
     ]
    },
    {
     "data": {
      "application/vnd.jupyter.widget-view+json": {
       "model_id": "aba67c891c74471185713e4bb925c3d8",
       "version_major": 2,
       "version_minor": 0
      },
      "text/plain": [
       "20240914:   0%|          | 0/155 [00:00<?, ?it/s]"
      ]
     },
     "metadata": {},
     "output_type": "display_data"
    },
    {
     "name": "stdout",
     "output_type": "stream",
     "text": [
      "Done detecting all the insects and saving cropped versions.\n",
      "Double-checking for faulty detections...\n",
      "Found 1 potentially faulty crops. Moved them to the potentially_faulty folder.\n",
      "--------\n",
      "No crops available for further analysis\n",
      "Classifying crops now.\n",
      "Done measuring. Annotating all results onto cropped images now...\n",
      "No BioClip results found.\n",
      "--------\n",
      "Done with day! No length Errors occured :)\n",
      "Elapsed time: 10.94 minutes \n",
      "Time per Image: 4.24 seconds\n"
     ]
    },
    {
     "data": {
      "application/vnd.jupyter.widget-view+json": {
       "model_id": "1146936861d044a4a55cce6f64dd5ea3",
       "version_major": 2,
       "version_minor": 0
      },
      "text/plain": [
       "20240915:   0%|          | 0/150 [00:00<?, ?it/s]"
      ]
     },
     "metadata": {},
     "output_type": "display_data"
    },
    {
     "name": "stdout",
     "output_type": "stream",
     "text": [
      "Done detecting all the insects and saving cropped versions.\n",
      "Double-checking for faulty detections...\n",
      "Found 7 potentially faulty crops. Moved them to the potentially_faulty folder.\n",
      "--------\n",
      "No crops available for further analysis\n",
      "Classifying crops now.\n",
      "Done measuring. Annotating all results onto cropped images now...\n",
      "No BioClip results found.\n",
      "--------\n",
      "Done with day! No length Errors occured :)\n",
      "Elapsed time: 10.42 minutes \n",
      "Time per Image: 4.17 seconds\n"
     ]
    },
    {
     "data": {
      "application/vnd.jupyter.widget-view+json": {
       "model_id": "b1a171c4c01b4057a5377f1d0b7c3d42",
       "version_major": 2,
       "version_minor": 0
      },
      "text/plain": [
       "20240916:   0%|          | 0/76 [00:00<?, ?it/s]"
      ]
     },
     "metadata": {},
     "output_type": "display_data"
    },
    {
     "name": "stdout",
     "output_type": "stream",
     "text": [
      "Done detecting all the insects and saving cropped versions.\n",
      "No crops available for further analysis\n",
      "Double-checking for faulty detections...\n",
      "No crops available for further analysis\n",
      "Classifying crops now.\n",
      "Done measuring. Annotating all results onto cropped images now...\n",
      "No BioClip results found.\n",
      "--------\n",
      "Done with day! No length Errors occured :)\n",
      "Elapsed time: 2.31 minutes \n",
      "Time per Image: 1.83 seconds\n"
     ]
    },
    {
     "data": {
      "application/vnd.jupyter.widget-view+json": {
       "model_id": "8edf79eaa5b446ec97b716eef88f388a",
       "version_major": 2,
       "version_minor": 0
      },
      "text/plain": [
       "20240917:   0%|          | 0/184 [00:00<?, ?it/s]"
      ]
     },
     "metadata": {},
     "output_type": "display_data"
    },
    {
     "name": "stdout",
     "output_type": "stream",
     "text": [
      "Done detecting all the insects and saving cropped versions.\n",
      "Double-checking for faulty detections...\n",
      "Found 1 potentially faulty crops. Moved them to the potentially_faulty folder.\n",
      "--------\n",
      "Classifying crops now.\n",
      "The tree of life is growing: running BioClip algorithm for image classification now...\n",
      "Classified all images up to family-level\n",
      "--------\n",
      "Done classifying the insects. Measuring body lengths now...\n",
      "Length measurements ran clean\n",
      "--------\n",
      "Done measuring. Annotating all results onto cropped images now...\n",
      "--------\n",
      "Done with day! No length Errors occured :)\n",
      "Elapsed time: 11.94 minutes \n",
      "Time per Image: 3.89 seconds\n"
     ]
    },
    {
     "data": {
      "application/vnd.jupyter.widget-view+json": {
       "model_id": "fb9cdf93ad584511a261b69fb5472c96",
       "version_major": 2,
       "version_minor": 0
      },
      "text/plain": [
       "20240918:   0%|          | 0/120 [00:00<?, ?it/s]"
      ]
     },
     "metadata": {},
     "output_type": "display_data"
    },
    {
     "name": "stdout",
     "output_type": "stream",
     "text": [
      "Done detecting all the insects and saving cropped versions.\n",
      "Double-checking for faulty detections...\n",
      "Found 2 potentially faulty crops. Moved them to the potentially_faulty folder.\n",
      "--------\n",
      "Classifying crops now.\n",
      "The tree of life is growing: running BioClip algorithm for image classification now...\n",
      "Classified all images up to family-level\n",
      "--------\n",
      "Done classifying the insects. Measuring body lengths now...\n",
      "Length measurements ran clean\n",
      "--------\n",
      "Done measuring. Annotating all results onto cropped images now...\n",
      "--------\n",
      "Done with day! No length Errors occured :)\n",
      "Elapsed time: 9.19 minutes \n",
      "Time per Image: 4.60 seconds\n",
      "Merging all results csv into one...\n",
      "No results for day 20240912\n",
      "No results for day 20240913\n",
      "No results for day 20240914\n",
      "No results for day 20240915\n",
      "No results for day 20240916\n",
      "Time elapsed in total: 37.93 hours\n",
      "Pipeline took 26.46 minutes per day on average\n",
      "All inferences ran clean :)\n"
     ]
    }
   ],
   "source": [
    "settings = get_values()\n",
    "global_start_time = time.time()\n",
    "\n",
    "global_error = False\n",
    "classifier = TreeOfLifeClassifier()\n",
    "tracker = AMTTracker(config)\n",
    "object_detector = load_grounding_dino_model()\n",
    "\n",
    "image_folders = [folder for folder in os.listdir(os.path.join(DIOPSIS_folder, \"photos\")) if not folder.startswith('.')]\n",
    "image_folders = sorted(image_folders)\n",
    "\n",
    "for img_folder in image_folders[:]: #  <------------------------------HERE----------------------------------------HERE-------------------------\n",
    "    image_folder = os.path.join(DIOPSIS_folder, \"photos\", img_folder)\n",
    "    start_time = time.time()\n",
    "    \n",
    "    start_processing = False\n",
    "    blobs = []\n",
    "    trails = {}\n",
    "    first_pass = True\n",
    "    images = os.listdir(image_folder)\n",
    "    images = sorted(images)\n",
    "    \n",
    "    for image in tqdm(images, desc = img_folder):\n",
    "        image_arg = os.path.join(image_folder, image)\n",
    "        skip, start_processing = should_image_be_skipped(settings.start_image, start_processing, image_arg, image, image_folder)\n",
    "        if skip:\n",
    "            continue\n",
    "        detections = detect(\n",
    "            object_detector,\n",
    "            image=image_arg,\n",
    "            labels=labels,\n",
    "            threshold=threshold\n",
    "        )\n",
    "        #print(\"Nr. of detections:\", len(detections))\n",
    "        image_array = Image.open(image_arg)\n",
    "        image_array = np.array(image_array)\n",
    "        blobs = convert_bounding_boxes(detections, image, image_array, image_folder, buffer)\n",
    "        if first_pass:\n",
    "            tracker.savedois = blobs\n",
    "        new_tracks, _ = tracker.managetracks(tracker.savedois, blobs, first_pass)\n",
    "        tracker.savedois = new_tracks\n",
    "        first_pass = False\n",
    "    \n",
    "        if settings.save_visualisation:\n",
    "            plot_tracks_and_detections(image_array, new_tracks, image)\n",
    "    \n",
    "    #print(\"--------\")\n",
    "    \n",
    "    ## Classifying the cropped images\n",
    "    print(\"Done detecting all the insects and saving cropped versions.\")\n",
    "\n",
    "    # Checking if there are any crops to be analyzed\n",
    "    crops_available, crops_folder, crops_filepaths = are_crops_available(image_folder)\n",
    "    \n",
    "    print(\"Double-checking for faulty detections...\")\n",
    "    if crops_available:\n",
    "        Apollo_script_path = os.path.join(envs_path, \"ApolloNet\", \"Intro-to-CV-for-Ecologists-main\", \"inference_dirt_classifier.py\")\n",
    "        Apollo_command = f'conda run -n ApolloNet python \"{Apollo_script_path}\" \"{crops_folder}\"'\n",
    "        Apollo = subprocess.run(Apollo_command, shell=True, capture_output=True, text=True)\n",
    "        if Apollo.returncode != 0:\n",
    "            print(Apollo.stderr)\n",
    "            global_error = True\n",
    "        else:\n",
    "            matches = re.search(r\"HERE (\\d+)\", Apollo.stdout)\n",
    "            matches = int(matches.group(1))\n",
    "            if matches > 0:\n",
    "                print(f\"Found {matches} potentially faulty crops. Moved them to the potentially_faulty folder.\\n--------\")\n",
    "            else:\n",
    "                print(\"All crops seem to be insects :)\\n--------\")\n",
    "                \n",
    "    crops_available, crops_folder, crops_filepaths = are_crops_available(image_folder)\n",
    "    \n",
    "    print(\"Classifying crops now.\")\n",
    "    \n",
    "    if settings.InsectDetect and crops_available:\n",
    "        print(\"InsectDetect classifier running...\")\n",
    "        os.chdir(os.path.join(envs_path, \"InsectDetectSAM\", \"yolov5-cls\"))\n",
    "        print(\"Working directory is now:\", os.getcwd())\n",
    "        !python classify/predict.py --project {image_folder} --name results --source {crops_folder} --weights \"insect-detect-ml-main/models/efficientnet-b0_imgsz128.onnx\" --img 128 --sort-top1 --sort-prob --concat-csv\n",
    "        print(\"--------\")\n",
    "    \n",
    "    if settings.ApolloNet and crops_available:\n",
    "        print(\"Performing ApolloNet Classification :)\")\n",
    "        Apollo_script_path = os.path.join(envs_path, \"ApolloNet\", \"Intro-to-CV-for-Ecologists-main\", \"inference.py\")\n",
    "        Apollo_command = f'conda run -n ApolloNet python \"{Apollo_script_path}\" \"{crops_folder}\"'\n",
    "        Apollo = subprocess.run(Apollo_command, shell=True, capture_output=True, text=True)\n",
    "        if Apollo.returncode != 0:\n",
    "            print(Apollo.stderr)\n",
    "            global_error = True\n",
    "        else:\n",
    "            print(\"ApolloNet ran clean\\n--------\")\n",
    "    \n",
    "    if settings.BioClip and crops_available:\n",
    "        print(\"The tree of life is growing: running BioClip algorithm for image classification now...\")\n",
    "        BioClip_predictions = BioClip_inference(classifier, crops_filepaths, settings.rank, certainty_threshold = 0.45)\n",
    "        if len(BioClip_predictions) > 0:\n",
    "            clean_predictions = process_BioClip_predictions(BioClip_predictions, image_folder, settings.rank)\n",
    "        print(\"--------\")\n",
    "        \n",
    "    if crops_available:\n",
    "        print(\"Done classifying the insects. Measuring body lengths now...\")\n",
    "        length_script_path = os.path.join(envs_path, \"sleap\", \"body_length_inference_folder.py\")\n",
    "        command = f'conda run -n sleap python \"{length_script_path}\" \"{crops_folder}\" \"{pixel_scale}\"'\n",
    "        ran_clean = subprocess.run(command, shell=True, capture_output=True, text=True)\n",
    "        if ran_clean.returncode != 0:\n",
    "            print(f\"stdout = {ran_clean.stdout}\")\n",
    "            traceback_index = ran_clean.stderr.find(\"Traceback\")\n",
    "            print(ran_clean.stderr[traceback_index:])\n",
    "            global_error = True\n",
    "        else:\n",
    "            print(\"Length measurements ran clean\\n--------\")\n",
    "        \n",
    "        merge_result_csvs(image_folder)\n",
    "        \n",
    "    \n",
    "    print(\"Done measuring. Annotating all results onto cropped images now...\")\n",
    "    results_csv = get_classification_results_csv(image_folder, settings.annotation_algorithm)\n",
    "    input_folder = os.path.join(image_folder, \"cropped_and_annotated\")\n",
    "    length_csv_file_path = os.path.join(image_folder, \"results\", \"body_length_results.csv\")\n",
    "    \n",
    "    if results_csv is not None and crops_available:\n",
    "        annotate_classifications(classification_results_csv = results_csv, body_length_csv = length_csv_file_path,\n",
    "                                 cropped_images_folder = input_folder, image_folder = image_folder, pixel_scale = pixel_scale,\n",
    "                                annotation_algorithm = settings.annotation_algorithm)\n",
    "    \n",
    "    print(\"--------\")\n",
    "    \n",
    "    end_time = time.time()\n",
    "    elapsed_time = end_time - start_time\n",
    "    \n",
    "    print(f\"Done with day! No length Errors occured :)\\nElapsed time: {elapsed_time/60:.2f} minutes \\nTime per Image: {elapsed_time/len(images):.2f} seconds\")\n",
    "\n",
    "print(\"Merging all results csv into one...\")\n",
    "merge_all_results(DIOPSIS_folder)\n",
    "\n",
    "global_end_time = time.time()\n",
    "global_elapsed_time = global_end_time - global_start_time\n",
    "\n",
    "print(f\"Time elapsed in total: {(global_elapsed_time/60)/60:.2f} hours\")\n",
    "print(f\"Pipeline took {round((global_elapsed_time/len(image_folders))/60, 2)} minutes per day on average\")\n",
    "if not global_error:\n",
    "    print(\"All inferences ran clean :)\")\n",
    "else:\n",
    "    print(\"WARNING: At least one inference error occured somewhere :(\")"
   ]
  },
  {
   "cell_type": "code",
   "execution_count": null,
   "id": "8deb8ad3-3535-41d0-9117-13ae5fc0ba4f",
   "metadata": {},
   "outputs": [],
   "source": []
  }
 ],
 "metadata": {
  "kernelspec": {
   "display_name": "Python 3 (ipykernel)",
   "language": "python",
   "name": "python3"
  },
  "language_info": {
   "codemirror_mode": {
    "name": "ipython",
    "version": 3
   },
   "file_extension": ".py",
   "mimetype": "text/x-python",
   "name": "python",
   "nbconvert_exporter": "python",
   "pygments_lexer": "ipython3",
   "version": "3.12.4"
  }
 },
 "nbformat": 4,
 "nbformat_minor": 5
}
