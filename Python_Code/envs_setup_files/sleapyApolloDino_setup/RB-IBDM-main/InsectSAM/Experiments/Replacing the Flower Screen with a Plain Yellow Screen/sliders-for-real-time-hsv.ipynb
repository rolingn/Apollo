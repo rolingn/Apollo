{
 "cells": [
  {
   "cell_type": "markdown",
   "metadata": {},
   "source": [
    "# Sliders for Real-Time Adjustment of HSV Ranges:\n",
    "Another method to get the HSV ranges and adjust the sliders in real-time to see what mask is created from the current slider values."
   ]
  },
  {
   "cell_type": "code",
   "execution_count": 4,
   "metadata": {},
   "outputs": [
    {
     "data": {
      "application/vnd.jupyter.widget-view+json": {
       "model_id": "628a5c0310264eaba51b8daa0c105fb1",
       "version_major": 2,
       "version_minor": 0
      },
      "text/plain": [
       "VBox(children=(IntSlider(value=0, description='LowerH', max=179), IntSlider(value=0, description='LowerS', max…"
      ]
     },
     "metadata": {},
     "output_type": "display_data"
    }
   ],
   "source": [
    "import cv2\n",
    "import numpy as np\n",
    "import ipywidgets as widgets\n",
    "from IPython.display import display\n",
    "import matplotlib.pyplot as plt \n",
    "\n",
    "# Load the image\n",
    "image_path = './data/flower-day-1.jpeg'\n",
    "image = cv2.imread(image_path)\n",
    "hsv = cv2.cvtColor(image, cv2.COLOR_BGR2HSV)\n",
    "\n",
    "# Create widgets for the lower and upper HSV values\n",
    "lower_h = widgets.IntSlider(min=0, max=179, step=1, value=0, description='LowerH')\n",
    "lower_s = widgets.IntSlider(min=0, max=255, step=1, value=0, description='LowerS')\n",
    "lower_v = widgets.IntSlider(min=0, max=255, step=1, value=0, description='LowerV')\n",
    "upper_h = widgets.IntSlider(min=0, max=179, step=1, value=179, description='UpperH')\n",
    "upper_s = widgets.IntSlider(min=0, max=255, step=1, value=255, description='UpperS')\n",
    "upper_v = widgets.IntSlider(min=0, max=255, step=1, value=255, description='UpperV')\n",
    "\n",
    "# A container for the interactive output (image display)\n",
    "output = widgets.Output()\n",
    "\n",
    "# Update the image based on the current trackbar positions\n",
    "def update_image(change):\n",
    "    lower_color = np.array([lower_h.value, lower_s.value, lower_v.value])\n",
    "    upper_color = np.array([upper_h.value, upper_s.value, upper_v.value])\n",
    "    mask = cv2.inRange(hsv, lower_color, upper_color)\n",
    "    result = cv2.bitwise_and(image, image, mask=mask)\n",
    "    \n",
    "    with output:\n",
    "        output.clear_output(wait=True)  # Clear the previous image\n",
    "        # Convert color space from BGR to RGB for displaying\n",
    "        display_mask = cv2.cvtColor(mask, cv2.COLOR_GRAY2RGB)\n",
    "        display_result = cv2.cvtColor(result, cv2.COLOR_BGR2RGB)\n",
    "        # Stack the images horizontally\n",
    "        combined = np.hstack((display_mask, display_result))\n",
    "        # Increase figure size\n",
    "        plt.figure(figsize=(15,10))\n",
    "        plt.imshow(combined)\n",
    "        plt.axis('off')\n",
    "        plt.show()\n",
    "\n",
    "# Observe changes in each slider\n",
    "lower_h.observe(update_image, names='value')\n",
    "lower_s.observe(update_image, names='value')\n",
    "lower_v.observe(update_image, names='value')\n",
    "upper_h.observe(update_image, names='value')\n",
    "upper_s.observe(update_image, names='value')\n",
    "upper_v.observe(update_image, names='value')\n",
    "\n",
    "# Display the sliders and the interactive output\n",
    "display_widgets = widgets.VBox([\n",
    "    lower_h, lower_s, lower_v,\n",
    "    upper_h, upper_s, upper_v,\n",
    "    output\n",
    "])\n",
    "display(display_widgets)\n",
    "\n",
    "# Initial update so that the image is displayed right away\n",
    "update_image(None)\n"
   ]
  },
  {
   "cell_type": "code",
   "execution_count": null,
   "metadata": {},
   "outputs": [],
   "source": []
  }
 ],
 "metadata": {
  "kernelspec": {
   "display_name": "Python 3",
   "language": "python",
   "name": "python3"
  },
  "language_info": {
   "codemirror_mode": {
    "name": "ipython",
    "version": 3
   },
   "file_extension": ".py",
   "mimetype": "text/x-python",
   "name": "python",
   "nbconvert_exporter": "python",
   "pygments_lexer": "ipython3",
   "version": "3.8.18"
  }
 },
 "nbformat": 4,
 "nbformat_minor": 2
}
